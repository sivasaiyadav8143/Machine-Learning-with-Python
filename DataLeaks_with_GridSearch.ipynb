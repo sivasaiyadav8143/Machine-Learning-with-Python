{
  "nbformat": 4,
  "nbformat_minor": 0,
  "metadata": {
    "colab": {
      "name": "DataLeaks with GridSearch.ipynb",
      "provenance": [],
      "collapsed_sections": [],
      "authorship_tag": "ABX9TyN+FAxpCnwkM8VSNcYnin/s",
      "include_colab_link": true
    },
    "kernelspec": {
      "name": "python3",
      "display_name": "Python 3"
    }
  },
  "cells": [
    {
      "cell_type": "markdown",
      "metadata": {
        "id": "view-in-github",
        "colab_type": "text"
      },
      "source": [
        "<a href=\"https://colab.research.google.com/github/sivasaiyadav8143/Machine-Learning-with-Python/blob/master/DataLeaks_with_GridSearch.ipynb\" target=\"_parent\"><img src=\"https://colab.research.google.com/assets/colab-badge.svg\" alt=\"Open In Colab\"/></a>"
      ]
    },
    {
      "cell_type": "markdown",
      "metadata": {
        "id": "eawrgOzCTXQQ",
        "colab_type": "text"
      },
      "source": [
        "## GirdSearch causes DataLeaks when for some operations like z-score, Imuputer etc.This notebook demonstrates who actuallly GirdSearch lead to DataLeaks and how to fix it."
      ]
    },
    {
      "cell_type": "code",
      "metadata": {
        "id": "Gi3a4e45IyJj",
        "colab_type": "code",
        "colab": {}
      },
      "source": [
        "#import required libraries\n",
        "from sklearn.datasets import load_breast_cancer\n",
        "from sklearn.svm import SVC\n",
        "from sklearn.preprocessing import StandardScaler\n",
        "from sklearn.model_selection import train_test_split"
      ],
      "execution_count": 61,
      "outputs": []
    },
    {
      "cell_type": "code",
      "metadata": {
        "id": "XgP-kvQrJJxc",
        "colab_type": "code",
        "colab": {}
      },
      "source": [
        "# split data into train and test\n",
        "X_train,X_test,y_train,y_test = train_test_split(load_breast_cancer().data,load_breast_cancer().target,random_state=14)"
      ],
      "execution_count": 3,
      "outputs": []
    },
    {
      "cell_type": "markdown",
      "metadata": {
        "id": "B46RVg9DJwNp",
        "colab_type": "text"
      },
      "source": [
        "## Without Pipeline & Grid Search"
      ]
    },
    {
      "cell_type": "code",
      "metadata": {
        "id": "hEh7Rb44Jg8o",
        "colab_type": "code",
        "colab": {}
      },
      "source": [
        "#initialize StandardScaler and transform the data\n",
        "std = StandardScaler()\n",
        "X_train_scale = std.fit_transform(X_train)\n",
        "X_test_scale = std.transform(X_test)"
      ],
      "execution_count": 62,
      "outputs": []
    },
    {
      "cell_type": "code",
      "metadata": {
        "id": "kEYEMbiWKMX9",
        "colab_type": "code",
        "colab": {
          "base_uri": "https://localhost:8080/",
          "height": 51
        },
        "outputId": "7b05c654-1c46-4772-dc15-8b09ee0cffdb"
      },
      "source": [
        "#initialize suport vector classifier\n",
        "svc = SVC()\n",
        "svc.fit(X_train_scale,y_train)\n",
        "print('Training score',svc.score(X_train_scale,y_train))\n",
        "print('Testing score',svc.score(X_test_scale,y_test))"
      ],
      "execution_count": 64,
      "outputs": [
        {
          "output_type": "stream",
          "text": [
            "Training score 0.9882629107981221\n",
            "Testing score 0.986013986013986\n"
          ],
          "name": "stdout"
        }
      ]
    },
    {
      "cell_type": "markdown",
      "metadata": {
        "id": "N3zb_zofKsK0",
        "colab_type": "text"
      },
      "source": [
        "## Pipeline"
      ]
    },
    {
      "cell_type": "code",
      "metadata": {
        "id": "KOPSAQLYKi7j",
        "colab_type": "code",
        "colab": {
          "base_uri": "https://localhost:8080/",
          "height": 187
        },
        "outputId": "83da09c5-d85a-4885-c723-5d82415c7ce0"
      },
      "source": [
        "from sklearn.pipeline import make_pipeline\n",
        "\n",
        "#initialize make_pipe  and other objetcs\n",
        "make_pipe = make_pipeline(StandardScaler(),SVC())\n",
        "make_pipe.fit(X_train,y_train)"
      ],
      "execution_count": 65,
      "outputs": [
        {
          "output_type": "execute_result",
          "data": {
            "text/plain": [
              "Pipeline(memory=None,\n",
              "         steps=[('standardscaler',\n",
              "                 StandardScaler(copy=True, with_mean=True, with_std=True)),\n",
              "                ('svc',\n",
              "                 SVC(C=1.0, break_ties=False, cache_size=200, class_weight=None,\n",
              "                     coef0=0.0, decision_function_shape='ovr', degree=3,\n",
              "                     gamma='scale', kernel='rbf', max_iter=-1,\n",
              "                     probability=False, random_state=None, shrinking=True,\n",
              "                     tol=0.001, verbose=False))],\n",
              "         verbose=False)"
            ]
          },
          "metadata": {
            "tags": []
          },
          "execution_count": 65
        }
      ]
    },
    {
      "cell_type": "code",
      "metadata": {
        "id": "GU6elFNiLDhg",
        "colab_type": "code",
        "colab": {
          "base_uri": "https://localhost:8080/",
          "height": 51
        },
        "outputId": "debd1622-7926-4f17-b477-8bcfd0720793"
      },
      "source": [
        "print('Training score',make_pipe.score(X_train,y_train))\n",
        "print('Testing score',make_pipe.score(X_test,y_test))"
      ],
      "execution_count": 66,
      "outputs": [
        {
          "output_type": "stream",
          "text": [
            "Training score 0.9882629107981221\n",
            "Testing score 0.986013986013986\n"
          ],
          "name": "stdout"
        }
      ]
    },
    {
      "cell_type": "markdown",
      "metadata": {
        "id": "PXU4j7q7LTFP",
        "colab_type": "text"
      },
      "source": [
        "## Grid Search"
      ]
    },
    {
      "cell_type": "code",
      "metadata": {
        "id": "tVlkRWmqLQ7D",
        "colab_type": "code",
        "colab": {
          "base_uri": "https://localhost:8080/",
          "height": 221
        },
        "outputId": "c31b0686-8714-4840-fa79-0ae98f800c27"
      },
      "source": [
        "from sklearn.model_selection import GridSearchCV\n",
        "\n",
        "grid_params = {'C': [0.001, 0.01, 0.1, 1.0, 10, 100], 'gamma':['scale','auto',0.001,0.1, 0.01, 10, 100,]}\n",
        "\n",
        "grid = GridSearchCV(svc,grid_params,cv = 5)\n",
        "grid.fit(X_train_scale,y_train)"
      ],
      "execution_count": 67,
      "outputs": [
        {
          "output_type": "execute_result",
          "data": {
            "text/plain": [
              "GridSearchCV(cv=5, error_score=nan,\n",
              "             estimator=SVC(C=1.0, break_ties=False, cache_size=200,\n",
              "                           class_weight=None, coef0=0.0,\n",
              "                           decision_function_shape='ovr', degree=3,\n",
              "                           gamma='scale', kernel='rbf', max_iter=-1,\n",
              "                           probability=False, random_state=None, shrinking=True,\n",
              "                           tol=0.001, verbose=False),\n",
              "             iid='deprecated', n_jobs=None,\n",
              "             param_grid={'C': [0.001, 0.01, 0.1, 1.0, 10, 100],\n",
              "                         'gamma': ['scale', 'auto', 0.001, 0.1, 0.01, 10, 100]},\n",
              "             pre_dispatch='2*n_jobs', refit=True, return_train_score=False,\n",
              "             scoring=None, verbose=0)"
            ]
          },
          "metadata": {
            "tags": []
          },
          "execution_count": 67
        }
      ]
    },
    {
      "cell_type": "code",
      "metadata": {
        "id": "La1iWH72MQNr",
        "colab_type": "code",
        "colab": {
          "base_uri": "https://localhost:8080/",
          "height": 34
        },
        "outputId": "5df9524f-1660-4132-92ce-db09fae65351"
      },
      "source": [
        "grid.best_params_"
      ],
      "execution_count": 68,
      "outputs": [
        {
          "output_type": "execute_result",
          "data": {
            "text/plain": [
              "{'C': 10, 'gamma': 0.01}"
            ]
          },
          "metadata": {
            "tags": []
          },
          "execution_count": 68
        }
      ]
    },
    {
      "cell_type": "code",
      "metadata": {
        "id": "JS3JOFidMXcB",
        "colab_type": "code",
        "colab": {
          "base_uri": "https://localhost:8080/",
          "height": 34
        },
        "outputId": "e220442b-3021-41e5-a86b-c587a060bf7a"
      },
      "source": [
        "grid.best_score_"
      ],
      "execution_count": 69,
      "outputs": [
        {
          "output_type": "execute_result",
          "data": {
            "text/plain": [
              "0.9765526675786594"
            ]
          },
          "metadata": {
            "tags": []
          },
          "execution_count": 69
        }
      ]
    },
    {
      "cell_type": "code",
      "metadata": {
        "id": "1IVnvNQOMaek",
        "colab_type": "code",
        "colab": {
          "base_uri": "https://localhost:8080/",
          "height": 34
        },
        "outputId": "cb17515a-5fd4-4bb9-9b20-1ae57578f65f"
      },
      "source": [
        "grid.score(X_test_scale,y_test)"
      ],
      "execution_count": 70,
      "outputs": [
        {
          "output_type": "execute_result",
          "data": {
            "text/plain": [
              "0.986013986013986"
            ]
          },
          "metadata": {
            "tags": []
          },
          "execution_count": 70
        }
      ]
    },
    {
      "cell_type": "markdown",
      "metadata": {
        "id": "4qreDzIcN_4w",
        "colab_type": "text"
      },
      "source": [
        "Grid search alone cause data leaks during the cross validation when we perform some operations that calculates on whole training data like z-score / StandardScalar.In z-score, mean and Standard Deviation are calculated on whole training data.When Grid search splits the data using cross validation into train & test blocks,the data in the train blocks will influence by the data in the data test block because the mean & S.D is calculated on train set which is combination of cross validation train and test data.<br>\n",
        "To aviod data leakes, we use pipeline with Grid Search."
      ]
    },
    {
      "cell_type": "markdown",
      "metadata": {
        "id": "nNBq-mf9Nu2Q",
        "colab_type": "text"
      },
      "source": [
        "## Grid Search with Pipeline"
      ]
    },
    {
      "cell_type": "code",
      "metadata": {
        "id": "7sxLeUCRM0KK",
        "colab_type": "code",
        "colab": {
          "base_uri": "https://localhost:8080/",
          "height": 408
        },
        "outputId": "934d5228-b6f3-4e98-de63-f755a09cd14d"
      },
      "source": [
        "make_pipe = make_pipeline(StandardScaler(),SVC())\n",
        "\n",
        "grid_params = {'svc__C': [0.001, 0.01, 0.1, 1.0, 10, 100], 'svc__gamma':['scale','auto',0.001,0.1, 0.01, 10, 100,]}\n",
        "\n",
        "grid_ = GridSearchCV(make_pipe,grid_params,cv = 5)\n",
        "grid_.fit(X_train,y_train)\n"
      ],
      "execution_count": 71,
      "outputs": [
        {
          "output_type": "execute_result",
          "data": {
            "text/plain": [
              "GridSearchCV(cv=5, error_score=nan,\n",
              "             estimator=Pipeline(memory=None,\n",
              "                                steps=[('standardscaler',\n",
              "                                        StandardScaler(copy=True,\n",
              "                                                       with_mean=True,\n",
              "                                                       with_std=True)),\n",
              "                                       ('svc',\n",
              "                                        SVC(C=1.0, break_ties=False,\n",
              "                                            cache_size=200, class_weight=None,\n",
              "                                            coef0=0.0,\n",
              "                                            decision_function_shape='ovr',\n",
              "                                            degree=3, gamma='scale',\n",
              "                                            kernel='rbf', max_iter=-1,\n",
              "                                            probability=False,\n",
              "                                            random_state=None, shrinking=True,\n",
              "                                            tol=0.001, verbose=False))],\n",
              "                                verbose=False),\n",
              "             iid='deprecated', n_jobs=None,\n",
              "             param_grid={'svc__C': [0.001, 0.01, 0.1, 1.0, 10, 100],\n",
              "                         'svc__gamma': ['scale', 'auto', 0.001, 0.1, 0.01, 10,\n",
              "                                        100]},\n",
              "             pre_dispatch='2*n_jobs', refit=True, return_train_score=False,\n",
              "             scoring=None, verbose=0)"
            ]
          },
          "metadata": {
            "tags": []
          },
          "execution_count": 71
        }
      ]
    },
    {
      "cell_type": "code",
      "metadata": {
        "id": "BZ4q4hWiQ22X",
        "colab_type": "code",
        "colab": {
          "base_uri": "https://localhost:8080/",
          "height": 34
        },
        "outputId": "52cbe5db-8caa-45b3-efad-c30a7a662e24"
      },
      "source": [
        "grid_.best_params_"
      ],
      "execution_count": 72,
      "outputs": [
        {
          "output_type": "execute_result",
          "data": {
            "text/plain": [
              "{'svc__C': 1.0, 'svc__gamma': 'scale'}"
            ]
          },
          "metadata": {
            "tags": []
          },
          "execution_count": 72
        }
      ]
    },
    {
      "cell_type": "code",
      "metadata": {
        "id": "fSLWTgbcRKAb",
        "colab_type": "code",
        "colab": {
          "base_uri": "https://localhost:8080/",
          "height": 34
        },
        "outputId": "8239b045-1608-4b0d-d096-d5e97b2407c6"
      },
      "source": [
        "grid_.best_score_"
      ],
      "execution_count": 73,
      "outputs": [
        {
          "output_type": "execute_result",
          "data": {
            "text/plain": [
              "0.976497948016416"
            ]
          },
          "metadata": {
            "tags": []
          },
          "execution_count": 73
        }
      ]
    },
    {
      "cell_type": "code",
      "metadata": {
        "id": "kpnCQxV_RNTD",
        "colab_type": "code",
        "colab": {
          "base_uri": "https://localhost:8080/",
          "height": 34
        },
        "outputId": "adcef44b-7b1f-42b7-fe7b-1671cbae6e92"
      },
      "source": [
        "grid_.score(X_test,y_test)"
      ],
      "execution_count": 74,
      "outputs": [
        {
          "output_type": "execute_result",
          "data": {
            "text/plain": [
              "0.986013986013986"
            ]
          },
          "metadata": {
            "tags": []
          },
          "execution_count": 74
        }
      ]
    },
    {
      "cell_type": "code",
      "metadata": {
        "id": "AR_S7KlaRRS3",
        "colab_type": "code",
        "colab": {}
      },
      "source": [
        ""
      ],
      "execution_count": null,
      "outputs": []
    }
  ]
}