{
  "nbformat": 4,
  "nbformat_minor": 0,
  "metadata": {
    "colab": {
      "name": "Hyper-Parameter Tuning Techniques.ipynb",
      "provenance": [],
      "collapsed_sections": [],
      "authorship_tag": "ABX9TyPM9ZeATISs9ZGB7Um+TpmO",
      "include_colab_link": true
    },
    "kernelspec": {
      "name": "python3",
      "display_name": "Python 3"
    }
  },
  "cells": [
    {
      "cell_type": "markdown",
      "metadata": {
        "id": "view-in-github",
        "colab_type": "text"
      },
      "source": [
        "<a href=\"https://colab.research.google.com/github/sivasaiyadav8143/Machine-Learning-with-Python/blob/master/Hyper_Parameter_Tuning_Techniques.ipynb\" target=\"_parent\"><img src=\"https://colab.research.google.com/assets/colab-badge.svg\" alt=\"Open In Colab\"/></a>"
      ]
    },
    {
      "cell_type": "markdown",
      "metadata": {
        "id": "q6yHI_-DFhCy",
        "colab_type": "text"
      },
      "source": [
        "## Hyper-parameter Tuning\n",
        "**Hyperparameter optimization or tuning** is the problem of choosing a set of optimal hyperparameters for a learning algorithm\n",
        "\n",
        "1. Traditional or Manual Tuning\n",
        "2. Grid Search\n",
        "3. Random Search\n",
        "4. Bayesian Search"
      ]
    },
    {
      "cell_type": "code",
      "metadata": {
        "id": "5iYubReOl4j5",
        "colab_type": "code",
        "colab": {}
      },
      "source": [
        "from sklearn.neighbors import KNeighborsClassifier\n",
        "from sklearn.model_selection import KFold , cross_val_score\n",
        "from sklearn.datasets import load_iris\n",
        "iris = load_iris()\n",
        "X = iris.data\n",
        "y = iris.target"
      ],
      "execution_count": 1,
      "outputs": []
    },
    {
      "cell_type": "code",
      "metadata": {
        "id": "RmWUW_koDJoz",
        "colab_type": "code",
        "colab": {}
      },
      "source": [
        "from sklearn.model_selection import train_test_split\n",
        "X_train,X_test,y_train,y_test = train_test_split(X,y,test_size = 0.3,random_state = 14)"
      ],
      "execution_count": 2,
      "outputs": []
    },
    {
      "cell_type": "markdown",
      "metadata": {
        "id": "LiW2dVCf5Fgp",
        "colab_type": "text"
      },
      "source": [
        "# Manual Tuning"
      ]
    },
    {
      "cell_type": "code",
      "metadata": {
        "id": "UcpzMpaDESld",
        "colab_type": "code",
        "colab": {
          "base_uri": "https://localhost:8080/",
          "height": 680
        },
        "outputId": "aa5d8139-eaef-471a-a8a9-d48f3186f719"
      },
      "source": [
        "k_value = list(range(2,11))\n",
        "algorithm = ['auto','ball_tree','kd_tree','brute']\n",
        "scores = []\n",
        "best_comb = []\n",
        "kfold = KFold(n_splits=5)\n",
        "\n",
        "for algo in algorithm:\n",
        "  for k in k_value:\n",
        "    knn = KNeighborsClassifier(n_neighbors=k,algorithm=algo)\n",
        "    results = cross_val_score(knn,X_train,y_train,cv = kfold)\n",
        "\n",
        "    print(f'Score:{round(results.mean(),4)} with algo = {algo} , K = {k}')\n",
        "    scores.append(results.mean())\n",
        "    best_comb.append((k,algo))\n",
        "\n",
        "best_param = best_comb[scores.index(max(scores))]\n",
        "print(f'\\nThe Best Score : {max(scores)}')\n",
        "print(f\"['algorithm': {best_param[1]} ,'n_neighbors': {best_param[0]}]\")\n"
      ],
      "execution_count": 3,
      "outputs": [
        {
          "output_type": "stream",
          "text": [
            "Score:0.9238 with algo = auto , K = 2\n",
            "Score:0.9524 with algo = auto , K = 3\n",
            "Score:0.9524 with algo = auto , K = 4\n",
            "Score:0.9714 with algo = auto , K = 5\n",
            "Score:0.9714 with algo = auto , K = 6\n",
            "Score:0.9429 with algo = auto , K = 7\n",
            "Score:0.9524 with algo = auto , K = 8\n",
            "Score:0.9714 with algo = auto , K = 9\n",
            "Score:0.9619 with algo = auto , K = 10\n",
            "Score:0.9238 with algo = ball_tree , K = 2\n",
            "Score:0.9524 with algo = ball_tree , K = 3\n",
            "Score:0.9524 with algo = ball_tree , K = 4\n",
            "Score:0.9714 with algo = ball_tree , K = 5\n",
            "Score:0.9714 with algo = ball_tree , K = 6\n",
            "Score:0.9429 with algo = ball_tree , K = 7\n",
            "Score:0.9524 with algo = ball_tree , K = 8\n",
            "Score:0.9714 with algo = ball_tree , K = 9\n",
            "Score:0.9619 with algo = ball_tree , K = 10\n",
            "Score:0.9238 with algo = kd_tree , K = 2\n",
            "Score:0.9524 with algo = kd_tree , K = 3\n",
            "Score:0.9524 with algo = kd_tree , K = 4\n",
            "Score:0.9714 with algo = kd_tree , K = 5\n",
            "Score:0.9714 with algo = kd_tree , K = 6\n",
            "Score:0.9429 with algo = kd_tree , K = 7\n",
            "Score:0.9524 with algo = kd_tree , K = 8\n",
            "Score:0.9714 with algo = kd_tree , K = 9\n",
            "Score:0.9619 with algo = kd_tree , K = 10\n",
            "Score:0.9143 with algo = brute , K = 2\n",
            "Score:0.9524 with algo = brute , K = 3\n",
            "Score:0.9429 with algo = brute , K = 4\n",
            "Score:0.9619 with algo = brute , K = 5\n",
            "Score:0.9619 with algo = brute , K = 6\n",
            "Score:0.9429 with algo = brute , K = 7\n",
            "Score:0.9524 with algo = brute , K = 8\n",
            "Score:0.9714 with algo = brute , K = 9\n",
            "Score:0.9524 with algo = brute , K = 10\n",
            "\n",
            "The Best Score : 0.9714285714285715\n",
            "['algorithm': auto ,'n_neighbors': 6]\n"
          ],
          "name": "stdout"
        }
      ]
    },
    {
      "cell_type": "markdown",
      "metadata": {
        "id": "2RNeuvb64A1A",
        "colab_type": "text"
      },
      "source": [
        "# GridSearchCV"
      ]
    },
    {
      "cell_type": "code",
      "metadata": {
        "id": "8ghX0uE5IhyT",
        "colab_type": "code",
        "colab": {
          "base_uri": "https://localhost:8080/",
          "height": 204
        },
        "outputId": "efc1eeb1-84db-4c96-9c24-f0f85094f766"
      },
      "source": [
        "from sklearn.model_selection import GridSearchCV\n",
        "\n",
        "knn = KNeighborsClassifier()\n",
        "grid_param = { 'n_neighbors' : list(range(2,11)) , 'algorithm' : ['auto','ball_tree','kd_tree','brute'] }\n",
        "grid = GridSearchCV(knn,grid_param)\n",
        "grid.fit(X_train,y_train)"
      ],
      "execution_count": 4,
      "outputs": [
        {
          "output_type": "execute_result",
          "data": {
            "text/plain": [
              "GridSearchCV(cv=None, error_score=nan,\n",
              "             estimator=KNeighborsClassifier(algorithm='auto', leaf_size=30,\n",
              "                                            metric='minkowski',\n",
              "                                            metric_params=None, n_jobs=None,\n",
              "                                            n_neighbors=5, p=2,\n",
              "                                            weights='uniform'),\n",
              "             iid='deprecated', n_jobs=None,\n",
              "             param_grid={'algorithm': ['auto', 'ball_tree', 'kd_tree', 'brute'],\n",
              "                         'n_neighbors': [2, 3, 4, 5, 6, 7, 8, 9, 10]},\n",
              "             pre_dispatch='2*n_jobs', refit=True, return_train_score=False,\n",
              "             scoring=None, verbose=0)"
            ]
          },
          "metadata": {
            "tags": []
          },
          "execution_count": 4
        }
      ]
    },
    {
      "cell_type": "code",
      "metadata": {
        "id": "yk9eFkj5JNI9",
        "colab_type": "code",
        "colab": {
          "base_uri": "https://localhost:8080/",
          "height": 34
        },
        "outputId": "fcb59668-9257-47fe-b0a4-6346dbce27a6"
      },
      "source": [
        "grid.best_params_"
      ],
      "execution_count": 5,
      "outputs": [
        {
          "output_type": "execute_result",
          "data": {
            "text/plain": [
              "{'algorithm': 'auto', 'n_neighbors': 6}"
            ]
          },
          "metadata": {
            "tags": []
          },
          "execution_count": 5
        }
      ]
    },
    {
      "cell_type": "code",
      "metadata": {
        "id": "qZji10JeJR8u",
        "colab_type": "code",
        "colab": {
          "base_uri": "https://localhost:8080/",
          "height": 34
        },
        "outputId": "e907f367-c985-4f51-fc60-ae5bc935c46b"
      },
      "source": [
        "grid.best_score_"
      ],
      "execution_count": 6,
      "outputs": [
        {
          "output_type": "execute_result",
          "data": {
            "text/plain": [
              "0.9714285714285715"
            ]
          },
          "metadata": {
            "tags": []
          },
          "execution_count": 6
        }
      ]
    },
    {
      "cell_type": "code",
      "metadata": {
        "id": "AWgC-7TDJsRw",
        "colab_type": "code",
        "colab": {
          "base_uri": "https://localhost:8080/",
          "height": 629
        },
        "outputId": "651f634b-101f-41f8-a157-ada9e17d7030"
      },
      "source": [
        "grid.cv_results_['params']"
      ],
      "execution_count": 7,
      "outputs": [
        {
          "output_type": "execute_result",
          "data": {
            "text/plain": [
              "[{'algorithm': 'auto', 'n_neighbors': 2},\n",
              " {'algorithm': 'auto', 'n_neighbors': 3},\n",
              " {'algorithm': 'auto', 'n_neighbors': 4},\n",
              " {'algorithm': 'auto', 'n_neighbors': 5},\n",
              " {'algorithm': 'auto', 'n_neighbors': 6},\n",
              " {'algorithm': 'auto', 'n_neighbors': 7},\n",
              " {'algorithm': 'auto', 'n_neighbors': 8},\n",
              " {'algorithm': 'auto', 'n_neighbors': 9},\n",
              " {'algorithm': 'auto', 'n_neighbors': 10},\n",
              " {'algorithm': 'ball_tree', 'n_neighbors': 2},\n",
              " {'algorithm': 'ball_tree', 'n_neighbors': 3},\n",
              " {'algorithm': 'ball_tree', 'n_neighbors': 4},\n",
              " {'algorithm': 'ball_tree', 'n_neighbors': 5},\n",
              " {'algorithm': 'ball_tree', 'n_neighbors': 6},\n",
              " {'algorithm': 'ball_tree', 'n_neighbors': 7},\n",
              " {'algorithm': 'ball_tree', 'n_neighbors': 8},\n",
              " {'algorithm': 'ball_tree', 'n_neighbors': 9},\n",
              " {'algorithm': 'ball_tree', 'n_neighbors': 10},\n",
              " {'algorithm': 'kd_tree', 'n_neighbors': 2},\n",
              " {'algorithm': 'kd_tree', 'n_neighbors': 3},\n",
              " {'algorithm': 'kd_tree', 'n_neighbors': 4},\n",
              " {'algorithm': 'kd_tree', 'n_neighbors': 5},\n",
              " {'algorithm': 'kd_tree', 'n_neighbors': 6},\n",
              " {'algorithm': 'kd_tree', 'n_neighbors': 7},\n",
              " {'algorithm': 'kd_tree', 'n_neighbors': 8},\n",
              " {'algorithm': 'kd_tree', 'n_neighbors': 9},\n",
              " {'algorithm': 'kd_tree', 'n_neighbors': 10},\n",
              " {'algorithm': 'brute', 'n_neighbors': 2},\n",
              " {'algorithm': 'brute', 'n_neighbors': 3},\n",
              " {'algorithm': 'brute', 'n_neighbors': 4},\n",
              " {'algorithm': 'brute', 'n_neighbors': 5},\n",
              " {'algorithm': 'brute', 'n_neighbors': 6},\n",
              " {'algorithm': 'brute', 'n_neighbors': 7},\n",
              " {'algorithm': 'brute', 'n_neighbors': 8},\n",
              " {'algorithm': 'brute', 'n_neighbors': 9},\n",
              " {'algorithm': 'brute', 'n_neighbors': 10}]"
            ]
          },
          "metadata": {
            "tags": []
          },
          "execution_count": 7
        }
      ]
    },
    {
      "cell_type": "code",
      "metadata": {
        "id": "qBxOJiekJ1Km",
        "colab_type": "code",
        "colab": {
          "base_uri": "https://localhost:8080/",
          "height": 153
        },
        "outputId": "f502f49d-9fac-4ceb-d051-f6ef7f761025"
      },
      "source": [
        "grid.cv_results_['mean_test_score']"
      ],
      "execution_count": 8,
      "outputs": [
        {
          "output_type": "execute_result",
          "data": {
            "text/plain": [
              "array([0.93333333, 0.96190476, 0.95238095, 0.97142857, 0.97142857,\n",
              "       0.94285714, 0.96190476, 0.97142857, 0.97142857, 0.93333333,\n",
              "       0.96190476, 0.95238095, 0.97142857, 0.97142857, 0.94285714,\n",
              "       0.96190476, 0.97142857, 0.97142857, 0.93333333, 0.96190476,\n",
              "       0.95238095, 0.97142857, 0.97142857, 0.94285714, 0.96190476,\n",
              "       0.97142857, 0.97142857, 0.93333333, 0.96190476, 0.94285714,\n",
              "       0.96190476, 0.96190476, 0.94285714, 0.96190476, 0.97142857,\n",
              "       0.96190476])"
            ]
          },
          "metadata": {
            "tags": []
          },
          "execution_count": 8
        }
      ]
    },
    {
      "cell_type": "markdown",
      "metadata": {
        "id": "Zd9ey7oh4cIW",
        "colab_type": "text"
      },
      "source": [
        "## RandomizedSearchCV"
      ]
    },
    {
      "cell_type": "code",
      "metadata": {
        "id": "RgCZ4SnEJ4fG",
        "colab_type": "code",
        "colab": {
          "base_uri": "https://localhost:8080/",
          "height": 255
        },
        "outputId": "55d6868f-f411-4c36-dd27-c485b4517501"
      },
      "source": [
        "from sklearn.model_selection import RandomizedSearchCV\n",
        "\n",
        "knn = KNeighborsClassifier()\n",
        "grid_param = { 'n_neighbors' : list(range(2,11)) , 'algorithm' : ['auto','ball_tree','kd_tree','brute'] }\n",
        "rand_ser = RandomizedSearchCV(knn,grid_param,n_iter=10)\n",
        "rand_ser.fit(X_train,y_train)"
      ],
      "execution_count": 9,
      "outputs": [
        {
          "output_type": "execute_result",
          "data": {
            "text/plain": [
              "RandomizedSearchCV(cv=None, error_score=nan,\n",
              "                   estimator=KNeighborsClassifier(algorithm='auto',\n",
              "                                                  leaf_size=30,\n",
              "                                                  metric='minkowski',\n",
              "                                                  metric_params=None,\n",
              "                                                  n_jobs=None, n_neighbors=5,\n",
              "                                                  p=2, weights='uniform'),\n",
              "                   iid='deprecated', n_iter=10, n_jobs=None,\n",
              "                   param_distributions={'algorithm': ['auto', 'ball_tree',\n",
              "                                                      'kd_tree', 'brute'],\n",
              "                                        'n_neighbors': [2, 3, 4, 5, 6, 7, 8, 9,\n",
              "                                                        10]},\n",
              "                   pre_dispatch='2*n_jobs', random_state=None, refit=True,\n",
              "                   return_train_score=False, scoring=None, verbose=0)"
            ]
          },
          "metadata": {
            "tags": []
          },
          "execution_count": 9
        }
      ]
    },
    {
      "cell_type": "code",
      "metadata": {
        "id": "cy_aHVR64ML1",
        "colab_type": "code",
        "colab": {
          "base_uri": "https://localhost:8080/",
          "height": 34
        },
        "outputId": "21f7b1c6-4e1b-4ccf-c249-c89f4110f7c7"
      },
      "source": [
        "rand_ser.best_score_"
      ],
      "execution_count": 10,
      "outputs": [
        {
          "output_type": "execute_result",
          "data": {
            "text/plain": [
              "0.9714285714285715"
            ]
          },
          "metadata": {
            "tags": []
          },
          "execution_count": 10
        }
      ]
    },
    {
      "cell_type": "code",
      "metadata": {
        "id": "1LJMyP744hiV",
        "colab_type": "code",
        "colab": {
          "base_uri": "https://localhost:8080/",
          "height": 34
        },
        "outputId": "16d7726c-f63c-4cea-f6ba-9176ea56cb25"
      },
      "source": [
        "rand_ser.best_params_"
      ],
      "execution_count": 11,
      "outputs": [
        {
          "output_type": "execute_result",
          "data": {
            "text/plain": [
              "{'algorithm': 'kd_tree', 'n_neighbors': 6}"
            ]
          },
          "metadata": {
            "tags": []
          },
          "execution_count": 11
        }
      ]
    },
    {
      "cell_type": "code",
      "metadata": {
        "id": "Bj18_6xx4n_a",
        "colab_type": "code",
        "colab": {
          "base_uri": "https://localhost:8080/",
          "height": 187
        },
        "outputId": "8903a300-4770-4907-a408-a39941f0d605"
      },
      "source": [
        "rand_ser.cv_results_['params']"
      ],
      "execution_count": 12,
      "outputs": [
        {
          "output_type": "execute_result",
          "data": {
            "text/plain": [
              "[{'algorithm': 'brute', 'n_neighbors': 10},\n",
              " {'algorithm': 'auto', 'n_neighbors': 5},\n",
              " {'algorithm': 'brute', 'n_neighbors': 7},\n",
              " {'algorithm': 'kd_tree', 'n_neighbors': 8},\n",
              " {'algorithm': 'ball_tree', 'n_neighbors': 4},\n",
              " {'algorithm': 'kd_tree', 'n_neighbors': 6},\n",
              " {'algorithm': 'brute', 'n_neighbors': 5},\n",
              " {'algorithm': 'ball_tree', 'n_neighbors': 8},\n",
              " {'algorithm': 'auto', 'n_neighbors': 4},\n",
              " {'algorithm': 'auto', 'n_neighbors': 8}]"
            ]
          },
          "metadata": {
            "tags": []
          },
          "execution_count": 12
        }
      ]
    },
    {
      "cell_type": "code",
      "metadata": {
        "id": "_CjczOm_4zsE",
        "colab_type": "code",
        "colab": {
          "base_uri": "https://localhost:8080/",
          "height": 51
        },
        "outputId": "89786db3-7148-487c-e363-93c6d482e4a4"
      },
      "source": [
        "rand_ser.cv_results_['mean_test_score']"
      ],
      "execution_count": 13,
      "outputs": [
        {
          "output_type": "execute_result",
          "data": {
            "text/plain": [
              "array([0.96190476, 0.97142857, 0.94285714, 0.96190476, 0.95238095,\n",
              "       0.97142857, 0.96190476, 0.96190476, 0.95238095, 0.96190476])"
            ]
          },
          "metadata": {
            "tags": []
          },
          "execution_count": 13
        }
      ]
    },
    {
      "cell_type": "markdown",
      "metadata": {
        "id": "1gf8rIpq7F-U",
        "colab_type": "text"
      },
      "source": [
        "# Optuna"
      ]
    },
    {
      "cell_type": "code",
      "metadata": {
        "id": "M7IUcEI848t6",
        "colab_type": "code",
        "colab": {}
      },
      "source": [
        "!pip install optuna"
      ],
      "execution_count": null,
      "outputs": []
    },
    {
      "cell_type": "code",
      "metadata": {
        "id": "meTHlTJi64QG",
        "colab_type": "code",
        "colab": {
          "base_uri": "https://localhost:8080/",
          "height": 224
        },
        "outputId": "d8f1240e-7c07-4289-e948-18d1642d3e36"
      },
      "source": [
        "import optuna\n",
        "\n",
        "def objective(trial):\n",
        "\n",
        "    optimizer = trial.suggest_categorical('algorithm', ['auto','ball_tree','kd_tree','brute'])\n",
        "    rf_max_depth = trial.suggest_int(\"k_n_neighbors\", 2, 10, log=True)\n",
        "    knn = KNeighborsClassifier(n_neighbors=rf_max_depth,algorithm=optimizer)\n",
        "\n",
        "    score = cross_val_score(knn, X_train,y_train, n_jobs=-1, cv=3)\n",
        "    accuracy = score.mean()\n",
        "    return accuracy\n",
        "\n",
        "\n",
        "if __name__ == \"__main__\":\n",
        "    study = optuna.create_study(direction=\"maximize\")\n",
        "    study.optimize(objective, n_trials=10)\n",
        "    print(study.best_trial)"
      ],
      "execution_count": 15,
      "outputs": [
        {
          "output_type": "stream",
          "text": [
            "[I 2020-09-03 13:08:29,976] Trial 0 finished with value: 0.9333333333333332 and parameters: {'algorithm': 'ball_tree', 'k_n_neighbors': 2}. Best is trial 0 with value: 0.9333333333333332.\n",
            "[I 2020-09-03 13:08:30,011] Trial 1 finished with value: 0.9523809523809522 and parameters: {'algorithm': 'brute', 'k_n_neighbors': 6}. Best is trial 1 with value: 0.9523809523809522.\n",
            "[I 2020-09-03 13:08:30,034] Trial 2 finished with value: 0.9714285714285714 and parameters: {'algorithm': 'auto', 'k_n_neighbors': 7}. Best is trial 2 with value: 0.9714285714285714.\n",
            "[I 2020-09-03 13:08:30,058] Trial 3 finished with value: 0.9523809523809524 and parameters: {'algorithm': 'brute', 'k_n_neighbors': 8}. Best is trial 2 with value: 0.9714285714285714.\n",
            "[I 2020-09-03 13:08:30,081] Trial 4 finished with value: 0.9333333333333332 and parameters: {'algorithm': 'auto', 'k_n_neighbors': 2}. Best is trial 2 with value: 0.9714285714285714.\n",
            "[I 2020-09-03 13:08:30,103] Trial 5 finished with value: 0.9428571428571427 and parameters: {'algorithm': 'kd_tree', 'k_n_neighbors': 4}. Best is trial 2 with value: 0.9714285714285714.\n",
            "[I 2020-09-03 13:08:30,124] Trial 6 finished with value: 0.9523809523809522 and parameters: {'algorithm': 'auto', 'k_n_neighbors': 5}. Best is trial 2 with value: 0.9714285714285714.\n",
            "[I 2020-09-03 13:08:30,147] Trial 7 finished with value: 0.9523809523809524 and parameters: {'algorithm': 'auto', 'k_n_neighbors': 10}. Best is trial 2 with value: 0.9714285714285714.\n",
            "[I 2020-09-03 13:08:30,169] Trial 8 finished with value: 0.9523809523809524 and parameters: {'algorithm': 'brute', 'k_n_neighbors': 10}. Best is trial 2 with value: 0.9714285714285714.\n",
            "[I 2020-09-03 13:08:30,192] Trial 9 finished with value: 0.9619047619047619 and parameters: {'algorithm': 'ball_tree', 'k_n_neighbors': 9}. Best is trial 2 with value: 0.9714285714285714.\n"
          ],
          "name": "stderr"
        },
        {
          "output_type": "stream",
          "text": [
            "FrozenTrial(number=2, value=0.9714285714285714, datetime_start=datetime.datetime(2020, 9, 3, 13, 8, 30, 18913), datetime_complete=datetime.datetime(2020, 9, 3, 13, 8, 30, 33828), params={'algorithm': 'auto', 'k_n_neighbors': 7}, distributions={'algorithm': CategoricalDistribution(choices=('auto', 'ball_tree', 'kd_tree', 'brute')), 'k_n_neighbors': IntLogUniformDistribution(high=10, low=2, step=1)}, user_attrs={}, system_attrs={}, intermediate_values={}, trial_id=2, state=TrialState.COMPLETE)\n"
          ],
          "name": "stdout"
        }
      ]
    },
    {
      "cell_type": "code",
      "metadata": {
        "id": "yQ-Vii-ATrlX",
        "colab_type": "code",
        "colab": {
          "base_uri": "https://localhost:8080/",
          "height": 34
        },
        "outputId": "84b96ecc-ee55-4667-e1ee-1f7a809f3280"
      },
      "source": [
        "study.best_params"
      ],
      "execution_count": 16,
      "outputs": [
        {
          "output_type": "execute_result",
          "data": {
            "text/plain": [
              "{'algorithm': 'auto', 'k_n_neighbors': 7}"
            ]
          },
          "metadata": {
            "tags": []
          },
          "execution_count": 16
        }
      ]
    },
    {
      "cell_type": "code",
      "metadata": {
        "id": "RlfNbLFQa6at",
        "colab_type": "code",
        "colab": {
          "base_uri": "https://localhost:8080/",
          "height": 34
        },
        "outputId": "84a6041f-2306-445d-bcaf-c1f84f845520"
      },
      "source": [
        "study.best_value"
      ],
      "execution_count": 17,
      "outputs": [
        {
          "output_type": "execute_result",
          "data": {
            "text/plain": [
              "0.9714285714285714"
            ]
          },
          "metadata": {
            "tags": []
          },
          "execution_count": 17
        }
      ]
    },
    {
      "cell_type": "markdown",
      "metadata": {
        "id": "XJn74QqslN01",
        "colab_type": "text"
      },
      "source": [
        "# TuneSearchCV Bayesian Optimization"
      ]
    },
    {
      "cell_type": "code",
      "metadata": {
        "id": "hPs7uPdOa6o3",
        "colab_type": "code",
        "colab": {}
      },
      "source": [
        "!pip install tune-sklearn \"ray[tune]\"\n",
        "!pip install scikit-optimize"
      ],
      "execution_count": null,
      "outputs": []
    },
    {
      "cell_type": "code",
      "metadata": {
        "id": "6j9RUla3kk0O",
        "colab_type": "code",
        "colab": {
          "base_uri": "https://localhost:8080/",
          "height": 680
        },
        "outputId": "0edc2164-c45b-4cf9-99b8-b19e4de86687"
      },
      "source": [
        "from tune_sklearn import TuneSearchCV\n",
        "from ray.tune.schedulers import MedianStoppingRule\n",
        "import numpy as np\n",
        "import warnings\n",
        "warnings.filterwarnings(\"ignore\") \n",
        "\n",
        "knn = KNeighborsClassifier()\n",
        "grid_param = { 'n_neighbors' : list(range(2,11)) , 'algorithm' : ['auto','ball_tree','kd_tree','brute'] }\n",
        "\n",
        "# scheduler = MedianStoppingRule(grace_period=10.0)\n",
        "\n",
        "tune_search = TuneSearchCV(knn,grid_param,search_optimization=\"bayesian\",max_iters=10)\n",
        "tune_search.fit(X_train,y_train)\n",
        "\n",
        "# pred = tune_search.predict(X_test)\n",
        "# accuracy = np.count_nonzero(np.array(pred) == np.array(y_test)) / len(pred)\n",
        "# print(accuracy)"
      ],
      "execution_count": 19,
      "outputs": [
        {
          "output_type": "stream",
          "text": [
            "The dashboard on node bcba4b54807b failed with the following error:\n",
            "Traceback (most recent call last):\n",
            "  File \"/usr/lib/python3.6/asyncio/base_events.py\", line 1062, in create_server\n",
            "    sock.bind(sa)\n",
            "OSError: [Errno 99] Cannot assign requested address\n",
            "\n",
            "During handling of the above exception, another exception occurred:\n",
            "\n",
            "Traceback (most recent call last):\n",
            "  File \"/usr/local/lib/python3.6/dist-packages/ray/dashboard/dashboard.py\", line 961, in <module>\n",
            "    dashboard.run()\n",
            "  File \"/usr/local/lib/python3.6/dist-packages/ray/dashboard/dashboard.py\", line 576, in run\n",
            "    aiohttp.web.run_app(self.app, host=self.host, port=self.port)\n",
            "  File \"/usr/local/lib/python3.6/dist-packages/aiohttp/web.py\", line 433, in run_app\n",
            "    reuse_port=reuse_port))\n",
            "  File \"/usr/lib/python3.6/asyncio/base_events.py\", line 484, in run_until_complete\n",
            "    return future.result()\n",
            "  File \"/usr/local/lib/python3.6/dist-packages/aiohttp/web.py\", line 359, in _run_app\n",
            "    await site.start()\n",
            "  File \"/usr/local/lib/python3.6/dist-packages/aiohttp/web_runner.py\", line 104, in start\n",
            "    reuse_port=self._reuse_port)\n",
            "  File \"/usr/lib/python3.6/asyncio/base_events.py\", line 1066, in create_server\n",
            "    % (sa, err.strerror.lower()))\n",
            "OSError: [Errno 99] error while attempting to bind on address ('::1', 8265, 0, 0): cannot assign requested address\n",
            "\n"
          ],
          "name": "stderr"
        },
        {
          "output_type": "execute_result",
          "data": {
            "text/plain": [
              "TuneSearchCV(cv=None, early_stopping=None, error_score=nan,\n",
              "             estimator=KNeighborsClassifier(algorithm='auto', leaf_size=30,\n",
              "                                            metric='minkowski',\n",
              "                                            metric_params=None, n_jobs=None,\n",
              "                                            n_neighbors=5, p=2,\n",
              "                                            weights='uniform'),\n",
              "             local_dir='~/ray_results', max_iters=1, n_iter=None, n_jobs=None,\n",
              "             param_distributions={'algorithm': ['auto', 'ball_tree', 'kd_tree',\n",
              "                                                'brute'],\n",
              "                                  'n_neighbors': [2, 3, 4, 5, 6, 7, 8, 9, 10]},\n",
              "             random_state=None, refit=True, return_train_score=False,\n",
              "             scoring=<function _passthrough_scorer at 0x7fdb66b47f28>,\n",
              "             search_optimization='bayesian', sk_n_jobs=-1, use_gpu=False,\n",
              "             verbose=0)"
            ]
          },
          "metadata": {
            "tags": []
          },
          "execution_count": 19
        }
      ]
    },
    {
      "cell_type": "code",
      "metadata": {
        "id": "IJHyPFc3lchI",
        "colab_type": "code",
        "colab": {
          "base_uri": "https://localhost:8080/",
          "height": 34
        },
        "outputId": "25e3ecd6-ea20-4d1f-bb1c-d8a3b7f566a1"
      },
      "source": [
        "tune_search.best_params_"
      ],
      "execution_count": 20,
      "outputs": [
        {
          "output_type": "execute_result",
          "data": {
            "text/plain": [
              "{'algorithm': 'auto', 'n_neighbors': 9}"
            ]
          },
          "metadata": {
            "tags": []
          },
          "execution_count": 20
        }
      ]
    },
    {
      "cell_type": "code",
      "metadata": {
        "id": "KKRtmwC1nHh8",
        "colab_type": "code",
        "colab": {
          "base_uri": "https://localhost:8080/",
          "height": 34
        },
        "outputId": "28d8b2d3-7db5-4b89-ae5b-2f10a22dadb8"
      },
      "source": [
        "tune_search.best_score_"
      ],
      "execution_count": 21,
      "outputs": [
        {
          "output_type": "execute_result",
          "data": {
            "text/plain": [
              "0.9714285714285716"
            ]
          },
          "metadata": {
            "tags": []
          },
          "execution_count": 21
        }
      ]
    },
    {
      "cell_type": "code",
      "metadata": {
        "id": "e4IXkhkEnK-1",
        "colab_type": "code",
        "colab": {
          "base_uri": "https://localhost:8080/",
          "height": 187
        },
        "outputId": "de9c05b8-c837-45a4-b0c4-0ffb21feffc7"
      },
      "source": [
        "tune_search.cv_results_['params']"
      ],
      "execution_count": 22,
      "outputs": [
        {
          "output_type": "execute_result",
          "data": {
            "text/plain": [
              "[{'algorithm': 'kd_tree', 'n_neighbors': 2},\n",
              " {'algorithm': 'auto', 'n_neighbors': 9},\n",
              " {'algorithm': 'kd_tree', 'n_neighbors': 10},\n",
              " {'algorithm': 'brute', 'n_neighbors': 4},\n",
              " {'algorithm': 'ball_tree', 'n_neighbors': 7},\n",
              " {'algorithm': 'auto', 'n_neighbors': 4},\n",
              " {'algorithm': 'brute', 'n_neighbors': 9},\n",
              " {'algorithm': 'kd_tree', 'n_neighbors': 2},\n",
              " {'algorithm': 'auto', 'n_neighbors': 9},\n",
              " {'algorithm': 'ball_tree', 'n_neighbors': 3}]"
            ]
          },
          "metadata": {
            "tags": []
          },
          "execution_count": 22
        }
      ]
    },
    {
      "cell_type": "markdown",
      "metadata": {
        "id": "GNvyANZxQO0u",
        "colab_type": "text"
      },
      "source": [
        "## Bayesian Optimization"
      ]
    },
    {
      "cell_type": "code",
      "metadata": {
        "id": "OLEq3_-gngmU",
        "colab_type": "code",
        "colab": {}
      },
      "source": [
        "!pip install scikit-optimize"
      ],
      "execution_count": null,
      "outputs": []
    },
    {
      "cell_type": "code",
      "metadata": {
        "id": "e8VZo61NQUdm",
        "colab_type": "code",
        "colab": {
          "base_uri": "https://localhost:8080/",
          "height": 238
        },
        "outputId": "92565698-11ee-488a-a078-88a6cf375a2e"
      },
      "source": [
        "from skopt import BayesSearchCV\n",
        "import warnings\n",
        "warnings.filterwarnings(\"ignore\") \n",
        "# parameter ranges are specified by one of below\n",
        "from skopt.space import Real, Categorical, Integer\n",
        "knn = KNeighborsClassifier()\n",
        "grid_param = { 'n_neighbors' : list(range(2,11)) , 'algorithm' : ['auto','ball_tree','kd_tree','brute'] }\n",
        "Bayes = BayesSearchCV(knn,grid_param,n_iter=32,random_state=0)\n",
        "Bayes.fit(X_train,y_train)\n"
      ],
      "execution_count": 24,
      "outputs": [
        {
          "output_type": "execute_result",
          "data": {
            "text/plain": [
              "BayesSearchCV(cv=None, error_score='raise',\n",
              "              estimator=KNeighborsClassifier(algorithm='auto', leaf_size=30,\n",
              "                                             metric='minkowski',\n",
              "                                             metric_params=None, n_jobs=None,\n",
              "                                             n_neighbors=5, p=2,\n",
              "                                             weights='uniform'),\n",
              "              fit_params=None, iid=True, n_iter=32, n_jobs=1, n_points=1,\n",
              "              optimizer_kwargs=None, pre_dispatch='2*n_jobs', random_state=0,\n",
              "              refit=True, return_train_score=False, scoring=None,\n",
              "              search_spaces={'algorithm': ['auto', 'ball_tree', 'kd_tree',\n",
              "                                           'brute'],\n",
              "                             'n_neighbors': [2, 3, 4, 5, 6, 7, 8, 9, 10]},\n",
              "              verbose=0)"
            ]
          },
          "metadata": {
            "tags": []
          },
          "execution_count": 24
        }
      ]
    },
    {
      "cell_type": "code",
      "metadata": {
        "id": "-eiSnrqCRSGp",
        "colab_type": "code",
        "colab": {
          "base_uri": "https://localhost:8080/",
          "height": 34
        },
        "outputId": "747f96f7-c8aa-49ca-a8c1-c56c98fe9637"
      },
      "source": [
        "Bayes.best_params_"
      ],
      "execution_count": 25,
      "outputs": [
        {
          "output_type": "execute_result",
          "data": {
            "text/plain": [
              "OrderedDict([('algorithm', 'ball_tree'), ('n_neighbors', 10)])"
            ]
          },
          "metadata": {
            "tags": []
          },
          "execution_count": 25
        }
      ]
    },
    {
      "cell_type": "code",
      "metadata": {
        "id": "2ryJhZ-zRl7R",
        "colab_type": "code",
        "colab": {
          "base_uri": "https://localhost:8080/",
          "height": 34
        },
        "outputId": "609171f2-b143-4e5a-fffe-5d16abd30d8f"
      },
      "source": [
        "Bayes.best_score_"
      ],
      "execution_count": 26,
      "outputs": [
        {
          "output_type": "execute_result",
          "data": {
            "text/plain": [
              "0.9714285714285714"
            ]
          },
          "metadata": {
            "tags": []
          },
          "execution_count": 26
        }
      ]
    },
    {
      "cell_type": "code",
      "metadata": {
        "id": "76CG8LeRRoxH",
        "colab_type": "code",
        "colab": {
          "base_uri": "https://localhost:8080/",
          "height": 561
        },
        "outputId": "dbf072e9-1049-4091-e83a-26407d1bb217"
      },
      "source": [
        "Bayes.cv_results_['params']"
      ],
      "execution_count": 27,
      "outputs": [
        {
          "output_type": "execute_result",
          "data": {
            "text/plain": [
              "[OrderedDict([('algorithm', 'kd_tree'), ('n_neighbors', 8)]),\n",
              " OrderedDict([('algorithm', 'ball_tree'), ('n_neighbors', 10)]),\n",
              " OrderedDict([('algorithm', 'kd_tree'), ('n_neighbors', 2)]),\n",
              " OrderedDict([('algorithm', 'auto'), ('n_neighbors', 9)]),\n",
              " OrderedDict([('algorithm', 'auto'), ('n_neighbors', 4)]),\n",
              " OrderedDict([('algorithm', 'brute'), ('n_neighbors', 10)]),\n",
              " OrderedDict([('algorithm', 'brute'), ('n_neighbors', 8)]),\n",
              " OrderedDict([('algorithm', 'kd_tree'), ('n_neighbors', 6)]),\n",
              " OrderedDict([('algorithm', 'auto'), ('n_neighbors', 10)]),\n",
              " OrderedDict([('algorithm', 'ball_tree'), ('n_neighbors', 5)]),\n",
              " OrderedDict([('algorithm', 'ball_tree'), ('n_neighbors', 7)]),\n",
              " OrderedDict([('algorithm', 'auto'), ('n_neighbors', 3)]),\n",
              " OrderedDict([('algorithm', 'auto'), ('n_neighbors', 6)]),\n",
              " OrderedDict([('algorithm', 'auto'), ('n_neighbors', 5)]),\n",
              " OrderedDict([('algorithm', 'ball_tree'), ('n_neighbors', 9)]),\n",
              " OrderedDict([('algorithm', 'ball_tree'), ('n_neighbors', 6)]),\n",
              " OrderedDict([('algorithm', 'kd_tree'), ('n_neighbors', 5)]),\n",
              " OrderedDict([('algorithm', 'kd_tree'), ('n_neighbors', 9)]),\n",
              " OrderedDict([('algorithm', 'brute'), ('n_neighbors', 6)]),\n",
              " OrderedDict([('algorithm', 'auto'), ('n_neighbors', 9)]),\n",
              " OrderedDict([('algorithm', 'ball_tree'), ('n_neighbors', 5)]),\n",
              " OrderedDict([('algorithm', 'auto'), ('n_neighbors', 5)]),\n",
              " OrderedDict([('algorithm', 'ball_tree'), ('n_neighbors', 9)]),\n",
              " OrderedDict([('algorithm', 'kd_tree'), ('n_neighbors', 10)]),\n",
              " OrderedDict([('algorithm', 'kd_tree'), ('n_neighbors', 9)]),\n",
              " OrderedDict([('algorithm', 'ball_tree'), ('n_neighbors', 3)]),\n",
              " OrderedDict([('algorithm', 'auto'), ('n_neighbors', 5)]),\n",
              " OrderedDict([('algorithm', 'kd_tree'), ('n_neighbors', 5)]),\n",
              " OrderedDict([('algorithm', 'auto'), ('n_neighbors', 9)]),\n",
              " OrderedDict([('algorithm', 'ball_tree'), ('n_neighbors', 10)]),\n",
              " OrderedDict([('algorithm', 'ball_tree'), ('n_neighbors', 6)]),\n",
              " OrderedDict([('algorithm', 'ball_tree'), ('n_neighbors', 8)])]"
            ]
          },
          "metadata": {
            "tags": []
          },
          "execution_count": 27
        }
      ]
    },
    {
      "cell_type": "code",
      "metadata": {
        "id": "ZRPApLceRwU6",
        "colab_type": "code",
        "colab": {}
      },
      "source": [
        ""
      ],
      "execution_count": null,
      "outputs": []
    }
  ]
}