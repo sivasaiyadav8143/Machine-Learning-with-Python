{
  "nbformat": 4,
  "nbformat_minor": 0,
  "metadata": {
    "colab": {
      "name": "Hyper-Parameter Tuning Techniques.ipynb",
      "provenance": [],
      "collapsed_sections": [],
      "include_colab_link": true
    },
    "kernelspec": {
      "name": "python3",
      "display_name": "Python 3"
    }
  },
  "cells": [
    {
      "cell_type": "markdown",
      "metadata": {
        "id": "view-in-github",
        "colab_type": "text"
      },
      "source": [
        "<a href=\"https://colab.research.google.com/github/sivasaiyadav8143/Machine-Learning-with-Python/blob/master/Hyper_Parameter_Tuning_Techniques.ipynb\" target=\"_parent\"><img src=\"https://colab.research.google.com/assets/colab-badge.svg\" alt=\"Open In Colab\"/></a>"
      ]
    },
    {
      "cell_type": "markdown",
      "metadata": {
        "id": "q6yHI_-DFhCy"
      },
      "source": [
        "## Hyper-parameter Tuning\n",
        "**Hyperparameter optimization or tuning** is the problem of choosing a set of optimal hyperparameters for a learning algorithm\n",
        "\n",
        "1. Traditional or Manual Tuning\n",
        "2. Grid Search\n",
        "3. Random Search\n",
        "4. Bayesian Search"
      ]
    },
    {
      "cell_type": "code",
      "metadata": {
        "id": "5iYubReOl4j5"
      },
      "source": [
        "from sklearn.neighbors import KNeighborsClassifier\n",
        "from sklearn.model_selection import KFold , cross_val_score\n",
        "from sklearn.datasets import load_iris\n",
        "iris = load_iris()\n",
        "X = iris.data\n",
        "y = iris.target"
      ],
      "execution_count": null,
      "outputs": []
    },
    {
      "cell_type": "code",
      "metadata": {
        "id": "RmWUW_koDJoz"
      },
      "source": [
        "from sklearn.model_selection import train_test_split\n",
        "X_train,X_test,y_train,y_test = train_test_split(X,y,test_size = 0.3,random_state = 14)"
      ],
      "execution_count": null,
      "outputs": []
    },
    {
      "cell_type": "markdown",
      "metadata": {
        "id": "LiW2dVCf5Fgp"
      },
      "source": [
        "# Manual Tuning"
      ]
    },
    {
      "cell_type": "code",
      "metadata": {
        "id": "UcpzMpaDESld",
        "outputId": "aa5d8139-eaef-471a-a8a9-d48f3186f719",
        "colab": {
          "base_uri": "https://localhost:8080/",
          "height": 680
        }
      },
      "source": [
        "k_value = list(range(2,11))\n",
        "algorithm = ['auto','ball_tree','kd_tree','brute']\n",
        "scores = []\n",
        "best_comb = []\n",
        "kfold = KFold(n_splits=5)\n",
        "\n",
        "for algo in algorithm:\n",
        "  for k in k_value:\n",
        "    knn = KNeighborsClassifier(n_neighbors=k,algorithm=algo)\n",
        "    results = cross_val_score(knn,X_train,y_train,cv = kfold)\n",
        "\n",
        "    print(f'Score:{round(results.mean(),4)} with algo = {algo} , K = {k}')\n",
        "    scores.append(results.mean())\n",
        "    best_comb.append((k,algo))\n",
        "\n",
        "best_param = best_comb[scores.index(max(scores))]\n",
        "print(f'\\nThe Best Score : {max(scores)}')\n",
        "print(f\"['algorithm': {best_param[1]} ,'n_neighbors': {best_param[0]}]\")\n"
      ],
      "execution_count": null,
      "outputs": [
        {
          "output_type": "stream",
          "text": [
            "Score:0.9238 with algo = auto , K = 2\n",
            "Score:0.9524 with algo = auto , K = 3\n",
            "Score:0.9524 with algo = auto , K = 4\n",
            "Score:0.9714 with algo = auto , K = 5\n",
            "Score:0.9714 with algo = auto , K = 6\n",
            "Score:0.9429 with algo = auto , K = 7\n",
            "Score:0.9524 with algo = auto , K = 8\n",
            "Score:0.9714 with algo = auto , K = 9\n",
            "Score:0.9619 with algo = auto , K = 10\n",
            "Score:0.9238 with algo = ball_tree , K = 2\n",
            "Score:0.9524 with algo = ball_tree , K = 3\n",
            "Score:0.9524 with algo = ball_tree , K = 4\n",
            "Score:0.9714 with algo = ball_tree , K = 5\n",
            "Score:0.9714 with algo = ball_tree , K = 6\n",
            "Score:0.9429 with algo = ball_tree , K = 7\n",
            "Score:0.9524 with algo = ball_tree , K = 8\n",
            "Score:0.9714 with algo = ball_tree , K = 9\n",
            "Score:0.9619 with algo = ball_tree , K = 10\n",
            "Score:0.9238 with algo = kd_tree , K = 2\n",
            "Score:0.9524 with algo = kd_tree , K = 3\n",
            "Score:0.9524 with algo = kd_tree , K = 4\n",
            "Score:0.9714 with algo = kd_tree , K = 5\n",
            "Score:0.9714 with algo = kd_tree , K = 6\n",
            "Score:0.9429 with algo = kd_tree , K = 7\n",
            "Score:0.9524 with algo = kd_tree , K = 8\n",
            "Score:0.9714 with algo = kd_tree , K = 9\n",
            "Score:0.9619 with algo = kd_tree , K = 10\n",
            "Score:0.9143 with algo = brute , K = 2\n",
            "Score:0.9524 with algo = brute , K = 3\n",
            "Score:0.9429 with algo = brute , K = 4\n",
            "Score:0.9619 with algo = brute , K = 5\n",
            "Score:0.9619 with algo = brute , K = 6\n",
            "Score:0.9429 with algo = brute , K = 7\n",
            "Score:0.9524 with algo = brute , K = 8\n",
            "Score:0.9714 with algo = brute , K = 9\n",
            "Score:0.9524 with algo = brute , K = 10\n",
            "\n",
            "The Best Score : 0.9714285714285715\n",
            "['algorithm': auto ,'n_neighbors': 6]\n"
          ],
          "name": "stdout"
        }
      ]
    },
    {
      "cell_type": "markdown",
      "metadata": {
        "id": "2RNeuvb64A1A"
      },
      "source": [
        "# GridSearchCV"
      ]
    },
    {
      "cell_type": "code",
      "metadata": {
        "id": "8ghX0uE5IhyT",
        "outputId": "efc1eeb1-84db-4c96-9c24-f0f85094f766",
        "colab": {
          "base_uri": "https://localhost:8080/",
          "height": 204
        }
      },
      "source": [
        "from sklearn.model_selection import GridSearchCV\n",
        "\n",
        "knn = KNeighborsClassifier()\n",
        "grid_param = { 'n_neighbors' : list(range(2,11)) , 'algorithm' : ['auto','ball_tree','kd_tree','brute'] }\n",
        "grid = GridSearchCV(knn,grid_param)\n",
        "grid.fit(X_train,y_train)"
      ],
      "execution_count": null,
      "outputs": [
        {
          "output_type": "execute_result",
          "data": {
            "text/plain": [
              "GridSearchCV(cv=None, error_score=nan,\n",
              "             estimator=KNeighborsClassifier(algorithm='auto', leaf_size=30,\n",
              "                                            metric='minkowski',\n",
              "                                            metric_params=None, n_jobs=None,\n",
              "                                            n_neighbors=5, p=2,\n",
              "                                            weights='uniform'),\n",
              "             iid='deprecated', n_jobs=None,\n",
              "             param_grid={'algorithm': ['auto', 'ball_tree', 'kd_tree', 'brute'],\n",
              "                         'n_neighbors': [2, 3, 4, 5, 6, 7, 8, 9, 10]},\n",
              "             pre_dispatch='2*n_jobs', refit=True, return_train_score=False,\n",
              "             scoring=None, verbose=0)"
            ]
          },
          "metadata": {
            "tags": []
          },
          "execution_count": 4
        }
      ]
    },
    {
      "cell_type": "code",
      "metadata": {
        "id": "yk9eFkj5JNI9",
        "outputId": "fcb59668-9257-47fe-b0a4-6346dbce27a6",
        "colab": {
          "base_uri": "https://localhost:8080/",
          "height": 34
        }
      },
      "source": [
        "grid.best_params_"
      ],
      "execution_count": null,
      "outputs": [
        {
          "output_type": "execute_result",
          "data": {
            "text/plain": [
              "{'algorithm': 'auto', 'n_neighbors': 6}"
            ]
          },
          "metadata": {
            "tags": []
          },
          "execution_count": 5
        }
      ]
    },
    {
      "cell_type": "code",
      "metadata": {
        "id": "qZji10JeJR8u",
        "outputId": "e907f367-c985-4f51-fc60-ae5bc935c46b",
        "colab": {
          "base_uri": "https://localhost:8080/",
          "height": 34
        }
      },
      "source": [
        "grid.best_score_"
      ],
      "execution_count": null,
      "outputs": [
        {
          "output_type": "execute_result",
          "data": {
            "text/plain": [
              "0.9714285714285715"
            ]
          },
          "metadata": {
            "tags": []
          },
          "execution_count": 6
        }
      ]
    },
    {
      "cell_type": "code",
      "metadata": {
        "id": "AWgC-7TDJsRw",
        "outputId": "651f634b-101f-41f8-a157-ada9e17d7030",
        "colab": {
          "base_uri": "https://localhost:8080/",
          "height": 629
        }
      },
      "source": [
        "grid.cv_results_['params']"
      ],
      "execution_count": null,
      "outputs": [
        {
          "output_type": "execute_result",
          "data": {
            "text/plain": [
              "[{'algorithm': 'auto', 'n_neighbors': 2},\n",
              " {'algorithm': 'auto', 'n_neighbors': 3},\n",
              " {'algorithm': 'auto', 'n_neighbors': 4},\n",
              " {'algorithm': 'auto', 'n_neighbors': 5},\n",
              " {'algorithm': 'auto', 'n_neighbors': 6},\n",
              " {'algorithm': 'auto', 'n_neighbors': 7},\n",
              " {'algorithm': 'auto', 'n_neighbors': 8},\n",
              " {'algorithm': 'auto', 'n_neighbors': 9},\n",
              " {'algorithm': 'auto', 'n_neighbors': 10},\n",
              " {'algorithm': 'ball_tree', 'n_neighbors': 2},\n",
              " {'algorithm': 'ball_tree', 'n_neighbors': 3},\n",
              " {'algorithm': 'ball_tree', 'n_neighbors': 4},\n",
              " {'algorithm': 'ball_tree', 'n_neighbors': 5},\n",
              " {'algorithm': 'ball_tree', 'n_neighbors': 6},\n",
              " {'algorithm': 'ball_tree', 'n_neighbors': 7},\n",
              " {'algorithm': 'ball_tree', 'n_neighbors': 8},\n",
              " {'algorithm': 'ball_tree', 'n_neighbors': 9},\n",
              " {'algorithm': 'ball_tree', 'n_neighbors': 10},\n",
              " {'algorithm': 'kd_tree', 'n_neighbors': 2},\n",
              " {'algorithm': 'kd_tree', 'n_neighbors': 3},\n",
              " {'algorithm': 'kd_tree', 'n_neighbors': 4},\n",
              " {'algorithm': 'kd_tree', 'n_neighbors': 5},\n",
              " {'algorithm': 'kd_tree', 'n_neighbors': 6},\n",
              " {'algorithm': 'kd_tree', 'n_neighbors': 7},\n",
              " {'algorithm': 'kd_tree', 'n_neighbors': 8},\n",
              " {'algorithm': 'kd_tree', 'n_neighbors': 9},\n",
              " {'algorithm': 'kd_tree', 'n_neighbors': 10},\n",
              " {'algorithm': 'brute', 'n_neighbors': 2},\n",
              " {'algorithm': 'brute', 'n_neighbors': 3},\n",
              " {'algorithm': 'brute', 'n_neighbors': 4},\n",
              " {'algorithm': 'brute', 'n_neighbors': 5},\n",
              " {'algorithm': 'brute', 'n_neighbors': 6},\n",
              " {'algorithm': 'brute', 'n_neighbors': 7},\n",
              " {'algorithm': 'brute', 'n_neighbors': 8},\n",
              " {'algorithm': 'brute', 'n_neighbors': 9},\n",
              " {'algorithm': 'brute', 'n_neighbors': 10}]"
            ]
          },
          "metadata": {
            "tags": []
          },
          "execution_count": 7
        }
      ]
    },
    {
      "cell_type": "code",
      "metadata": {
        "id": "qBxOJiekJ1Km",
        "outputId": "f502f49d-9fac-4ceb-d051-f6ef7f761025",
        "colab": {
          "base_uri": "https://localhost:8080/",
          "height": 153
        }
      },
      "source": [
        "grid.cv_results_['mean_test_score']"
      ],
      "execution_count": null,
      "outputs": [
        {
          "output_type": "execute_result",
          "data": {
            "text/plain": [
              "array([0.93333333, 0.96190476, 0.95238095, 0.97142857, 0.97142857,\n",
              "       0.94285714, 0.96190476, 0.97142857, 0.97142857, 0.93333333,\n",
              "       0.96190476, 0.95238095, 0.97142857, 0.97142857, 0.94285714,\n",
              "       0.96190476, 0.97142857, 0.97142857, 0.93333333, 0.96190476,\n",
              "       0.95238095, 0.97142857, 0.97142857, 0.94285714, 0.96190476,\n",
              "       0.97142857, 0.97142857, 0.93333333, 0.96190476, 0.94285714,\n",
              "       0.96190476, 0.96190476, 0.94285714, 0.96190476, 0.97142857,\n",
              "       0.96190476])"
            ]
          },
          "metadata": {
            "tags": []
          },
          "execution_count": 8
        }
      ]
    },
    {
      "cell_type": "markdown",
      "metadata": {
        "id": "Zd9ey7oh4cIW"
      },
      "source": [
        "## RandomizedSearchCV"
      ]
    },
    {
      "cell_type": "code",
      "metadata": {
        "id": "RgCZ4SnEJ4fG",
        "outputId": "55d6868f-f411-4c36-dd27-c485b4517501",
        "colab": {
          "base_uri": "https://localhost:8080/",
          "height": 255
        }
      },
      "source": [
        "from sklearn.model_selection import RandomizedSearchCV\n",
        "\n",
        "knn = KNeighborsClassifier()\n",
        "grid_param = { 'n_neighbors' : list(range(2,11)) , 'algorithm' : ['auto','ball_tree','kd_tree','brute'] }\n",
        "rand_ser = RandomizedSearchCV(knn,grid_param,n_iter=10)\n",
        "rand_ser.fit(X_train,y_train)"
      ],
      "execution_count": null,
      "outputs": [
        {
          "output_type": "execute_result",
          "data": {
            "text/plain": [
              "RandomizedSearchCV(cv=None, error_score=nan,\n",
              "                   estimator=KNeighborsClassifier(algorithm='auto',\n",
              "                                                  leaf_size=30,\n",
              "                                                  metric='minkowski',\n",
              "                                                  metric_params=None,\n",
              "                                                  n_jobs=None, n_neighbors=5,\n",
              "                                                  p=2, weights='uniform'),\n",
              "                   iid='deprecated', n_iter=10, n_jobs=None,\n",
              "                   param_distributions={'algorithm': ['auto', 'ball_tree',\n",
              "                                                      'kd_tree', 'brute'],\n",
              "                                        'n_neighbors': [2, 3, 4, 5, 6, 7, 8, 9,\n",
              "                                                        10]},\n",
              "                   pre_dispatch='2*n_jobs', random_state=None, refit=True,\n",
              "                   return_train_score=False, scoring=None, verbose=0)"
            ]
          },
          "metadata": {
            "tags": []
          },
          "execution_count": 9
        }
      ]
    },
    {
      "cell_type": "code",
      "metadata": {
        "id": "cy_aHVR64ML1",
        "outputId": "21f7b1c6-4e1b-4ccf-c249-c89f4110f7c7",
        "colab": {
          "base_uri": "https://localhost:8080/",
          "height": 34
        }
      },
      "source": [
        "rand_ser.best_score_"
      ],
      "execution_count": null,
      "outputs": [
        {
          "output_type": "execute_result",
          "data": {
            "text/plain": [
              "0.9714285714285715"
            ]
          },
          "metadata": {
            "tags": []
          },
          "execution_count": 10
        }
      ]
    },
    {
      "cell_type": "code",
      "metadata": {
        "id": "1LJMyP744hiV",
        "outputId": "16d7726c-f63c-4cea-f6ba-9176ea56cb25",
        "colab": {
          "base_uri": "https://localhost:8080/",
          "height": 34
        }
      },
      "source": [
        "rand_ser.best_params_"
      ],
      "execution_count": null,
      "outputs": [
        {
          "output_type": "execute_result",
          "data": {
            "text/plain": [
              "{'algorithm': 'kd_tree', 'n_neighbors': 6}"
            ]
          },
          "metadata": {
            "tags": []
          },
          "execution_count": 11
        }
      ]
    },
    {
      "cell_type": "code",
      "metadata": {
        "id": "Bj18_6xx4n_a",
        "outputId": "8903a300-4770-4907-a408-a39941f0d605",
        "colab": {
          "base_uri": "https://localhost:8080/",
          "height": 187
        }
      },
      "source": [
        "rand_ser.cv_results_['params']"
      ],
      "execution_count": null,
      "outputs": [
        {
          "output_type": "execute_result",
          "data": {
            "text/plain": [
              "[{'algorithm': 'brute', 'n_neighbors': 10},\n",
              " {'algorithm': 'auto', 'n_neighbors': 5},\n",
              " {'algorithm': 'brute', 'n_neighbors': 7},\n",
              " {'algorithm': 'kd_tree', 'n_neighbors': 8},\n",
              " {'algorithm': 'ball_tree', 'n_neighbors': 4},\n",
              " {'algorithm': 'kd_tree', 'n_neighbors': 6},\n",
              " {'algorithm': 'brute', 'n_neighbors': 5},\n",
              " {'algorithm': 'ball_tree', 'n_neighbors': 8},\n",
              " {'algorithm': 'auto', 'n_neighbors': 4},\n",
              " {'algorithm': 'auto', 'n_neighbors': 8}]"
            ]
          },
          "metadata": {
            "tags": []
          },
          "execution_count": 12
        }
      ]
    },
    {
      "cell_type": "code",
      "metadata": {
        "id": "_CjczOm_4zsE",
        "outputId": "89786db3-7148-487c-e363-93c6d482e4a4",
        "colab": {
          "base_uri": "https://localhost:8080/",
          "height": 51
        }
      },
      "source": [
        "rand_ser.cv_results_['mean_test_score']"
      ],
      "execution_count": null,
      "outputs": [
        {
          "output_type": "execute_result",
          "data": {
            "text/plain": [
              "array([0.96190476, 0.97142857, 0.94285714, 0.96190476, 0.95238095,\n",
              "       0.97142857, 0.96190476, 0.96190476, 0.95238095, 0.96190476])"
            ]
          },
          "metadata": {
            "tags": []
          },
          "execution_count": 13
        }
      ]
    },
    {
      "cell_type": "markdown",
      "metadata": {
        "id": "1gf8rIpq7F-U"
      },
      "source": [
        "# Optuna"
      ]
    },
    {
      "cell_type": "code",
      "metadata": {
        "id": "M7IUcEI848t6"
      },
      "source": [
        "!pip install optuna"
      ],
      "execution_count": null,
      "outputs": []
    },
    {
      "cell_type": "code",
      "metadata": {
        "id": "meTHlTJi64QG",
        "outputId": "d8f1240e-7c07-4289-e948-18d1642d3e36",
        "colab": {
          "base_uri": "https://localhost:8080/",
          "height": 224
        }
      },
      "source": [
        "import optuna\n",
        "\n",
        "def objective(trial):\n",
        "\n",
        "    optimizer = trial.suggest_categorical('algorithm', ['auto','ball_tree','kd_tree','brute'])\n",
        "    rf_max_depth = trial.suggest_int(\"k_n_neighbors\", 2, 10, log=True)\n",
        "    knn = KNeighborsClassifier(n_neighbors=rf_max_depth,algorithm=optimizer)\n",
        "\n",
        "    score = cross_val_score(knn, X_train,y_train, n_jobs=-1, cv=3)\n",
        "    accuracy = score.mean()\n",
        "    return accuracy\n",
        "\n",
        "\n",
        "if __name__ == \"__main__\":\n",
        "    study = optuna.create_study(direction=\"maximize\")\n",
        "    study.optimize(objective, n_trials=10)\n",
        "    print(study.best_trial)"
      ],
      "execution_count": null,
      "outputs": [
        {
          "output_type": "stream",
          "text": [
            "[I 2020-09-03 13:08:29,976] Trial 0 finished with value: 0.9333333333333332 and parameters: {'algorithm': 'ball_tree', 'k_n_neighbors': 2}. Best is trial 0 with value: 0.9333333333333332.\n",
            "[I 2020-09-03 13:08:30,011] Trial 1 finished with value: 0.9523809523809522 and parameters: {'algorithm': 'brute', 'k_n_neighbors': 6}. Best is trial 1 with value: 0.9523809523809522.\n",
            "[I 2020-09-03 13:08:30,034] Trial 2 finished with value: 0.9714285714285714 and parameters: {'algorithm': 'auto', 'k_n_neighbors': 7}. Best is trial 2 with value: 0.9714285714285714.\n",
            "[I 2020-09-03 13:08:30,058] Trial 3 finished with value: 0.9523809523809524 and parameters: {'algorithm': 'brute', 'k_n_neighbors': 8}. Best is trial 2 with value: 0.9714285714285714.\n",
            "[I 2020-09-03 13:08:30,081] Trial 4 finished with value: 0.9333333333333332 and parameters: {'algorithm': 'auto', 'k_n_neighbors': 2}. Best is trial 2 with value: 0.9714285714285714.\n",
            "[I 2020-09-03 13:08:30,103] Trial 5 finished with value: 0.9428571428571427 and parameters: {'algorithm': 'kd_tree', 'k_n_neighbors': 4}. Best is trial 2 with value: 0.9714285714285714.\n",
            "[I 2020-09-03 13:08:30,124] Trial 6 finished with value: 0.9523809523809522 and parameters: {'algorithm': 'auto', 'k_n_neighbors': 5}. Best is trial 2 with value: 0.9714285714285714.\n",
            "[I 2020-09-03 13:08:30,147] Trial 7 finished with value: 0.9523809523809524 and parameters: {'algorithm': 'auto', 'k_n_neighbors': 10}. Best is trial 2 with value: 0.9714285714285714.\n",
            "[I 2020-09-03 13:08:30,169] Trial 8 finished with value: 0.9523809523809524 and parameters: {'algorithm': 'brute', 'k_n_neighbors': 10}. Best is trial 2 with value: 0.9714285714285714.\n",
            "[I 2020-09-03 13:08:30,192] Trial 9 finished with value: 0.9619047619047619 and parameters: {'algorithm': 'ball_tree', 'k_n_neighbors': 9}. Best is trial 2 with value: 0.9714285714285714.\n"
          ],
          "name": "stderr"
        },
        {
          "output_type": "stream",
          "text": [
            "FrozenTrial(number=2, value=0.9714285714285714, datetime_start=datetime.datetime(2020, 9, 3, 13, 8, 30, 18913), datetime_complete=datetime.datetime(2020, 9, 3, 13, 8, 30, 33828), params={'algorithm': 'auto', 'k_n_neighbors': 7}, distributions={'algorithm': CategoricalDistribution(choices=('auto', 'ball_tree', 'kd_tree', 'brute')), 'k_n_neighbors': IntLogUniformDistribution(high=10, low=2, step=1)}, user_attrs={}, system_attrs={}, intermediate_values={}, trial_id=2, state=TrialState.COMPLETE)\n"
          ],
          "name": "stdout"
        }
      ]
    },
    {
      "cell_type": "code",
      "metadata": {
        "id": "yQ-Vii-ATrlX",
        "outputId": "84b96ecc-ee55-4667-e1ee-1f7a809f3280",
        "colab": {
          "base_uri": "https://localhost:8080/",
          "height": 34
        }
      },
      "source": [
        "study.best_params"
      ],
      "execution_count": null,
      "outputs": [
        {
          "output_type": "execute_result",
          "data": {
            "text/plain": [
              "{'algorithm': 'auto', 'k_n_neighbors': 7}"
            ]
          },
          "metadata": {
            "tags": []
          },
          "execution_count": 16
        }
      ]
    },
    {
      "cell_type": "code",
      "metadata": {
        "id": "RlfNbLFQa6at",
        "outputId": "84a6041f-2306-445d-bcaf-c1f84f845520",
        "colab": {
          "base_uri": "https://localhost:8080/",
          "height": 34
        }
      },
      "source": [
        "study.best_value"
      ],
      "execution_count": null,
      "outputs": [
        {
          "output_type": "execute_result",
          "data": {
            "text/plain": [
              "0.9714285714285714"
            ]
          },
          "metadata": {
            "tags": []
          },
          "execution_count": 17
        }
      ]
    },
    {
      "cell_type": "markdown",
      "metadata": {
        "id": "XJn74QqslN01"
      },
      "source": [
        "# TuneSearchCV Bayesian Optimization"
      ]
    },
    {
      "cell_type": "code",
      "metadata": {
        "id": "hPs7uPdOa6o3"
      },
      "source": [
        "!pip install tune-sklearn \"ray[tune]\"\n",
        "!pip install scikit-optimize"
      ],
      "execution_count": null,
      "outputs": []
    },
    {
      "cell_type": "code",
      "metadata": {
        "id": "6j9RUla3kk0O",
        "outputId": "0edc2164-c45b-4cf9-99b8-b19e4de86687",
        "colab": {
          "base_uri": "https://localhost:8080/",
          "height": 680
        }
      },
      "source": [
        "from tune_sklearn import TuneSearchCV\n",
        "from ray.tune.schedulers import MedianStoppingRule\n",
        "import numpy as np\n",
        "import warnings\n",
        "warnings.filterwarnings(\"ignore\") \n",
        "\n",
        "knn = KNeighborsClassifier()\n",
        "grid_param = { 'n_neighbors' : list(range(2,11)) , 'algorithm' : ['auto','ball_tree','kd_tree','brute'] }\n",
        "\n",
        "# scheduler = MedianStoppingRule(grace_period=10.0)\n",
        "\n",
        "tune_search = TuneSearchCV(knn,grid_param,search_optimization=\"bayesian\",max_iters=10)\n",
        "tune_search.fit(X_train,y_train)\n",
        "\n",
        "# pred = tune_search.predict(X_test)\n",
        "# accuracy = np.count_nonzero(np.array(pred) == np.array(y_test)) / len(pred)\n",
        "# print(accuracy)"
      ],
      "execution_count": null,
      "outputs": [
        {
          "output_type": "stream",
          "text": [
            "The dashboard on node bcba4b54807b failed with the following error:\n",
            "Traceback (most recent call last):\n",
            "  File \"/usr/lib/python3.6/asyncio/base_events.py\", line 1062, in create_server\n",
            "    sock.bind(sa)\n",
            "OSError: [Errno 99] Cannot assign requested address\n",
            "\n",
            "During handling of the above exception, another exception occurred:\n",
            "\n",
            "Traceback (most recent call last):\n",
            "  File \"/usr/local/lib/python3.6/dist-packages/ray/dashboard/dashboard.py\", line 961, in <module>\n",
            "    dashboard.run()\n",
            "  File \"/usr/local/lib/python3.6/dist-packages/ray/dashboard/dashboard.py\", line 576, in run\n",
            "    aiohttp.web.run_app(self.app, host=self.host, port=self.port)\n",
            "  File \"/usr/local/lib/python3.6/dist-packages/aiohttp/web.py\", line 433, in run_app\n",
            "    reuse_port=reuse_port))\n",
            "  File \"/usr/lib/python3.6/asyncio/base_events.py\", line 484, in run_until_complete\n",
            "    return future.result()\n",
            "  File \"/usr/local/lib/python3.6/dist-packages/aiohttp/web.py\", line 359, in _run_app\n",
            "    await site.start()\n",
            "  File \"/usr/local/lib/python3.6/dist-packages/aiohttp/web_runner.py\", line 104, in start\n",
            "    reuse_port=self._reuse_port)\n",
            "  File \"/usr/lib/python3.6/asyncio/base_events.py\", line 1066, in create_server\n",
            "    % (sa, err.strerror.lower()))\n",
            "OSError: [Errno 99] error while attempting to bind on address ('::1', 8265, 0, 0): cannot assign requested address\n",
            "\n"
          ],
          "name": "stderr"
        },
        {
          "output_type": "execute_result",
          "data": {
            "text/plain": [
              "TuneSearchCV(cv=None, early_stopping=None, error_score=nan,\n",
              "             estimator=KNeighborsClassifier(algorithm='auto', leaf_size=30,\n",
              "                                            metric='minkowski',\n",
              "                                            metric_params=None, n_jobs=None,\n",
              "                                            n_neighbors=5, p=2,\n",
              "                                            weights='uniform'),\n",
              "             local_dir='~/ray_results', max_iters=1, n_iter=None, n_jobs=None,\n",
              "             param_distributions={'algorithm': ['auto', 'ball_tree', 'kd_tree',\n",
              "                                                'brute'],\n",
              "                                  'n_neighbors': [2, 3, 4, 5, 6, 7, 8, 9, 10]},\n",
              "             random_state=None, refit=True, return_train_score=False,\n",
              "             scoring=<function _passthrough_scorer at 0x7fdb66b47f28>,\n",
              "             search_optimization='bayesian', sk_n_jobs=-1, use_gpu=False,\n",
              "             verbose=0)"
            ]
          },
          "metadata": {
            "tags": []
          },
          "execution_count": 19
        }
      ]
    },
    {
      "cell_type": "code",
      "metadata": {
        "id": "IJHyPFc3lchI",
        "outputId": "25e3ecd6-ea20-4d1f-bb1c-d8a3b7f566a1",
        "colab": {
          "base_uri": "https://localhost:8080/",
          "height": 34
        }
      },
      "source": [
        "tune_search.best_params_"
      ],
      "execution_count": null,
      "outputs": [
        {
          "output_type": "execute_result",
          "data": {
            "text/plain": [
              "{'algorithm': 'auto', 'n_neighbors': 9}"
            ]
          },
          "metadata": {
            "tags": []
          },
          "execution_count": 20
        }
      ]
    },
    {
      "cell_type": "code",
      "metadata": {
        "id": "KKRtmwC1nHh8",
        "outputId": "28d8b2d3-7db5-4b89-ae5b-2f10a22dadb8",
        "colab": {
          "base_uri": "https://localhost:8080/",
          "height": 34
        }
      },
      "source": [
        "tune_search.best_score_"
      ],
      "execution_count": null,
      "outputs": [
        {
          "output_type": "execute_result",
          "data": {
            "text/plain": [
              "0.9714285714285716"
            ]
          },
          "metadata": {
            "tags": []
          },
          "execution_count": 21
        }
      ]
    },
    {
      "cell_type": "code",
      "metadata": {
        "id": "e4IXkhkEnK-1",
        "outputId": "de9c05b8-c837-45a4-b0c4-0ffb21feffc7",
        "colab": {
          "base_uri": "https://localhost:8080/",
          "height": 187
        }
      },
      "source": [
        "tune_search.cv_results_['params']"
      ],
      "execution_count": null,
      "outputs": [
        {
          "output_type": "execute_result",
          "data": {
            "text/plain": [
              "[{'algorithm': 'kd_tree', 'n_neighbors': 2},\n",
              " {'algorithm': 'auto', 'n_neighbors': 9},\n",
              " {'algorithm': 'kd_tree', 'n_neighbors': 10},\n",
              " {'algorithm': 'brute', 'n_neighbors': 4},\n",
              " {'algorithm': 'ball_tree', 'n_neighbors': 7},\n",
              " {'algorithm': 'auto', 'n_neighbors': 4},\n",
              " {'algorithm': 'brute', 'n_neighbors': 9},\n",
              " {'algorithm': 'kd_tree', 'n_neighbors': 2},\n",
              " {'algorithm': 'auto', 'n_neighbors': 9},\n",
              " {'algorithm': 'ball_tree', 'n_neighbors': 3}]"
            ]
          },
          "metadata": {
            "tags": []
          },
          "execution_count": 22
        }
      ]
    },
    {
      "cell_type": "markdown",
      "metadata": {
        "id": "GNvyANZxQO0u"
      },
      "source": [
        "## Bayesian Optimization"
      ]
    },
    {
      "cell_type": "code",
      "metadata": {
        "id": "OLEq3_-gngmU"
      },
      "source": [
        "!pip install scikit-optimize"
      ],
      "execution_count": null,
      "outputs": []
    },
    {
      "cell_type": "code",
      "metadata": {
        "id": "e8VZo61NQUdm",
        "outputId": "92565698-11ee-488a-a078-88a6cf375a2e",
        "colab": {
          "base_uri": "https://localhost:8080/",
          "height": 238
        }
      },
      "source": [
        "from skopt import BayesSearchCV\n",
        "import warnings\n",
        "warnings.filterwarnings(\"ignore\") \n",
        "# parameter ranges are specified by one of below\n",
        "from skopt.space import Real, Categorical, Integer\n",
        "knn = KNeighborsClassifier()\n",
        "grid_param = { 'n_neighbors' : list(range(2,11)) , 'algorithm' : ['auto','ball_tree','kd_tree','brute'] }\n",
        "Bayes = BayesSearchCV(knn,grid_param,n_iter=32,random_state=0)\n",
        "Bayes.fit(X_train,y_train)\n"
      ],
      "execution_count": null,
      "outputs": [
        {
          "output_type": "execute_result",
          "data": {
            "text/plain": [
              "BayesSearchCV(cv=None, error_score='raise',\n",
              "              estimator=KNeighborsClassifier(algorithm='auto', leaf_size=30,\n",
              "                                             metric='minkowski',\n",
              "                                             metric_params=None, n_jobs=None,\n",
              "                                             n_neighbors=5, p=2,\n",
              "                                             weights='uniform'),\n",
              "              fit_params=None, iid=True, n_iter=32, n_jobs=1, n_points=1,\n",
              "              optimizer_kwargs=None, pre_dispatch='2*n_jobs', random_state=0,\n",
              "              refit=True, return_train_score=False, scoring=None,\n",
              "              search_spaces={'algorithm': ['auto', 'ball_tree', 'kd_tree',\n",
              "                                           'brute'],\n",
              "                             'n_neighbors': [2, 3, 4, 5, 6, 7, 8, 9, 10]},\n",
              "              verbose=0)"
            ]
          },
          "metadata": {
            "tags": []
          },
          "execution_count": 24
        }
      ]
    },
    {
      "cell_type": "code",
      "metadata": {
        "id": "-eiSnrqCRSGp",
        "outputId": "747f96f7-c8aa-49ca-a8c1-c56c98fe9637",
        "colab": {
          "base_uri": "https://localhost:8080/",
          "height": 34
        }
      },
      "source": [
        "Bayes.best_params_"
      ],
      "execution_count": null,
      "outputs": [
        {
          "output_type": "execute_result",
          "data": {
            "text/plain": [
              "OrderedDict([('algorithm', 'ball_tree'), ('n_neighbors', 10)])"
            ]
          },
          "metadata": {
            "tags": []
          },
          "execution_count": 25
        }
      ]
    },
    {
      "cell_type": "code",
      "metadata": {
        "id": "2ryJhZ-zRl7R",
        "outputId": "609171f2-b143-4e5a-fffe-5d16abd30d8f",
        "colab": {
          "base_uri": "https://localhost:8080/",
          "height": 34
        }
      },
      "source": [
        "Bayes.best_score_"
      ],
      "execution_count": null,
      "outputs": [
        {
          "output_type": "execute_result",
          "data": {
            "text/plain": [
              "0.9714285714285714"
            ]
          },
          "metadata": {
            "tags": []
          },
          "execution_count": 26
        }
      ]
    },
    {
      "cell_type": "code",
      "metadata": {
        "id": "76CG8LeRRoxH",
        "outputId": "dbf072e9-1049-4091-e83a-26407d1bb217",
        "colab": {
          "base_uri": "https://localhost:8080/",
          "height": 561
        }
      },
      "source": [
        "Bayes.cv_results_['params']"
      ],
      "execution_count": null,
      "outputs": [
        {
          "output_type": "execute_result",
          "data": {
            "text/plain": [
              "[OrderedDict([('algorithm', 'kd_tree'), ('n_neighbors', 8)]),\n",
              " OrderedDict([('algorithm', 'ball_tree'), ('n_neighbors', 10)]),\n",
              " OrderedDict([('algorithm', 'kd_tree'), ('n_neighbors', 2)]),\n",
              " OrderedDict([('algorithm', 'auto'), ('n_neighbors', 9)]),\n",
              " OrderedDict([('algorithm', 'auto'), ('n_neighbors', 4)]),\n",
              " OrderedDict([('algorithm', 'brute'), ('n_neighbors', 10)]),\n",
              " OrderedDict([('algorithm', 'brute'), ('n_neighbors', 8)]),\n",
              " OrderedDict([('algorithm', 'kd_tree'), ('n_neighbors', 6)]),\n",
              " OrderedDict([('algorithm', 'auto'), ('n_neighbors', 10)]),\n",
              " OrderedDict([('algorithm', 'ball_tree'), ('n_neighbors', 5)]),\n",
              " OrderedDict([('algorithm', 'ball_tree'), ('n_neighbors', 7)]),\n",
              " OrderedDict([('algorithm', 'auto'), ('n_neighbors', 3)]),\n",
              " OrderedDict([('algorithm', 'auto'), ('n_neighbors', 6)]),\n",
              " OrderedDict([('algorithm', 'auto'), ('n_neighbors', 5)]),\n",
              " OrderedDict([('algorithm', 'ball_tree'), ('n_neighbors', 9)]),\n",
              " OrderedDict([('algorithm', 'ball_tree'), ('n_neighbors', 6)]),\n",
              " OrderedDict([('algorithm', 'kd_tree'), ('n_neighbors', 5)]),\n",
              " OrderedDict([('algorithm', 'kd_tree'), ('n_neighbors', 9)]),\n",
              " OrderedDict([('algorithm', 'brute'), ('n_neighbors', 6)]),\n",
              " OrderedDict([('algorithm', 'auto'), ('n_neighbors', 9)]),\n",
              " OrderedDict([('algorithm', 'ball_tree'), ('n_neighbors', 5)]),\n",
              " OrderedDict([('algorithm', 'auto'), ('n_neighbors', 5)]),\n",
              " OrderedDict([('algorithm', 'ball_tree'), ('n_neighbors', 9)]),\n",
              " OrderedDict([('algorithm', 'kd_tree'), ('n_neighbors', 10)]),\n",
              " OrderedDict([('algorithm', 'kd_tree'), ('n_neighbors', 9)]),\n",
              " OrderedDict([('algorithm', 'ball_tree'), ('n_neighbors', 3)]),\n",
              " OrderedDict([('algorithm', 'auto'), ('n_neighbors', 5)]),\n",
              " OrderedDict([('algorithm', 'kd_tree'), ('n_neighbors', 5)]),\n",
              " OrderedDict([('algorithm', 'auto'), ('n_neighbors', 9)]),\n",
              " OrderedDict([('algorithm', 'ball_tree'), ('n_neighbors', 10)]),\n",
              " OrderedDict([('algorithm', 'ball_tree'), ('n_neighbors', 6)]),\n",
              " OrderedDict([('algorithm', 'ball_tree'), ('n_neighbors', 8)])]"
            ]
          },
          "metadata": {
            "tags": []
          },
          "execution_count": 27
        }
      ]
    },
    {
      "cell_type": "code",
      "metadata": {
        "id": "ZRPApLceRwU6"
      },
      "source": [
        ""
      ],
      "execution_count": null,
      "outputs": []
    },
    {
      "cell_type": "markdown",
      "metadata": {
        "id": "SsL37u5h-xF2"
      },
      "source": [
        "Hyperopt "
      ]
    },
    {
      "cell_type": "code",
      "metadata": {
        "id": "_Xh-X7-W-5bZ",
        "outputId": "1bc16455-3e15-4c6a-9fb9-bcd6639ac95c",
        "colab": {
          "base_uri": "https://localhost:8080/",
          "height": 153
        }
      },
      "source": [
        "from hyperopt import fmin, tpe, hp, STATUS_OK, Trials , space_eval\n",
        "from sklearn.ensemble import RandomForestClassifier\n",
        "from sklearn.model_selection import cross_val_score\n",
        "from sklearn.datasets import load_iris\n",
        "\n",
        "iris = load_iris()\n",
        "X = iris.data\n",
        "y = iris.target\n",
        "\n",
        "def hyperopt_train_test(params):\n",
        "    clf = RandomForestClassifier(**params)\n",
        "    return cross_val_score(clf, X, y).mean()\n",
        "\n",
        "space = {\n",
        "    'max_depth': hp.choice('max_depth', range(1,20)),\n",
        "    'max_features': hp.choice('max_features', range(1,5)),\n",
        "    'n_estimators': hp.choice('n_estimators', range(1,20)),\n",
        "    'criterion': hp.choice('criterion', [\"gini\", \"entropy\"])\n",
        "            }\n",
        "best = 0\n",
        "def f(params):\n",
        "    global best\n",
        "    acc = hyperopt_train_test(params)\n",
        "    if acc > best:\n",
        "      best = acc\n",
        "      print( 'new best:', best, params)\n",
        "    return {'loss': -acc, 'status': STATUS_OK}\n",
        "trials = Trials()\n",
        "best = fmin(f, space, algo=tpe.suggest, max_evals=300, trials=trials)\n",
        "print(best)"
      ],
      "execution_count": 2,
      "outputs": [
        {
          "output_type": "stream",
          "text": [
            "new best:\n",
            "0.9666666666666668\n",
            "{'criterion': 'gini', 'max_depth': 13, 'max_features': 4, 'n_estimators': 6}\n",
            "new best:\n",
            "0.9733333333333334\n",
            "{'criterion': 'gini', 'max_depth': 10, 'max_features': 4, 'n_estimators': 3}\n",
            "100%|██████████| 300/300 [00:26<00:00, 11.49it/s, best loss: -0.9733333333333334]\n",
            "{'criterion': 0, 'max_depth': 9, 'max_features': 3, 'n_estimators': 2}\n"
          ],
          "name": "stdout"
        }
      ]
    },
    {
      "cell_type": "markdown",
      "metadata": {
        "id": "yuIwHUUmAIiF"
      },
      "source": [
        "https://medium.com/district-data-labs/parameter-tuning-with-hyperopt-faa86acdfdce\n",
        "\n",
        "https://towardsdatascience.com/an-introductory-example-of-bayesian-optimization-in-python-with-hyperopt-aae40fff4ff0\n",
        "\n",
        "https://medium.com/vantageai/bringing-back-the-time-spent-on-hyperparameter-tuning-with-bayesian-optimisation-2e21a3198afb"
      ]
    },
    {
      "cell_type": "code",
      "metadata": {
        "id": "YvE64Eh3-8Ts"
      },
      "source": [
        "!pip install ray[tune] tune-sklearn"
      ],
      "execution_count": null,
      "outputs": []
    },
    {
      "cell_type": "code",
      "metadata": {
        "id": "TGpFnBAA_Nc6"
      },
      "source": [
        "# from sklearn.model_selection import GridSearchCV\n",
        "from ray.tune.sklearn import TuneGridSearchCV"
      ],
      "execution_count": 13,
      "outputs": []
    },
    {
      "cell_type": "code",
      "metadata": {
        "id": "xl2j0nQTOOnA"
      },
      "source": [
        "from sklearn.model_selection import train_test_split\n",
        "from sklearn.linear_model import SGDClassifier\n",
        "from sklearn.datasets import load_iris\n",
        "import numpy as np\n",
        "\n",
        "\n",
        "iris = load_iris()\n",
        "X = iris.data\n",
        "y = iris.target\n",
        "\n",
        "x_train, x_test, y_train, y_test = train_test_split(X,y,test_size = 0.3,random_state = 14)\n",
        "\n",
        "# Example parameters to tune from SGDClassifier\n",
        "parameter_grid = {\"alpha\": [1e-4, 1e-1, 1], \"epsilon\": [0.01, 0.1]}"
      ],
      "execution_count": 19,
      "outputs": []
    },
    {
      "cell_type": "code",
      "metadata": {
        "id": "B93eYydtOeiX",
        "outputId": "f2579922-8039-432a-d1f4-2157481b3d67",
        "colab": {
          "base_uri": "https://localhost:8080/",
          "height": 51
        }
      },
      "source": [
        "tune_search = TuneGridSearchCV(\n",
        "    SGDClassifier(),\n",
        "    parameter_grid,\n",
        "    early_stopping=True,\n",
        "    max_iters=10)\n",
        "\n",
        "tune_search.fit(x_train, y_train)\n",
        "print(tune_search.best_score)\n",
        "print(tune_search.best_params_)"
      ],
      "execution_count": 20,
      "outputs": [
        {
          "output_type": "stream",
          "text": [
            "0.7619047619047619\n",
            "{'alpha': 0.0001, 'epsilon': 0.01}\n"
          ],
          "name": "stdout"
        }
      ]
    },
    {
      "cell_type": "code",
      "metadata": {
        "id": "u1J-zliKOqMX"
      },
      "source": [
        ""
      ],
      "execution_count": null,
      "outputs": []
    },
    {
      "cell_type": "markdown",
      "metadata": {
        "id": "hj7c8bNeUjzl"
      },
      "source": [
        "## SHERPA "
      ]
    },
    {
      "cell_type": "code",
      "metadata": {
        "id": "mpRoaJt-USXK",
        "outputId": "7bd89827-8753-4295-ae4d-b6c73608127e",
        "colab": {
          "base_uri": "https://localhost:8080/",
          "height": 972
        }
      },
      "source": [
        "!pip install parameter-sherpa"
      ],
      "execution_count": 21,
      "outputs": [
        {
          "output_type": "stream",
          "text": [
            "Collecting parameter-sherpa\n",
            "\u001b[?25l  Downloading https://files.pythonhosted.org/packages/7e/7f/58250c8ca0c0c2a2f4a8d9692ac2ae75ff6f4f111c8db7c63eb668ef1f3e/parameter-sherpa-1.0.6.tar.gz (513kB)\n",
            "\u001b[K     |████████████████████████████████| 522kB 3.0MB/s \n",
            "\u001b[?25hRequirement already satisfied: pandas>=0.20.3 in /usr/local/lib/python3.6/dist-packages (from parameter-sherpa) (1.0.5)\n",
            "Requirement already satisfied: pymongo>=3.5.1 in /usr/local/lib/python3.6/dist-packages (from parameter-sherpa) (3.11.0)\n",
            "Requirement already satisfied: numpy>=1.8.2 in /usr/local/lib/python3.6/dist-packages (from parameter-sherpa) (1.18.5)\n",
            "Requirement already satisfied: scipy>=1.0.0 in /usr/local/lib/python3.6/dist-packages (from parameter-sherpa) (1.4.1)\n",
            "Requirement already satisfied: scikit-learn>=0.19.1 in /usr/local/lib/python3.6/dist-packages (from parameter-sherpa) (0.22.2.post1)\n",
            "Requirement already satisfied: flask>=0.12.2 in /usr/local/lib/python3.6/dist-packages (from parameter-sherpa) (1.1.2)\n",
            "Collecting GPyOpt>=1.2.5\n",
            "\u001b[?25l  Downloading https://files.pythonhosted.org/packages/52/be/669d505416d7e465b2aef7df3b58d590f56468c4f7dc50c91fe91b8a78d9/GPyOpt-1.2.6.tar.gz (56kB)\n",
            "\u001b[K     |████████████████████████████████| 61kB 5.9MB/s \n",
            "\u001b[?25hCollecting enum34\n",
            "  Downloading https://files.pythonhosted.org/packages/63/f6/ccb1c83687756aeabbf3ca0f213508fcfb03883ff200d201b3a4c60cedcc/enum34-1.1.10-py3-none-any.whl\n",
            "Requirement already satisfied: matplotlib in /usr/local/lib/python3.6/dist-packages (from parameter-sherpa) (3.2.2)\n",
            "Requirement already satisfied: pytz>=2017.2 in /usr/local/lib/python3.6/dist-packages (from pandas>=0.20.3->parameter-sherpa) (2018.9)\n",
            "Requirement already satisfied: python-dateutil>=2.6.1 in /usr/local/lib/python3.6/dist-packages (from pandas>=0.20.3->parameter-sherpa) (2.8.1)\n",
            "Requirement already satisfied: joblib>=0.11 in /usr/local/lib/python3.6/dist-packages (from scikit-learn>=0.19.1->parameter-sherpa) (0.16.0)\n",
            "Requirement already satisfied: click>=5.1 in /usr/local/lib/python3.6/dist-packages (from flask>=0.12.2->parameter-sherpa) (7.1.2)\n",
            "Requirement already satisfied: itsdangerous>=0.24 in /usr/local/lib/python3.6/dist-packages (from flask>=0.12.2->parameter-sherpa) (1.1.0)\n",
            "Requirement already satisfied: Werkzeug>=0.15 in /usr/local/lib/python3.6/dist-packages (from flask>=0.12.2->parameter-sherpa) (1.0.1)\n",
            "Requirement already satisfied: Jinja2>=2.10.1 in /usr/local/lib/python3.6/dist-packages (from flask>=0.12.2->parameter-sherpa) (2.11.2)\n",
            "Collecting GPy>=1.8\n",
            "\u001b[?25l  Downloading https://files.pythonhosted.org/packages/67/95/976598f98adbfa918a480cb2d643f93fb555ca5b6c5614f76b69678114c1/GPy-1.9.9.tar.gz (995kB)\n",
            "\u001b[K     |████████████████████████████████| 1.0MB 14.1MB/s \n",
            "\u001b[?25hRequirement already satisfied: pyparsing!=2.0.4,!=2.1.2,!=2.1.6,>=2.0.1 in /usr/local/lib/python3.6/dist-packages (from matplotlib->parameter-sherpa) (2.4.7)\n",
            "Requirement already satisfied: kiwisolver>=1.0.1 in /usr/local/lib/python3.6/dist-packages (from matplotlib->parameter-sherpa) (1.2.0)\n",
            "Requirement already satisfied: cycler>=0.10 in /usr/local/lib/python3.6/dist-packages (from matplotlib->parameter-sherpa) (0.10.0)\n",
            "Requirement already satisfied: six>=1.5 in /usr/local/lib/python3.6/dist-packages (from python-dateutil>=2.6.1->pandas>=0.20.3->parameter-sherpa) (1.15.0)\n",
            "Requirement already satisfied: MarkupSafe>=0.23 in /usr/local/lib/python3.6/dist-packages (from Jinja2>=2.10.1->flask>=0.12.2->parameter-sherpa) (1.1.1)\n",
            "Collecting paramz>=0.9.0\n",
            "\u001b[?25l  Downloading https://files.pythonhosted.org/packages/d8/37/4abbeb78d30f20d3402887f46e6e9f3ef32034a9dea65d243654c82c8553/paramz-0.9.5.tar.gz (71kB)\n",
            "\u001b[K     |████████████████████████████████| 71kB 6.6MB/s \n",
            "\u001b[?25hRequirement already satisfied: decorator>=4.0.10 in /usr/local/lib/python3.6/dist-packages (from paramz>=0.9.0->GPy>=1.8->GPyOpt>=1.2.5->parameter-sherpa) (4.4.2)\n",
            "Building wheels for collected packages: parameter-sherpa, GPyOpt, GPy, paramz\n",
            "  Building wheel for parameter-sherpa (setup.py) ... \u001b[?25l\u001b[?25hdone\n",
            "  Created wheel for parameter-sherpa: filename=parameter_sherpa-1.0.6-py2.py3-none-any.whl size=542119 sha256=8245a1519ed949ac97c581d1c4a7806a83c56209d3ff0d33eb26d0bb0ee4a6c4\n",
            "  Stored in directory: /root/.cache/pip/wheels/a3/a5/0e/50f662d278b580f9ed20f6ea3c129e8d09eda95cf45666063c\n",
            "  Building wheel for GPyOpt (setup.py) ... \u001b[?25l\u001b[?25hdone\n",
            "  Created wheel for GPyOpt: filename=GPyOpt-1.2.6-cp36-none-any.whl size=83622 sha256=4d02715d2bdb0821685c7b2b9f9c0bf933195757da31b9fb94e1c3f1f1632025\n",
            "  Stored in directory: /root/.cache/pip/wheels/b2/00/69/cfa967a125cf25e66f644be6193ad6f0edf231147879ad714f\n",
            "  Building wheel for GPy (setup.py) ... \u001b[?25l\u001b[?25hdone\n",
            "  Created wheel for GPy: filename=GPy-1.9.9-cp36-cp36m-linux_x86_64.whl size=2633921 sha256=cd8e51d7d3e354bea745e2fbea4d9165f8a1a39e92323f5c560ec93570a3a2f2\n",
            "  Stored in directory: /root/.cache/pip/wheels/5d/36/66/2b58860c84c9f2b51615da66bfd6feeddbc4e04d887ff96dfa\n",
            "  Building wheel for paramz (setup.py) ... \u001b[?25l\u001b[?25hdone\n",
            "  Created wheel for paramz: filename=paramz-0.9.5-cp36-none-any.whl size=102551 sha256=fddcca36c4e1e22b7847f5d14025b459f1b30cc97fc075ff5407b0259ad919ca\n",
            "  Stored in directory: /root/.cache/pip/wheels/c8/4a/0e/6e0dc85541825f991c431619e25b870d4b812c911214690cf8\n",
            "Successfully built parameter-sherpa GPyOpt GPy paramz\n",
            "Installing collected packages: paramz, GPy, GPyOpt, enum34, parameter-sherpa\n",
            "Successfully installed GPy-1.9.9 GPyOpt-1.2.6 enum34-1.1.10 parameter-sherpa-1.0.6 paramz-0.9.5\n"
          ],
          "name": "stdout"
        },
        {
          "output_type": "display_data",
          "data": {
            "application/vnd.colab-display-data+json": {
              "pip_warning": {
                "packages": [
                  "enum"
                ]
              }
            }
          },
          "metadata": {
            "tags": []
          }
        }
      ]
    },
    {
      "cell_type": "code",
      "metadata": {
        "id": "yLV9ZIZDUSLh",
        "outputId": "b3d2a2e1-511a-4908-da35-5328af684958",
        "colab": {
          "base_uri": "https://localhost:8080/",
          "height": 1000
        }
      },
      "source": [
        "from sklearn.datasets import load_breast_cancer\n",
        "from sklearn.ensemble import RandomForestClassifier\n",
        "from sklearn.model_selection import cross_val_score\n",
        "import time\n",
        "import sherpa\n",
        "import sherpa.algorithms.bayesian_optimization as bayesian_optimization\n",
        "\n",
        "\n",
        "parameters = [sherpa.Discrete('n_estimators', [2, 50]),\n",
        "              sherpa.Choice('criterion', ['gini', 'entropy']),\n",
        "              sherpa.Continuous('max_features', [0.1, 0.9])]\n",
        "\n",
        "algorithm = bayesian_optimization.GPyOpt(max_concurrent=1,\n",
        "                                         model_type='GP_MCMC',\n",
        "                                         acquisition_type='EI_MCMC',\n",
        "                                         max_num_trials=10)\n",
        "\n",
        "X, y = load_breast_cancer(return_X_y=True)\n",
        "study = sherpa.Study(parameters=parameters,\n",
        "                     algorithm=algorithm,\n",
        "                     lower_is_better=False)\n",
        "\n",
        "for trial in study:\n",
        "    print(\"Trial \", trial.id, \" with parameters \", trial.parameters)\n",
        "    clf = RandomForestClassifier(criterion=trial.parameters['criterion'],\n",
        "                                 max_features=trial.parameters['max_features'],\n",
        "                                 n_estimators=trial.parameters['n_estimators'],\n",
        "                                 random_state=0)\n",
        "    scores = cross_val_score(clf, X, y, cv=5)\n",
        "    print(\"Score: \", scores.mean())\n",
        "    study.add_observation(trial, iteration=1, objective=scores.mean())\n",
        "    study.finalize(trial)\n",
        "print(study.get_best_result())"
      ],
      "execution_count": 38,
      "outputs": [
        {
          "output_type": "stream",
          "text": [
            "INFO:sherpa.core:\n",
            "-------------------------------------------------------\n",
            "SHERPA Dashboard running. Access via\n",
            "http://172.28.0.2:8881 if on a cluster or\n",
            "http://localhost:8881 if running locally.\n",
            "-------------------------------------------------------\n"
          ],
          "name": "stderr"
        },
        {
          "output_type": "stream",
          "text": [
            " * Serving Flask app \"sherpa.app.app\" (lazy loading)\n",
            " * Environment: production\n",
            "\u001b[31m   WARNING: This is a development server. Do not use it in a production deployment.\u001b[0m\n",
            "\u001b[2m   Use a production WSGI server instead.\u001b[0m\n",
            " * Debug mode: on\n",
            "Trial  1  with parameters  {'n_estimators': 9, 'criterion': 'entropy', 'max_features': 0.7234277268894264}\n",
            "Score:  0.9613724576929048\n",
            "Trial  2  with parameters  {'n_estimators': 34, 'criterion': 'gini', 'max_features': 0.22867330481594828}\n",
            "Score:  0.9648967551622418\n",
            "Trial  3  with parameters  {'n_estimators': 7, 'criterion': 'gini', 'max_features': 0.5330135729720211}\n",
            "Score:  0.9508150908244062\n",
            "Trial  4  with parameters  {'n_estimators': 45, 'criterion': 'gini', 'max_features': 0.6435708817010382}\n"
          ],
          "name": "stdout"
        },
        {
          "output_type": "stream",
          "text": [
            "INFO:GP:initializing Y\n",
            "INFO:GP:initializing inference method\n",
            "INFO:GP:adding kernel and likelihood as parameters\n",
            "WARNING:rbf:reconstraining parameters GP_regression.rbf\n",
            "WARNING:variance:reconstraining parameters GP_regression.Gaussian_noise.variance\n"
          ],
          "name": "stderr"
        },
        {
          "output_type": "stream",
          "text": [
            "Score:  0.9666356155876417\n",
            "Trial  5  with parameters  {'n_estimators': 44, 'criterion': 'gini', 'max_features': 0.7741736116812135}\n"
          ],
          "name": "stdout"
        },
        {
          "output_type": "stream",
          "text": [
            "INFO:GP:initializing Y\n",
            "INFO:GP:initializing inference method\n",
            "INFO:GP:adding kernel and likelihood as parameters\n",
            "WARNING:rbf:reconstraining parameters GP_regression.rbf\n",
            "WARNING:variance:reconstraining parameters GP_regression.Gaussian_noise.variance\n"
          ],
          "name": "stderr"
        },
        {
          "output_type": "stream",
          "text": [
            "Score:  0.9613569321533924\n",
            "Trial  6  with parameters  {'n_estimators': 46, 'criterion': 'gini', 'max_features': 0.5158749679937261}\n"
          ],
          "name": "stdout"
        },
        {
          "output_type": "stream",
          "text": [
            "INFO:GP:initializing Y\n",
            "INFO:GP:initializing inference method\n",
            "INFO:GP:adding kernel and likelihood as parameters\n",
            "WARNING:rbf:reconstraining parameters GP_regression.rbf\n",
            "WARNING:variance:reconstraining parameters GP_regression.Gaussian_noise.variance\n"
          ],
          "name": "stderr"
        },
        {
          "output_type": "stream",
          "text": [
            "Score:  0.9648812296227295\n",
            "Trial  7  with parameters  {'n_estimators': 45, 'criterion': 'gini', 'max_features': 0.6059588857645971}\n"
          ],
          "name": "stdout"
        },
        {
          "output_type": "stream",
          "text": [
            "INFO:GP:initializing Y\n",
            "INFO:GP:initializing inference method\n",
            "INFO:GP:adding kernel and likelihood as parameters\n",
            "WARNING:rbf:reconstraining parameters GP_regression.rbf\n",
            "WARNING:variance:reconstraining parameters GP_regression.Gaussian_noise.variance\n"
          ],
          "name": "stderr"
        },
        {
          "output_type": "stream",
          "text": [
            "Score:  0.95960254618848\n",
            "Trial  8  with parameters  {'n_estimators': 46, 'criterion': 'gini', 'max_features': 0.5598110919224589}\n"
          ],
          "name": "stdout"
        },
        {
          "output_type": "stream",
          "text": [
            "INFO:GP:initializing Y\n",
            "INFO:GP:initializing inference method\n",
            "INFO:GP:adding kernel and likelihood as parameters\n",
            "WARNING:rbf:reconstraining parameters GP_regression.rbf\n",
            "WARNING:variance:reconstraining parameters GP_regression.Gaussian_noise.variance\n"
          ],
          "name": "stderr"
        },
        {
          "output_type": "stream",
          "text": [
            "Score:  0.95960254618848\n",
            "Trial  9  with parameters  {'n_estimators': 34, 'criterion': 'gini', 'max_features': 0.5038803982078296}\n"
          ],
          "name": "stdout"
        },
        {
          "output_type": "stream",
          "text": [
            "INFO:GP:initializing Y\n",
            "INFO:GP:initializing inference method\n",
            "INFO:GP:adding kernel and likelihood as parameters\n",
            "WARNING:rbf:reconstraining parameters GP_regression.rbf\n",
            "WARNING:variance:reconstraining parameters GP_regression.Gaussian_noise.variance\n"
          ],
          "name": "stderr"
        },
        {
          "output_type": "stream",
          "text": [
            "Score:  0.9613724576929048\n",
            "Trial  10  with parameters  {'n_estimators': 34, 'criterion': 'gini', 'max_features': 0.1832806835902013}\n",
            "Score:  0.9631113181183046\n",
            "{'Trial-ID': 4, 'Iteration': 1, 'criterion': 'gini', 'max_features': 0.6435708817010382, 'n_estimators': 45, 'Objective': 0.9666356155876417}\n"
          ],
          "name": "stdout"
        }
      ]
    },
    {
      "cell_type": "markdown",
      "metadata": {
        "id": "Hry-GGxkWQY6"
      },
      "source": [
        "## GPyOpt"
      ]
    },
    {
      "cell_type": "code",
      "metadata": {
        "id": "7LnWNglIVQNy",
        "outputId": "f2e9f4e7-b47e-4c82-d6c4-babc1a92a52d",
        "colab": {
          "base_uri": "https://localhost:8080/",
          "height": 136
        }
      },
      "source": [
        "!pip install gpyopt"
      ],
      "execution_count": 4,
      "outputs": [
        {
          "output_type": "stream",
          "text": [
            "Requirement already satisfied: gpyopt in /usr/local/lib/python3.6/dist-packages (1.2.6)\n",
            "Requirement already satisfied: numpy>=1.7 in /usr/local/lib/python3.6/dist-packages (from gpyopt) (1.18.5)\n",
            "Requirement already satisfied: scipy>=0.16 in /usr/local/lib/python3.6/dist-packages (from gpyopt) (1.4.1)\n",
            "Requirement already satisfied: GPy>=1.8 in /usr/local/lib/python3.6/dist-packages (from gpyopt) (1.9.9)\n",
            "Requirement already satisfied: paramz>=0.9.0 in /usr/local/lib/python3.6/dist-packages (from GPy>=1.8->gpyopt) (0.9.5)\n",
            "Requirement already satisfied: six in /usr/local/lib/python3.6/dist-packages (from GPy>=1.8->gpyopt) (1.15.0)\n",
            "Requirement already satisfied: decorator>=4.0.10 in /usr/local/lib/python3.6/dist-packages (from paramz>=0.9.0->GPy>=1.8->gpyopt) (4.4.2)\n"
          ],
          "name": "stdout"
        }
      ]
    },
    {
      "cell_type": "code",
      "metadata": {
        "id": "mKa3YkgwbetJ",
        "outputId": "73071d94-f90b-49a7-a39c-846ace860ec4",
        "colab": {
          "base_uri": "https://localhost:8080/",
          "height": 68
        }
      },
      "source": [
        "!pip install xgboost"
      ],
      "execution_count": 8,
      "outputs": [
        {
          "output_type": "stream",
          "text": [
            "Requirement already satisfied: xgboost in /usr/local/lib/python3.6/dist-packages (0.90)\n",
            "Requirement already satisfied: scipy in /usr/local/lib/python3.6/dist-packages (from xgboost) (1.4.1)\n",
            "Requirement already satisfied: numpy in /usr/local/lib/python3.6/dist-packages (from xgboost) (1.18.5)\n"
          ],
          "name": "stdout"
        }
      ]
    },
    {
      "cell_type": "code",
      "metadata": {
        "id": "cpd23_gjWRK1"
      },
      "source": [
        "import GPy\n",
        "import GPyOpt\n",
        "from GPyOpt.methods import BayesianOptimization\n",
        "from sklearn.model_selection import train_test_split\n",
        "import numpy as np\n",
        "from sklearn import svm\n",
        "from sklearn.datasets import load_iris\n",
        "from scipy.stats import uniform\n",
        "from xgboost import XGBRegressor\n",
        "import numpy as np\n",
        "\n",
        "# GPy.util.datasets.authorize_download = lambda x: True # prevents requesting authorization for download.\n",
        "# data = GPy.util.datasets.olympic_marathon_men()\n",
        "\n",
        "iris = load_iris()\n",
        "X = iris.data\n",
        "y = iris.target\n",
        "\n",
        "x_train, x_test, y_train, y_test = train_test_split(X,y,test_size = 0.3,random_state = 14)\n",
        "\n",
        "bds = [{'name': 'learning_rate', 'type': 'continuous', 'domain': (0, 1)},\n",
        "        {'name': 'gamma', 'type': 'continuous', 'domain': (0, 5)},\n",
        "        {'name': 'max_depth', 'type': 'discrete', 'domain': (1, 50)},\n",
        "        # {'name': 'n_estimators', 'type': 'discrete', 'domain': (1, 300)}\n",
        "       ]\n",
        "\n",
        "# Optimization objective \n",
        "def cv_score(parameters):\n",
        "    parameters = parameters[0]\n",
        "    score = cross_val_score(\n",
        "                XGBRegressor(learning_rate=parameters[0],\n",
        "                              gamma=int(parameters[1]),\n",
        "                              max_depth=int(parameters[2]),\n",
        "                              # n_estimators=int(parameters[3])\n",
        "                              ), \n",
        "                X, y, scoring='neg_mean_squared_error').mean()\n",
        "    score = np.array(score)\n",
        "    return score\n",
        "\n",
        "optimizer = GPyOpt.methods.BayesianOptimization(f = cv_score,            # function to optimize       \n",
        "                                          domain = bds,         # box-constraints of the problem\n",
        "                                          acquisition_type ='LCB',       # LCB acquisition\n",
        "                                          acquisition_weight = 0.1)   # Exploration exploitation\n"
      ],
      "execution_count": null,
      "outputs": []
    },
    {
      "cell_type": "code",
      "metadata": {
        "id": "ro9UJZBscIkL",
        "outputId": "55c3df62-0e26-4699-8380-80b2fbcc9eb5",
        "colab": {
          "base_uri": "https://localhost:8080/",
          "height": 34
        }
      },
      "source": [
        "x_best = np.exp(optimizer.X[np.argmin(optimizer.Y)])\n",
        "print(\"Best parameters: learning_rate=\"+str(x_best[0])+\", gamma=\"+str(x_best[1])+\", max_depth=\"+str(x_best[2]))"
      ],
      "execution_count": 36,
      "outputs": [
        {
          "output_type": "stream",
          "text": [
            "Best parameters: learning_rate=1.2634165858650004, gamma=17.993019708885473, max_depth=5.184705528587072e+21\n"
          ],
          "name": "stdout"
        }
      ]
    },
    {
      "cell_type": "code",
      "metadata": {
        "id": "C_9_qmu-cv8A"
      },
      "source": [
        ""
      ],
      "execution_count": 37,
      "outputs": []
    },
    {
      "cell_type": "code",
      "metadata": {
        "id": "PY-fBXFWdTWC"
      },
      "source": [
        ""
      ],
      "execution_count": 32,
      "outputs": []
    },
    {
      "cell_type": "code",
      "metadata": {
        "id": "AV-B-RAZfour"
      },
      "source": [
        ""
      ],
      "execution_count": null,
      "outputs": []
    }
  ]
}