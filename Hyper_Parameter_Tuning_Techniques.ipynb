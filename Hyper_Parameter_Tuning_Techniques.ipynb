{
  "nbformat": 4,
  "nbformat_minor": 0,
  "metadata": {
    "colab": {
      "name": "Hyper-Parameter Tuning Techniques.ipynb",
      "provenance": [],
      "collapsed_sections": []
    },
    "kernelspec": {
      "name": "python3",
      "display_name": "Python 3"
    }
  },
  "cells": [
    {
      "cell_type": "code",
      "metadata": {
        "id": "5iYubReOl4j5",
        "colab_type": "code",
        "colab": {}
      },
      "source": [
        "from sklearn.neighbors import KNeighborsClassifier\n",
        "from sklearn.model_selection import KFold , cross_val_score\n",
        "from sklearn.datasets import load_iris\n",
        "iris = load_iris()\n",
        "X = iris.data\n",
        "y = iris.target"
      ],
      "execution_count": 1,
      "outputs": []
    },
    {
      "cell_type": "code",
      "metadata": {
        "id": "RmWUW_koDJoz",
        "colab_type": "code",
        "colab": {}
      },
      "source": [
        "from sklearn.model_selection import train_test_split\n",
        "X_train,X_test,y_train,y_test = train_test_split(X,y,test_size = 0.3,random_state = 14)"
      ],
      "execution_count": 2,
      "outputs": []
    },
    {
      "cell_type": "markdown",
      "metadata": {
        "id": "LiW2dVCf5Fgp",
        "colab_type": "text"
      },
      "source": [
        "# Manual Tuning"
      ]
    },
    {
      "cell_type": "code",
      "metadata": {
        "id": "UcpzMpaDESld",
        "colab_type": "code",
        "colab": {
          "base_uri": "https://localhost:8080/",
          "height": 680
        },
        "outputId": "e25c7053-eba4-4c98-fdd1-7b098233a644"
      },
      "source": [
        "k_value = list(range(2,11))\n",
        "algorithm = ['auto','ball_tree','kd_tree','brute']\n",
        "scores = []\n",
        "best_comb = []\n",
        "kfold = KFold(n_splits=5)\n",
        "\n",
        "for algo in algorithm:\n",
        "  for k in k_value:\n",
        "    knn = KNeighborsClassifier(n_neighbors=k,algorithm=algo)\n",
        "    results = cross_val_score(knn,X_train,y_train,cv = kfold)\n",
        "\n",
        "    print(f'Score:{round(results.mean(),4)} with algo = {algo} , K = {k}')\n",
        "    scores.append(results.mean())\n",
        "    best_comb.append((k,algo))\n",
        "\n",
        "best_param = best_comb[scores.index(max(scores))]\n",
        "print(f'\\nThe Best Score : {max(scores)}')\n",
        "print(f\"['algorithm': {best_param[1]} ,'n_neighbors': {best_param[0]}]\")\n"
      ],
      "execution_count": 3,
      "outputs": [
        {
          "output_type": "stream",
          "text": [
            "Score:0.9238 with algo = auto , K = 2\n",
            "Score:0.9524 with algo = auto , K = 3\n",
            "Score:0.9524 with algo = auto , K = 4\n",
            "Score:0.9714 with algo = auto , K = 5\n",
            "Score:0.9714 with algo = auto , K = 6\n",
            "Score:0.9429 with algo = auto , K = 7\n",
            "Score:0.9524 with algo = auto , K = 8\n",
            "Score:0.9714 with algo = auto , K = 9\n",
            "Score:0.9619 with algo = auto , K = 10\n",
            "Score:0.9238 with algo = ball_tree , K = 2\n",
            "Score:0.9524 with algo = ball_tree , K = 3\n",
            "Score:0.9524 with algo = ball_tree , K = 4\n",
            "Score:0.9714 with algo = ball_tree , K = 5\n",
            "Score:0.9714 with algo = ball_tree , K = 6\n",
            "Score:0.9429 with algo = ball_tree , K = 7\n",
            "Score:0.9524 with algo = ball_tree , K = 8\n",
            "Score:0.9714 with algo = ball_tree , K = 9\n",
            "Score:0.9619 with algo = ball_tree , K = 10\n",
            "Score:0.9238 with algo = kd_tree , K = 2\n",
            "Score:0.9524 with algo = kd_tree , K = 3\n",
            "Score:0.9524 with algo = kd_tree , K = 4\n",
            "Score:0.9714 with algo = kd_tree , K = 5\n",
            "Score:0.9714 with algo = kd_tree , K = 6\n",
            "Score:0.9429 with algo = kd_tree , K = 7\n",
            "Score:0.9524 with algo = kd_tree , K = 8\n",
            "Score:0.9714 with algo = kd_tree , K = 9\n",
            "Score:0.9619 with algo = kd_tree , K = 10\n",
            "Score:0.9143 with algo = brute , K = 2\n",
            "Score:0.9524 with algo = brute , K = 3\n",
            "Score:0.9429 with algo = brute , K = 4\n",
            "Score:0.9619 with algo = brute , K = 5\n",
            "Score:0.9619 with algo = brute , K = 6\n",
            "Score:0.9429 with algo = brute , K = 7\n",
            "Score:0.9524 with algo = brute , K = 8\n",
            "Score:0.9714 with algo = brute , K = 9\n",
            "Score:0.9524 with algo = brute , K = 10\n",
            "\n",
            "The Best Score : 0.9714285714285715\n",
            "['algorithm': auto ,'n_neighbors': 6]\n"
          ],
          "name": "stdout"
        }
      ]
    },
    {
      "cell_type": "markdown",
      "metadata": {
        "id": "2RNeuvb64A1A",
        "colab_type": "text"
      },
      "source": [
        "# GridSearchCV"
      ]
    },
    {
      "cell_type": "code",
      "metadata": {
        "id": "8ghX0uE5IhyT",
        "colab_type": "code",
        "colab": {
          "base_uri": "https://localhost:8080/",
          "height": 204
        },
        "outputId": "7814d867-9027-44e1-db78-974fad881664"
      },
      "source": [
        "from sklearn.model_selection import GridSearchCV\n",
        "\n",
        "knn = KNeighborsClassifier()\n",
        "grid_param = { 'n_neighbors' : list(range(2,11)) , 'algorithm' : ['auto','ball_tree','kd_tree','brute'] }\n",
        "grid = GridSearchCV(knn,grid_param)\n",
        "grid.fit(X_train,y_train)"
      ],
      "execution_count": 5,
      "outputs": [
        {
          "output_type": "execute_result",
          "data": {
            "text/plain": [
              "GridSearchCV(cv=None, error_score=nan,\n",
              "             estimator=KNeighborsClassifier(algorithm='auto', leaf_size=30,\n",
              "                                            metric='minkowski',\n",
              "                                            metric_params=None, n_jobs=None,\n",
              "                                            n_neighbors=5, p=2,\n",
              "                                            weights='uniform'),\n",
              "             iid='deprecated', n_jobs=None,\n",
              "             param_grid={'algorithm': ['auto', 'ball_tree', 'kd_tree', 'brute'],\n",
              "                         'n_neighbors': [2, 3, 4, 5, 6, 7, 8, 9, 10]},\n",
              "             pre_dispatch='2*n_jobs', refit=True, return_train_score=False,\n",
              "             scoring=None, verbose=0)"
            ]
          },
          "metadata": {
            "tags": []
          },
          "execution_count": 5
        }
      ]
    },
    {
      "cell_type": "code",
      "metadata": {
        "id": "yk9eFkj5JNI9",
        "colab_type": "code",
        "colab": {
          "base_uri": "https://localhost:8080/",
          "height": 34
        },
        "outputId": "635bc7f0-73d6-41bc-eec7-0f19dd7107c9"
      },
      "source": [
        "grid.best_params_"
      ],
      "execution_count": 5,
      "outputs": [
        {
          "output_type": "execute_result",
          "data": {
            "text/plain": [
              "{'algorithm': 'auto', 'n_neighbors': 6}"
            ]
          },
          "metadata": {
            "tags": []
          },
          "execution_count": 5
        }
      ]
    },
    {
      "cell_type": "code",
      "metadata": {
        "id": "qZji10JeJR8u",
        "colab_type": "code",
        "colab": {
          "base_uri": "https://localhost:8080/",
          "height": 34
        },
        "outputId": "68152fc2-483e-4f79-a0d8-ae33a7420b30"
      },
      "source": [
        "grid.best_score_"
      ],
      "execution_count": 6,
      "outputs": [
        {
          "output_type": "execute_result",
          "data": {
            "text/plain": [
              "0.9714285714285715"
            ]
          },
          "metadata": {
            "tags": []
          },
          "execution_count": 6
        }
      ]
    },
    {
      "cell_type": "code",
      "metadata": {
        "id": "AWgC-7TDJsRw",
        "colab_type": "code",
        "colab": {
          "base_uri": "https://localhost:8080/",
          "height": 629
        },
        "outputId": "10656332-2035-45dc-ae33-02d524e6e149"
      },
      "source": [
        "grid.cv_results_['params']"
      ],
      "execution_count": 7,
      "outputs": [
        {
          "output_type": "execute_result",
          "data": {
            "text/plain": [
              "[{'algorithm': 'auto', 'n_neighbors': 2},\n",
              " {'algorithm': 'auto', 'n_neighbors': 3},\n",
              " {'algorithm': 'auto', 'n_neighbors': 4},\n",
              " {'algorithm': 'auto', 'n_neighbors': 5},\n",
              " {'algorithm': 'auto', 'n_neighbors': 6},\n",
              " {'algorithm': 'auto', 'n_neighbors': 7},\n",
              " {'algorithm': 'auto', 'n_neighbors': 8},\n",
              " {'algorithm': 'auto', 'n_neighbors': 9},\n",
              " {'algorithm': 'auto', 'n_neighbors': 10},\n",
              " {'algorithm': 'ball_tree', 'n_neighbors': 2},\n",
              " {'algorithm': 'ball_tree', 'n_neighbors': 3},\n",
              " {'algorithm': 'ball_tree', 'n_neighbors': 4},\n",
              " {'algorithm': 'ball_tree', 'n_neighbors': 5},\n",
              " {'algorithm': 'ball_tree', 'n_neighbors': 6},\n",
              " {'algorithm': 'ball_tree', 'n_neighbors': 7},\n",
              " {'algorithm': 'ball_tree', 'n_neighbors': 8},\n",
              " {'algorithm': 'ball_tree', 'n_neighbors': 9},\n",
              " {'algorithm': 'ball_tree', 'n_neighbors': 10},\n",
              " {'algorithm': 'kd_tree', 'n_neighbors': 2},\n",
              " {'algorithm': 'kd_tree', 'n_neighbors': 3},\n",
              " {'algorithm': 'kd_tree', 'n_neighbors': 4},\n",
              " {'algorithm': 'kd_tree', 'n_neighbors': 5},\n",
              " {'algorithm': 'kd_tree', 'n_neighbors': 6},\n",
              " {'algorithm': 'kd_tree', 'n_neighbors': 7},\n",
              " {'algorithm': 'kd_tree', 'n_neighbors': 8},\n",
              " {'algorithm': 'kd_tree', 'n_neighbors': 9},\n",
              " {'algorithm': 'kd_tree', 'n_neighbors': 10},\n",
              " {'algorithm': 'brute', 'n_neighbors': 2},\n",
              " {'algorithm': 'brute', 'n_neighbors': 3},\n",
              " {'algorithm': 'brute', 'n_neighbors': 4},\n",
              " {'algorithm': 'brute', 'n_neighbors': 5},\n",
              " {'algorithm': 'brute', 'n_neighbors': 6},\n",
              " {'algorithm': 'brute', 'n_neighbors': 7},\n",
              " {'algorithm': 'brute', 'n_neighbors': 8},\n",
              " {'algorithm': 'brute', 'n_neighbors': 9},\n",
              " {'algorithm': 'brute', 'n_neighbors': 10}]"
            ]
          },
          "metadata": {
            "tags": []
          },
          "execution_count": 7
        }
      ]
    },
    {
      "cell_type": "code",
      "metadata": {
        "id": "qBxOJiekJ1Km",
        "colab_type": "code",
        "colab": {
          "base_uri": "https://localhost:8080/",
          "height": 153
        },
        "outputId": "63cb1b96-ea7b-43c2-8d22-4a2c1c8de737"
      },
      "source": [
        "grid.cv_results_['mean_test_score']"
      ],
      "execution_count": 8,
      "outputs": [
        {
          "output_type": "execute_result",
          "data": {
            "text/plain": [
              "array([0.93333333, 0.96190476, 0.95238095, 0.97142857, 0.97142857,\n",
              "       0.94285714, 0.96190476, 0.97142857, 0.97142857, 0.93333333,\n",
              "       0.96190476, 0.95238095, 0.97142857, 0.97142857, 0.94285714,\n",
              "       0.96190476, 0.97142857, 0.97142857, 0.93333333, 0.96190476,\n",
              "       0.95238095, 0.97142857, 0.97142857, 0.94285714, 0.96190476,\n",
              "       0.97142857, 0.97142857, 0.93333333, 0.96190476, 0.94285714,\n",
              "       0.96190476, 0.96190476, 0.94285714, 0.96190476, 0.97142857,\n",
              "       0.96190476])"
            ]
          },
          "metadata": {
            "tags": []
          },
          "execution_count": 8
        }
      ]
    },
    {
      "cell_type": "markdown",
      "metadata": {
        "id": "Zd9ey7oh4cIW",
        "colab_type": "text"
      },
      "source": [
        "## RandomizedSearchCV"
      ]
    },
    {
      "cell_type": "code",
      "metadata": {
        "id": "RgCZ4SnEJ4fG",
        "colab_type": "code",
        "colab": {
          "base_uri": "https://localhost:8080/",
          "height": 255
        },
        "outputId": "e20b568e-3872-4cd0-abd4-8e2b7bfa842e"
      },
      "source": [
        "from sklearn.model_selection import RandomizedSearchCV\n",
        "\n",
        "knn = KNeighborsClassifier()\n",
        "grid_param = { 'n_neighbors' : list(range(2,11)) , 'algorithm' : ['auto','ball_tree','kd_tree','brute'] }\n",
        "rand_ser = RandomizedSearchCV(knn,grid_param,n_iter=10)\n",
        "rand_ser.fit(X_train,y_train)"
      ],
      "execution_count": 45,
      "outputs": [
        {
          "output_type": "execute_result",
          "data": {
            "text/plain": [
              "RandomizedSearchCV(cv=None, error_score=nan,\n",
              "                   estimator=KNeighborsClassifier(algorithm='auto',\n",
              "                                                  leaf_size=30,\n",
              "                                                  metric='minkowski',\n",
              "                                                  metric_params=None,\n",
              "                                                  n_jobs=None, n_neighbors=5,\n",
              "                                                  p=2, weights='uniform'),\n",
              "                   iid='deprecated', n_iter=10, n_jobs=None,\n",
              "                   param_distributions={'algorithm': ['auto', 'ball_tree',\n",
              "                                                      'kd_tree', 'brute'],\n",
              "                                        'n_neighbors': [2, 3, 4, 5, 6, 7, 8, 9,\n",
              "                                                        10]},\n",
              "                   pre_dispatch='2*n_jobs', random_state=None, refit=True,\n",
              "                   return_train_score=False, scoring=None, verbose=0)"
            ]
          },
          "metadata": {
            "tags": []
          },
          "execution_count": 45
        }
      ]
    },
    {
      "cell_type": "code",
      "metadata": {
        "id": "cy_aHVR64ML1",
        "colab_type": "code",
        "colab": {
          "base_uri": "https://localhost:8080/",
          "height": 34
        },
        "outputId": "33c66921-f36d-4192-b5ad-de02b3a529b8"
      },
      "source": [
        "rand_ser.best_score_"
      ],
      "execution_count": 46,
      "outputs": [
        {
          "output_type": "execute_result",
          "data": {
            "text/plain": [
              "0.9714285714285715"
            ]
          },
          "metadata": {
            "tags": []
          },
          "execution_count": 46
        }
      ]
    },
    {
      "cell_type": "code",
      "metadata": {
        "id": "1LJMyP744hiV",
        "colab_type": "code",
        "colab": {
          "base_uri": "https://localhost:8080/",
          "height": 34
        },
        "outputId": "d1e087d1-86a4-43e3-d85f-831aaadd4ffb"
      },
      "source": [
        "rand_ser.best_params_"
      ],
      "execution_count": 47,
      "outputs": [
        {
          "output_type": "execute_result",
          "data": {
            "text/plain": [
              "{'algorithm': 'kd_tree', 'n_neighbors': 9}"
            ]
          },
          "metadata": {
            "tags": []
          },
          "execution_count": 47
        }
      ]
    },
    {
      "cell_type": "code",
      "metadata": {
        "id": "Bj18_6xx4n_a",
        "colab_type": "code",
        "colab": {
          "base_uri": "https://localhost:8080/",
          "height": 187
        },
        "outputId": "856a65fe-6513-42be-ec90-7a4b43e51d6d"
      },
      "source": [
        "rand_ser.cv_results_['params']"
      ],
      "execution_count": 48,
      "outputs": [
        {
          "output_type": "execute_result",
          "data": {
            "text/plain": [
              "[{'algorithm': 'ball_tree', 'n_neighbors': 4},\n",
              " {'algorithm': 'kd_tree', 'n_neighbors': 10},\n",
              " {'algorithm': 'kd_tree', 'n_neighbors': 9},\n",
              " {'algorithm': 'ball_tree', 'n_neighbors': 5},\n",
              " {'algorithm': 'auto', 'n_neighbors': 6},\n",
              " {'algorithm': 'auto', 'n_neighbors': 7},\n",
              " {'algorithm': 'auto', 'n_neighbors': 10},\n",
              " {'algorithm': 'kd_tree', 'n_neighbors': 7},\n",
              " {'algorithm': 'brute', 'n_neighbors': 2},\n",
              " {'algorithm': 'kd_tree', 'n_neighbors': 5}]"
            ]
          },
          "metadata": {
            "tags": []
          },
          "execution_count": 48
        }
      ]
    },
    {
      "cell_type": "code",
      "metadata": {
        "id": "_CjczOm_4zsE",
        "colab_type": "code",
        "colab": {
          "base_uri": "https://localhost:8080/",
          "height": 51
        },
        "outputId": "79a7058c-4a51-4b20-944d-0e936b909e50"
      },
      "source": [
        "rand_ser.cv_results_['mean_test_score']"
      ],
      "execution_count": 49,
      "outputs": [
        {
          "output_type": "execute_result",
          "data": {
            "text/plain": [
              "array([0.95238095, 0.97142857, 0.97142857, 0.97142857, 0.97142857,\n",
              "       0.94285714, 0.97142857, 0.94285714, 0.93333333, 0.97142857])"
            ]
          },
          "metadata": {
            "tags": []
          },
          "execution_count": 49
        }
      ]
    },
    {
      "cell_type": "markdown",
      "metadata": {
        "id": "1gf8rIpq7F-U",
        "colab_type": "text"
      },
      "source": [
        "# Optuna"
      ]
    },
    {
      "cell_type": "code",
      "metadata": {
        "id": "M7IUcEI848t6",
        "colab_type": "code",
        "colab": {}
      },
      "source": [
        "!pip install optuna"
      ],
      "execution_count": null,
      "outputs": []
    },
    {
      "cell_type": "code",
      "metadata": {
        "id": "meTHlTJi64QG",
        "colab_type": "code",
        "colab": {
          "base_uri": "https://localhost:8080/",
          "height": 224
        },
        "outputId": "a7978be5-66f4-454b-ffac-2428835932a5"
      },
      "source": [
        "import optuna\n",
        "\n",
        "def objective(trial):\n",
        "\n",
        "    optimizer = trial.suggest_categorical('algorithm', ['auto','ball_tree','kd_tree','brute'])\n",
        "    rf_max_depth = trial.suggest_int(\"k_n_neighbors\", 2, 10, log=True)\n",
        "    knn = KNeighborsClassifier(n_neighbors=rf_max_depth,algorithm=optimizer)\n",
        "\n",
        "    score = cross_val_score(knn, X_train,y_train, n_jobs=-1, cv=3)\n",
        "    accuracy = score.mean()\n",
        "    return accuracy\n",
        "\n",
        "\n",
        "if __name__ == \"__main__\":\n",
        "    study = optuna.create_study(direction=\"maximize\")\n",
        "    study.optimize(objective, n_trials=10)\n",
        "    print(study.best_trial)"
      ],
      "execution_count": 50,
      "outputs": [
        {
          "output_type": "stream",
          "text": [
            "[I 2020-09-03 06:20:41,695] Trial 0 finished with value: 0.9619047619047619 and parameters: {'algorithm': 'brute', 'k_n_neighbors': 3}. Best is trial 0 with value: 0.9619047619047619.\n",
            "[I 2020-09-03 06:20:41,725] Trial 1 finished with value: 0.9619047619047619 and parameters: {'algorithm': 'brute', 'k_n_neighbors': 3}. Best is trial 0 with value: 0.9619047619047619.\n",
            "[I 2020-09-03 06:20:41,747] Trial 2 finished with value: 0.9523809523809522 and parameters: {'algorithm': 'kd_tree', 'k_n_neighbors': 5}. Best is trial 0 with value: 0.9619047619047619.\n",
            "[I 2020-09-03 06:20:41,770] Trial 3 finished with value: 0.9714285714285714 and parameters: {'algorithm': 'auto', 'k_n_neighbors': 3}. Best is trial 3 with value: 0.9714285714285714.\n",
            "[I 2020-09-03 06:20:41,794] Trial 4 finished with value: 0.9428571428571427 and parameters: {'algorithm': 'kd_tree', 'k_n_neighbors': 4}. Best is trial 3 with value: 0.9714285714285714.\n",
            "[I 2020-09-03 06:20:41,816] Trial 5 finished with value: 0.9619047619047619 and parameters: {'algorithm': 'brute', 'k_n_neighbors': 3}. Best is trial 3 with value: 0.9714285714285714.\n",
            "[I 2020-09-03 06:20:41,841] Trial 6 finished with value: 0.9714285714285714 and parameters: {'algorithm': 'kd_tree', 'k_n_neighbors': 3}. Best is trial 3 with value: 0.9714285714285714.\n",
            "[I 2020-09-03 06:20:41,865] Trial 7 finished with value: 0.9523809523809522 and parameters: {'algorithm': 'auto', 'k_n_neighbors': 5}. Best is trial 3 with value: 0.9714285714285714.\n",
            "[I 2020-09-03 06:20:41,888] Trial 8 finished with value: 0.9523809523809524 and parameters: {'algorithm': 'brute', 'k_n_neighbors': 8}. Best is trial 3 with value: 0.9714285714285714.\n",
            "[I 2020-09-03 06:20:41,911] Trial 9 finished with value: 0.9619047619047619 and parameters: {'algorithm': 'brute', 'k_n_neighbors': 3}. Best is trial 3 with value: 0.9714285714285714.\n"
          ],
          "name": "stderr"
        },
        {
          "output_type": "stream",
          "text": [
            "FrozenTrial(number=3, value=0.9714285714285714, datetime_start=datetime.datetime(2020, 9, 3, 6, 20, 41, 755980), datetime_complete=datetime.datetime(2020, 9, 3, 6, 20, 41, 770617), params={'algorithm': 'auto', 'k_n_neighbors': 3}, distributions={'algorithm': CategoricalDistribution(choices=('auto', 'ball_tree', 'kd_tree', 'brute')), 'k_n_neighbors': IntLogUniformDistribution(high=10, low=2, step=1)}, user_attrs={}, system_attrs={}, intermediate_values={}, trial_id=3, state=TrialState.COMPLETE)\n"
          ],
          "name": "stdout"
        }
      ]
    },
    {
      "cell_type": "code",
      "metadata": {
        "id": "yQ-Vii-ATrlX",
        "colab_type": "code",
        "colab": {
          "base_uri": "https://localhost:8080/",
          "height": 34
        },
        "outputId": "d3817274-e03e-47a3-91ec-9d27c6477e65"
      },
      "source": [
        "study.best_params"
      ],
      "execution_count": 51,
      "outputs": [
        {
          "output_type": "execute_result",
          "data": {
            "text/plain": [
              "{'algorithm': 'auto', 'k_n_neighbors': 3}"
            ]
          },
          "metadata": {
            "tags": []
          },
          "execution_count": 51
        }
      ]
    },
    {
      "cell_type": "code",
      "metadata": {
        "id": "RlfNbLFQa6at",
        "colab_type": "code",
        "colab": {
          "base_uri": "https://localhost:8080/",
          "height": 34
        },
        "outputId": "80151994-716c-4737-ae18-dc1cc381a79d"
      },
      "source": [
        "study.best_value"
      ],
      "execution_count": 52,
      "outputs": [
        {
          "output_type": "execute_result",
          "data": {
            "text/plain": [
              "0.9714285714285714"
            ]
          },
          "metadata": {
            "tags": []
          },
          "execution_count": 52
        }
      ]
    },
    {
      "cell_type": "markdown",
      "metadata": {
        "id": "XJn74QqslN01",
        "colab_type": "text"
      },
      "source": [
        "# TuneSearchCV Bayesian Optimization"
      ]
    },
    {
      "cell_type": "code",
      "metadata": {
        "id": "hPs7uPdOa6o3",
        "colab_type": "code",
        "colab": {}
      },
      "source": [
        "!pip install tune-sklearn \"ray[tune]\"\n",
        "!pip install scikit-optimize"
      ],
      "execution_count": null,
      "outputs": []
    },
    {
      "cell_type": "code",
      "metadata": {
        "id": "6j9RUla3kk0O",
        "colab_type": "code",
        "colab": {
          "base_uri": "https://localhost:8080/",
          "height": 717
        },
        "outputId": "630a3c62-8773-4c41-96c0-951492b3fa87"
      },
      "source": [
        "from tune_sklearn import TuneSearchCV\n",
        "from ray.tune.schedulers import MedianStoppingRule\n",
        "import numpy as np\n",
        "import warnings\n",
        "warnings.filterwarnings(\"ignore\") \n",
        "\n",
        "knn = KNeighborsClassifier()\n",
        "grid_param = { 'n_neighbors' : list(range(2,11)) , 'algorithm' : ['auto','ball_tree','kd_tree','brute'] }\n",
        "\n",
        "# scheduler = MedianStoppingRule(grace_period=10.0)\n",
        "\n",
        "tune_search = TuneSearchCV(knn,grid_param,search_optimization=\"bayesian\",max_iters=10)\n",
        "tune_search.fit(X_train,y_train)\n",
        "\n",
        "# pred = tune_search.predict(X_test)\n",
        "# accuracy = np.count_nonzero(np.array(pred) == np.array(y_test)) / len(pred)\n",
        "# print(accuracy)"
      ],
      "execution_count": 57,
      "outputs": [
        {
          "output_type": "stream",
          "text": [
            "The dashboard on node 5d53b37e9bc6 failed with the following error:\n",
            "Traceback (most recent call last):\n",
            "  File \"/usr/lib/python3.6/asyncio/base_events.py\", line 1062, in create_server\n",
            "    sock.bind(sa)\n",
            "OSError: [Errno 99] Cannot assign requested address\n",
            "\n",
            "During handling of the above exception, another exception occurred:\n",
            "\n",
            "Traceback (most recent call last):\n",
            "  File \"/usr/local/lib/python3.6/dist-packages/ray/dashboard/dashboard.py\", line 961, in <module>\n",
            "    dashboard.run()\n",
            "  File \"/usr/local/lib/python3.6/dist-packages/ray/dashboard/dashboard.py\", line 576, in run\n",
            "    aiohttp.web.run_app(self.app, host=self.host, port=self.port)\n",
            "  File \"/usr/local/lib/python3.6/dist-packages/aiohttp/web.py\", line 433, in run_app\n",
            "    reuse_port=reuse_port))\n",
            "  File \"/usr/lib/python3.6/asyncio/base_events.py\", line 484, in run_until_complete\n",
            "    return future.result()\n",
            "  File \"/usr/local/lib/python3.6/dist-packages/aiohttp/web.py\", line 359, in _run_app\n",
            "    await site.start()\n",
            "  File \"/usr/local/lib/python3.6/dist-packages/aiohttp/web_runner.py\", line 104, in start\n",
            "    reuse_port=self._reuse_port)\n",
            "  File \"/usr/lib/python3.6/asyncio/base_events.py\", line 1066, in create_server\n",
            "    % (sa, err.strerror.lower()))\n",
            "OSError: [Errno 99] error while attempting to bind on address ('::1', 8265, 0, 0): cannot assign requested address\n",
            "\n",
            "The actor or task with ID ffffffffffffffffc3185e570100 is pending and cannot currently be scheduled. It requires {CPU: 1.000000} for execution and {CPU: 1.000000} for placement, but this node only has remaining {node:172.28.0.2: 1.000000}, {CPU: 1.000000}, {memory: 7.128906 GiB}, {object_store_memory: 2.441406 GiB}. In total there are 0 pending tasks and 1 pending actors on this node. This is likely due to all cluster resources being claimed by actors. To resolve the issue, consider creating fewer actors or increase the resources available to this Ray cluster. You can ignore this message if this Ray cluster is expected to auto-scale.\n"
          ],
          "name": "stderr"
        },
        {
          "output_type": "execute_result",
          "data": {
            "text/plain": [
              "TuneSearchCV(cv=None, early_stopping=None, error_score=nan,\n",
              "             estimator=KNeighborsClassifier(algorithm='auto', leaf_size=30,\n",
              "                                            metric='minkowski',\n",
              "                                            metric_params=None, n_jobs=None,\n",
              "                                            n_neighbors=5, p=2,\n",
              "                                            weights='uniform'),\n",
              "             local_dir='~/ray_results', max_iters=1, n_iter=None, n_jobs=None,\n",
              "             param_distributions={'algorithm': ['auto', 'ball_tree', 'kd_tree',\n",
              "                                                'brute'],\n",
              "                                  'n_neighbors': [2, 3, 4, 5, 6, 7, 8, 9, 10]},\n",
              "             random_state=None, refit=True, return_train_score=False,\n",
              "             scoring=<function _passthrough_scorer at 0x7fe01e2f0f28>,\n",
              "             search_optimization='bayesian', sk_n_jobs=-1, use_gpu=False,\n",
              "             verbose=0)"
            ]
          },
          "metadata": {
            "tags": []
          },
          "execution_count": 57
        }
      ]
    },
    {
      "cell_type": "code",
      "metadata": {
        "id": "IJHyPFc3lchI",
        "colab_type": "code",
        "colab": {
          "base_uri": "https://localhost:8080/",
          "height": 34
        },
        "outputId": "82078f79-c8aa-476c-e7e1-cd2ea88453a2"
      },
      "source": [
        "tune_search.best_params_"
      ],
      "execution_count": 58,
      "outputs": [
        {
          "output_type": "execute_result",
          "data": {
            "text/plain": [
              "{'algorithm': 'auto', 'n_neighbors': 6}"
            ]
          },
          "metadata": {
            "tags": []
          },
          "execution_count": 58
        }
      ]
    },
    {
      "cell_type": "code",
      "metadata": {
        "id": "KKRtmwC1nHh8",
        "colab_type": "code",
        "colab": {
          "base_uri": "https://localhost:8080/",
          "height": 34
        },
        "outputId": "24433849-69a9-4a00-ccd2-f7273067da71"
      },
      "source": [
        "tune_search.best_score_"
      ],
      "execution_count": 59,
      "outputs": [
        {
          "output_type": "execute_result",
          "data": {
            "text/plain": [
              "0.9714285714285716"
            ]
          },
          "metadata": {
            "tags": []
          },
          "execution_count": 59
        }
      ]
    },
    {
      "cell_type": "code",
      "metadata": {
        "id": "e4IXkhkEnK-1",
        "colab_type": "code",
        "colab": {
          "base_uri": "https://localhost:8080/",
          "height": 187
        },
        "outputId": "0d6f8cae-b4e5-4ca3-cde5-0338f36371d8"
      },
      "source": [
        "tune_search.cv_results_['params']"
      ],
      "execution_count": 60,
      "outputs": [
        {
          "output_type": "execute_result",
          "data": {
            "text/plain": [
              "[{'algorithm': 'auto', 'n_neighbors': 6},\n",
              " {'algorithm': 'brute', 'n_neighbors': 6},\n",
              " {'algorithm': 'auto', 'n_neighbors': 6},\n",
              " {'algorithm': 'auto', 'n_neighbors': 3},\n",
              " {'algorithm': 'brute', 'n_neighbors': 4},\n",
              " {'algorithm': 'auto', 'n_neighbors': 2},\n",
              " {'algorithm': 'ball_tree', 'n_neighbors': 5},\n",
              " {'algorithm': 'ball_tree', 'n_neighbors': 4},\n",
              " {'algorithm': 'kd_tree', 'n_neighbors': 4},\n",
              " {'algorithm': 'kd_tree', 'n_neighbors': 10}]"
            ]
          },
          "metadata": {
            "tags": []
          },
          "execution_count": 60
        }
      ]
    },
    {
      "cell_type": "markdown",
      "metadata": {
        "id": "GNvyANZxQO0u",
        "colab_type": "text"
      },
      "source": [
        "## Bayesian Optimization"
      ]
    },
    {
      "cell_type": "code",
      "metadata": {
        "id": "OLEq3_-gngmU",
        "colab_type": "code",
        "colab": {}
      },
      "source": [
        "!pip install scikit-optimize"
      ],
      "execution_count": null,
      "outputs": []
    },
    {
      "cell_type": "code",
      "metadata": {
        "id": "e8VZo61NQUdm",
        "colab_type": "code",
        "colab": {
          "base_uri": "https://localhost:8080/",
          "height": 238
        },
        "outputId": "8051bf7c-17c7-445c-ffe0-82b24a12eea8"
      },
      "source": [
        "from skopt import BayesSearchCV\n",
        "import warnings\n",
        "warnings.filterwarnings(\"ignore\") \n",
        "# parameter ranges are specified by one of below\n",
        "from skopt.space import Real, Categorical, Integer\n",
        "knn = KNeighborsClassifier()\n",
        "grid_param = { 'n_neighbors' : list(range(2,11)) , 'algorithm' : ['auto','ball_tree','kd_tree','brute'] }\n",
        "Bayes = BayesSearchCV(knn,grid_param,n_iter=32,random_state=0)\n",
        "Bayes.fit(X_train,y_train)\n"
      ],
      "execution_count": 7,
      "outputs": [
        {
          "output_type": "execute_result",
          "data": {
            "text/plain": [
              "BayesSearchCV(cv=None, error_score='raise',\n",
              "              estimator=KNeighborsClassifier(algorithm='auto', leaf_size=30,\n",
              "                                             metric='minkowski',\n",
              "                                             metric_params=None, n_jobs=None,\n",
              "                                             n_neighbors=5, p=2,\n",
              "                                             weights='uniform'),\n",
              "              fit_params=None, iid=True, n_iter=32, n_jobs=1, n_points=1,\n",
              "              optimizer_kwargs=None, pre_dispatch='2*n_jobs', random_state=0,\n",
              "              refit=True, return_train_score=False, scoring=None,\n",
              "              search_spaces={'algorithm': ['auto', 'ball_tree', 'kd_tree',\n",
              "                                           'brute'],\n",
              "                             'n_neighbors': [2, 3, 4, 5, 6, 7, 8, 9, 10]},\n",
              "              verbose=0)"
            ]
          },
          "metadata": {
            "tags": []
          },
          "execution_count": 7
        }
      ]
    },
    {
      "cell_type": "code",
      "metadata": {
        "id": "-eiSnrqCRSGp",
        "colab_type": "code",
        "colab": {
          "base_uri": "https://localhost:8080/",
          "height": 34
        },
        "outputId": "7c793da1-9361-48c1-f6ea-5395aa6f7b5f"
      },
      "source": [
        "Bayes.best_params_"
      ],
      "execution_count": 8,
      "outputs": [
        {
          "output_type": "execute_result",
          "data": {
            "text/plain": [
              "OrderedDict([('algorithm', 'ball_tree'), ('n_neighbors', 10)])"
            ]
          },
          "metadata": {
            "tags": []
          },
          "execution_count": 8
        }
      ]
    },
    {
      "cell_type": "code",
      "metadata": {
        "id": "2ryJhZ-zRl7R",
        "colab_type": "code",
        "colab": {
          "base_uri": "https://localhost:8080/",
          "height": 34
        },
        "outputId": "ae92066f-e95c-40fd-abdf-7c73b8f155b1"
      },
      "source": [
        "Bayes.best_score_"
      ],
      "execution_count": 9,
      "outputs": [
        {
          "output_type": "execute_result",
          "data": {
            "text/plain": [
              "0.9714285714285714"
            ]
          },
          "metadata": {
            "tags": []
          },
          "execution_count": 9
        }
      ]
    },
    {
      "cell_type": "code",
      "metadata": {
        "id": "76CG8LeRRoxH",
        "colab_type": "code",
        "colab": {
          "base_uri": "https://localhost:8080/",
          "height": 561
        },
        "outputId": "39c5afc1-331c-4b59-cb06-2bc012488582"
      },
      "source": [
        "Bayes.cv_results_['params']"
      ],
      "execution_count": 12,
      "outputs": [
        {
          "output_type": "execute_result",
          "data": {
            "text/plain": [
              "[OrderedDict([('algorithm', 'kd_tree'), ('n_neighbors', 8)]),\n",
              " OrderedDict([('algorithm', 'ball_tree'), ('n_neighbors', 10)]),\n",
              " OrderedDict([('algorithm', 'kd_tree'), ('n_neighbors', 2)]),\n",
              " OrderedDict([('algorithm', 'auto'), ('n_neighbors', 9)]),\n",
              " OrderedDict([('algorithm', 'auto'), ('n_neighbors', 4)]),\n",
              " OrderedDict([('algorithm', 'brute'), ('n_neighbors', 10)]),\n",
              " OrderedDict([('algorithm', 'brute'), ('n_neighbors', 8)]),\n",
              " OrderedDict([('algorithm', 'kd_tree'), ('n_neighbors', 6)]),\n",
              " OrderedDict([('algorithm', 'auto'), ('n_neighbors', 10)]),\n",
              " OrderedDict([('algorithm', 'ball_tree'), ('n_neighbors', 5)]),\n",
              " OrderedDict([('algorithm', 'ball_tree'), ('n_neighbors', 7)]),\n",
              " OrderedDict([('algorithm', 'auto'), ('n_neighbors', 3)]),\n",
              " OrderedDict([('algorithm', 'auto'), ('n_neighbors', 6)]),\n",
              " OrderedDict([('algorithm', 'auto'), ('n_neighbors', 5)]),\n",
              " OrderedDict([('algorithm', 'ball_tree'), ('n_neighbors', 9)]),\n",
              " OrderedDict([('algorithm', 'ball_tree'), ('n_neighbors', 6)]),\n",
              " OrderedDict([('algorithm', 'kd_tree'), ('n_neighbors', 5)]),\n",
              " OrderedDict([('algorithm', 'kd_tree'), ('n_neighbors', 9)]),\n",
              " OrderedDict([('algorithm', 'brute'), ('n_neighbors', 6)]),\n",
              " OrderedDict([('algorithm', 'auto'), ('n_neighbors', 9)]),\n",
              " OrderedDict([('algorithm', 'ball_tree'), ('n_neighbors', 5)]),\n",
              " OrderedDict([('algorithm', 'auto'), ('n_neighbors', 5)]),\n",
              " OrderedDict([('algorithm', 'ball_tree'), ('n_neighbors', 9)]),\n",
              " OrderedDict([('algorithm', 'kd_tree'), ('n_neighbors', 10)]),\n",
              " OrderedDict([('algorithm', 'kd_tree'), ('n_neighbors', 9)]),\n",
              " OrderedDict([('algorithm', 'ball_tree'), ('n_neighbors', 3)]),\n",
              " OrderedDict([('algorithm', 'auto'), ('n_neighbors', 5)]),\n",
              " OrderedDict([('algorithm', 'kd_tree'), ('n_neighbors', 5)]),\n",
              " OrderedDict([('algorithm', 'auto'), ('n_neighbors', 9)]),\n",
              " OrderedDict([('algorithm', 'ball_tree'), ('n_neighbors', 10)]),\n",
              " OrderedDict([('algorithm', 'ball_tree'), ('n_neighbors', 6)]),\n",
              " OrderedDict([('algorithm', 'ball_tree'), ('n_neighbors', 8)])]"
            ]
          },
          "metadata": {
            "tags": []
          },
          "execution_count": 12
        }
      ]
    },
    {
      "cell_type": "code",
      "metadata": {
        "id": "ZRPApLceRwU6",
        "colab_type": "code",
        "colab": {}
      },
      "source": [
        ""
      ],
      "execution_count": null,
      "outputs": []
    }
  ]
}