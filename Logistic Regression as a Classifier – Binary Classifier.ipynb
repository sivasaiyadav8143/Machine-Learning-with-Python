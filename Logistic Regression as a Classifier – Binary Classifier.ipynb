{
 "cells": [
  {
   "cell_type": "code",
   "execution_count": 11,
   "metadata": {},
   "outputs": [
    {
     "name": "stdout",
     "output_type": "stream",
     "text": [
      " Volume in drive C is OS\n",
      " Volume Serial Number is 160C-8FE1\n",
      "\n",
      " Directory of C:\\Users\\sivas\\Desktop\\GL\\Practice\n",
      "\n",
      "07-06-2020  11:24           863,903 Automated Vizualization.ipynb\n",
      "17-05-2020  03:36            26,906 Ensemble - Stacking.ipynb\n",
      "12-06-2020  12:50             2,466 pandas profiling.ipynb\n",
      "02-06-2020  02:01            27,225 Statistical.ipynb\n",
      "12-06-2020  02:48             2,581 Untitled.ipynb\n",
      "               5 File(s)        923,081 bytes\n",
      "               0 Dir(s)  1,205,919,694,848 bytes free\n"
     ]
    }
   ],
   "source": [
    "%ls *.ipynb"
   ]
  },
  {
   "cell_type": "code",
   "execution_count": 5,
   "metadata": {
    "ExecuteTime": {
     "end_time": "2020-09-01T14:59:49.616350Z",
     "start_time": "2020-09-01T14:59:49.608372Z"
    }
   },
   "outputs": [
    {
     "name": "stdout",
     "output_type": "stream",
     "text": [
      "C:\\Users\\sivas\\Desktop\\ML\\Courses\\Packt\\The-Supervised-Learning-Workshop-master\\Chapter05\\Datasets\n"
     ]
    }
   ],
   "source": [
    "%cd C:\\Users\\sivas\\Desktop\\ML\\Courses\\Packt\\The-Supervised-Learning-Workshop-master\\Chapter05\\Datasets"
   ]
  },
  {
   "cell_type": "code",
   "execution_count": 14,
   "metadata": {},
   "outputs": [],
   "source": [
    "import struct\n",
    "import numpy as np\n",
    "import gzip\n",
    "import urllib.request\n",
    "import matplotlib.pyplot as plt\n",
    "from array import array\n",
    "from sklearn.linear_model import LogisticRegression"
   ]
  },
  {
   "cell_type": "code",
   "execution_count": 15,
   "metadata": {},
   "outputs": [],
   "source": [
    "request = urllib.request.urlopen('http://yann.lecun.com/exdb/mnist/train-images-idx3-ubyte.gz')"
   ]
  },
  {
   "cell_type": "code",
   "execution_count": 17,
   "metadata": {},
   "outputs": [],
   "source": [
    "with open('../Datasets/train-images-idx3-ubyte.gz', 'wb') as f:\n",
    "    f.write(request.read())"
   ]
  },
  {
   "cell_type": "code",
   "execution_count": 19,
   "metadata": {},
   "outputs": [],
   "source": [
    "request = urllib.request.urlopen('http://yann.lecun.com/exdb/mnist/t10k-images-idx3-ubyte.gz')"
   ]
  },
  {
   "cell_type": "code",
   "execution_count": 20,
   "metadata": {},
   "outputs": [],
   "source": [
    "with open('../Datasets/t10k-images-idx3-ubyte.gz', 'wb') as f:\n",
    "    f.write(request.read())"
   ]
  },
  {
   "cell_type": "code",
   "execution_count": 21,
   "metadata": {},
   "outputs": [],
   "source": [
    "request = urllib.request.urlopen('http://yann.lecun.com/exdb/mnist/train-labels-idx1-ubyte.gz')\n",
    "with open('../Datasets/train-labels-idx1-ubyte.gz', 'wb') as f:\n",
    "    f.write(request.read())\n",
    "request = urllib.request.urlopen('http://yann.lecun.com/exdb/mnist/t10k-labels-idx1-ubyte.gz')\n",
    "with open('../Datasets/t10k-labels-idx1-ubyte.gz', 'wb') as f:\n",
    "    f.write(request.read())"
   ]
  },
  {
   "cell_type": "code",
   "execution_count": 6,
   "metadata": {
    "ExecuteTime": {
     "end_time": "2020-09-01T14:59:54.755837Z",
     "start_time": "2020-09-01T14:59:54.641109Z"
    }
   },
   "outputs": [
    {
     "name": "stdout",
     "output_type": "stream",
     "text": [
      " Volume in drive C is OS\n",
      " Volume Serial Number is 160C-8FE1\n",
      "\n",
      " Directory of C:\\Users\\sivas\\Desktop\\ML\\Courses\\Packt\\The-Supervised-Learning-Workshop-master\\Chapter05\\Datasets\n",
      "\n",
      "12-06-2020  04:28         1,648,877 t10k-images-idx3-ubyte.gz\n",
      "12-06-2020  04:30             4,542 t10k-labels-idx1-ubyte.gz\n",
      "12-06-2020  04:25         9,912,422 train-images-idx3-ubyte.gz\n",
      "12-06-2020  04:30            28,881 train-labels-idx1-ubyte.gz\n",
      "               4 File(s)     11,594,722 bytes\n",
      "               0 Dir(s)  1,204,764,131,328 bytes free\n"
     ]
    }
   ],
   "source": [
    "%ls *.gz"
   ]
  },
  {
   "cell_type": "code",
   "execution_count": 26,
   "metadata": {},
   "outputs": [],
   "source": [
    "with gzip.open('../Datasets/train-images-idx3-ubyte.gz', 'rb') as f:\n",
    "    magic, size, rows, cols = struct.unpack(\">IIII\", f.read(16))\n",
    "    img = np.array(array(\"B\", f.read())).reshape((size, rows, cols))\n",
    "with gzip.open('../Datasets/train-labels-idx1-ubyte.gz', 'rb') as f:\n",
    "    magic, size = struct.unpack(\">II\", f.read(8))\n",
    "    labels = np.array(array(\"B\", f.read()))\n",
    "with gzip.open('../Datasets/t10k-images-idx3-ubyte.gz', 'rb') as f:\n",
    "    magic, size, rows, cols = struct.unpack(\">IIII\", f.read(16))\n",
    "    img_test = np.array(array(\"B\", f.read())).reshape((size, rows, cols))\n",
    "with gzip.open('../Datasets/t10k-labels-idx1-ubyte.gz', 'rb') as f:\n",
    "    magic, size = struct.unpack(\">II\", f.read(8))\n",
    "    labels_test = np.array(array(\"B\", f.read()))"
   ]
  },
  {
   "cell_type": "code",
   "execution_count": 27,
   "metadata": {},
   "outputs": [
    {
     "data": {
      "image/png": "[encoded data removed]",
      "text/plain": [
       "<Figure size 432x288 with 10 Axes>"
      ]
     },
     "metadata": {
      "needs_background": "light"
     },
     "output_type": "display_data"
    }
   ],
   "source": [
    "for i in range(10):\n",
    "    plt.subplot(2, 5, i + 1)\n",
    "    plt.imshow(img[i], cmap='gray');\n",
    "    plt.title(f'{labels[i]}');\n",
    "    plt.axis('off')"
   ]
  },
  {
   "cell_type": "code",
   "execution_count": 38,
   "metadata": {},
   "outputs": [
    {
     "data": {
      "image/png": "[encoded data removed]",
      "text/plain": [
       "<Figure size 432x288 with 6 Axes>"
      ]
     },
     "metadata": {
      "needs_background": "light"
     },
     "output_type": "display_data"
    }
   ],
   "source": [
    "for i in range(6):\n",
    "    plt.subplot(2,3,i+1)\n",
    "    plt.imshow(img[i],cmap='gray')\n",
    "    plt.title(f'{labels[i]}')\n",
    "    plt.axis('off')\n"
   ]
  },
  {
   "cell_type": "code",
   "execution_count": 57,
   "metadata": {},
   "outputs": [],
   "source": [
    "samples_0_1 = np.where((labels == 0) | (labels == 1))[0]\n",
    "images_0_1 = img[samples_0_1]\n",
    "labels_0_1 = labels[samples_0_1]\n",
    "samples_0_1_test = np.where((labels_test == 0) | (labels_test == 1))\n",
    "images_0_1_test = img_test[samples_0_1_test].reshape((-1, rows * cols))\n",
    "labels_0_1_test = labels_test[samples_0_1_test]"
   ]
  },
  {
   "cell_type": "code",
   "execution_count": 64,
   "metadata": {},
   "outputs": [
    {
     "data": {
      "text/plain": [
       "<matplotlib.image.AxesImage at 0x279b8f30240>"
      ]
     },
     "execution_count": 64,
     "metadata": {},
     "output_type": "execute_result"
    },
    {
     "data": {
      "image/png": "[encoded data removed]",
      "text/plain": [
       "<Figure size 432x288 with 1 Axes>"
      ]
     },
     "metadata": {
      "needs_background": "light"
     },
     "output_type": "display_data"
    }
   ],
   "source": [
    "plt.imshow(img[np.where((labels == 0))[0][0]],cmap='gray')"
   ]
  },
  {
   "cell_type": "code",
   "execution_count": 68,
   "metadata": {},
   "outputs": [
    {
     "data": {
      "text/plain": [
       "<matplotlib.image.AxesImage at 0x279b94b7550>"
      ]
     },
     "execution_count": 68,
     "metadata": {},
     "output_type": "execute_result"
    },
    {
     "data": {
      "image/png": "[encoded data removed]",
      "text/plain": [
       "<Figure size 432x288 with 1 Axes>"
      ]
     },
     "metadata": {
      "needs_background": "light"
     },
     "output_type": "display_data"
    }
   ],
   "source": [
    "plt.imshow(img[np.where((labels == 1))[0][0]],cmap='gray')"
   ]
  },
  {
   "cell_type": "code",
   "execution_count": 69,
   "metadata": {},
   "outputs": [
    {
     "data": {
      "text/plain": [
       "(12665, 784)"
      ]
     },
     "execution_count": 69,
     "metadata": {},
     "output_type": "execute_result"
    }
   ],
   "source": [
    "images_0_1 = images_0_1.reshape((-1, rows * cols))\n",
    "images_0_1.shape"
   ]
  },
  {
   "cell_type": "code",
   "execution_count": 70,
   "metadata": {},
   "outputs": [
    {
     "data": {
      "text/plain": [
       "LogisticRegression(C=1.0, class_weight=None, dual=False, fit_intercept=True,\n",
       "                   intercept_scaling=1, l1_ratio=None, max_iter=100,\n",
       "                   multi_class='auto', n_jobs=None, penalty='l2',\n",
       "                   random_state=None, solver='liblinear', tol=0.0001, verbose=0,\n",
       "                   warm_start=False)"
      ]
     },
     "execution_count": 70,
     "metadata": {},
     "output_type": "execute_result"
    }
   ],
   "source": [
    "model = LogisticRegression(solver='liblinear')\n",
    "model.fit(X=images_0_1, y=labels_0_1)"
   ]
  },
  {
   "cell_type": "code",
   "execution_count": 71,
   "metadata": {},
   "outputs": [
    {
     "data": {
      "text/plain": [
       "1.0"
      ]
     },
     "execution_count": 71,
     "metadata": {},
     "output_type": "execute_result"
    }
   ],
   "source": [
    "model.score(X=images_0_1, y=labels_0_1)"
   ]
  },
  {
   "cell_type": "code",
   "execution_count": 72,
   "metadata": {},
   "outputs": [
    {
     "data": {
      "text/plain": [
       "array([0, 1, 1, ..., 1, 0, 1], dtype=uint8)"
      ]
     },
     "execution_count": 72,
     "metadata": {},
     "output_type": "execute_result"
    }
   ],
   "source": [
    "model.predict(images_0_1)"
   ]
  },
  {
   "cell_type": "code",
   "execution_count": 73,
   "metadata": {},
   "outputs": [
    {
     "data": {
      "text/plain": [
       "array([[9.99999999e-01, 9.89532616e-10],\n",
       "       [4.56461424e-09, 9.99999995e-01]])"
      ]
     },
     "execution_count": 73,
     "metadata": {},
     "output_type": "execute_result"
    }
   ],
   "source": [
    "model.predict_proba(images_0_1)[:2]"
   ]
  },
  {
   "cell_type": "code",
   "execution_count": 74,
   "metadata": {},
   "outputs": [
    {
     "data": {
      "text/plain": [
       "0.9995271867612293"
      ]
     },
     "execution_count": 74,
     "metadata": {},
     "output_type": "execute_result"
    }
   ],
   "source": [
    "model.score(X=images_0_1_test, y=labels_0_1_test)"
   ]
  },
  {
   "cell_type": "code",
   "execution_count": 75,
   "metadata": {},
   "outputs": [],
   "source": [
    "np.random.seed(0) # Give consistent random numbers\n",
    "selection = np.random.choice(len(img), 5000)"
   ]
  },
  {
   "cell_type": "code",
   "execution_count": 78,
   "metadata": {},
   "outputs": [
    {
     "data": {
      "text/plain": [
       "5000"
      ]
     },
     "execution_count": 78,
     "metadata": {},
     "output_type": "execute_result"
    }
   ],
   "source": [
    "len(selection)"
   ]
  },
  {
   "cell_type": "code",
   "execution_count": 77,
   "metadata": {},
   "outputs": [
    {
     "data": {
      "text/plain": [
       "60000"
      ]
     },
     "execution_count": 77,
     "metadata": {},
     "output_type": "execute_result"
    }
   ],
   "source": [
    "len(img)"
   ]
  },
  {
   "cell_type": "code",
   "execution_count": 92,
   "metadata": {},
   "outputs": [
    {
     "data": {
      "text/plain": [
       "array([0, 3, 4, 2, 1])"
      ]
     },
     "execution_count": 92,
     "metadata": {},
     "output_type": "execute_result"
    }
   ],
   "source": [
    "np.random.choice(5, 5,replace=False)"
   ]
  },
  {
   "cell_type": "code",
   "execution_count": null,
   "metadata": {},
   "outputs": [],
   "source": []
  }
 ],
 "metadata": {
  "kernelspec": {
   "display_name": "Python 3",
   "language": "python",
   "name": "python3"
  },
  "language_info": {
   "codemirror_mode": {
    "name": "ipython",
    "version": 3
   },
   "file_extension": ".py",
   "mimetype": "text/x-python",
   "name": "python",
   "nbconvert_exporter": "python",
   "pygments_lexer": "ipython3",
   "version": "3.6.10"
  },
  "toc": {
   "base_numbering": 1,
   "nav_menu": {},
   "number_sections": true,
   "sideBar": true,
   "skip_h1_title": false,
   "title_cell": "Table of Contents",
   "title_sidebar": "Contents",
   "toc_cell": false,
   "toc_position": {},
   "toc_section_display": true,
   "toc_window_display": false
  }
 },
 "nbformat": 4,
 "nbformat_minor": 4
}
