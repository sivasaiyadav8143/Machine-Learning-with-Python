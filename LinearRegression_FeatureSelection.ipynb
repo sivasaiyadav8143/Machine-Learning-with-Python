{
  "nbformat": 4,
  "nbformat_minor": 0,
  "metadata": {
    "colab": {
      "name": "LinearRegression_FeatureSelection.ipynb",
      "provenance": [],
      "authorship_tag": "ABX9TyP0DEKMiZhZG/9PacEkiolg",
      "include_colab_link": true
    },
    "kernelspec": {
      "name": "python3",
      "display_name": "Python 3"
    }
  },
  "cells": [
    {
      "cell_type": "markdown",
      "metadata": {
        "id": "view-in-github",
        "colab_type": "text"
      },
      "source": [
        "<a href=\"https://colab.research.google.com/github/sivasaiyadav8143/Machine-Learning-with-Python/blob/master/LinearRegression_FeatureSelection.ipynb\" target=\"_parent\"><img src=\"https://colab.research.google.com/assets/colab-badge.svg\" alt=\"Open In Colab\"/></a>"
      ]
    },
    {
      "cell_type": "markdown",
      "metadata": {
        "id": "TlpRL0QksywI",
        "colab_type": "text"
      },
      "source": [
        "Importing all required libraries"
      ]
    },
    {
      "cell_type": "code",
      "metadata": {
        "id": "MZ35K1kPsh3a",
        "colab_type": "code",
        "colab": {}
      },
      "source": [
        "import pandas as pd, numpy as np\n",
        "from sklearn.linear_model import LinearRegression\n",
        "from sklearn.metrics import mean_squared_error\n",
        "import matplotlib.pyplot as plt\n",
        "import pandas as pd\n",
        "%matplotlib inline\n",
        "\n",
        "import warnings\n",
        "warnings.filterwarnings('ignore')"
      ],
      "execution_count": 1,
      "outputs": []
    },
    {
      "cell_type": "code",
      "metadata": {
        "id": "D55aLo0ItLaG",
        "colab_type": "code",
        "colab": {
          "base_uri": "https://localhost:8080/",
          "height": 111
        },
        "outputId": "66a28670-18fe-4eaf-a72c-6d92c5473226"
      },
      "source": [
        "# reading the CSV file into dataframe\n",
        "car = pd.read_csv('car-mpg.csv')\n",
        "\n",
        "# Check top few records to check the structure of the data\n",
        "car.head(2)"
      ],
      "execution_count": 69,
      "outputs": [
        {
          "output_type": "execute_result",
          "data": {
            "text/html": [
              "<div>\n",
              "<style scoped>\n",
              "    .dataframe tbody tr th:only-of-type {\n",
              "        vertical-align: middle;\n",
              "    }\n",
              "\n",
              "    .dataframe tbody tr th {\n",
              "        vertical-align: top;\n",
              "    }\n",
              "\n",
              "    .dataframe thead th {\n",
              "        text-align: right;\n",
              "    }\n",
              "</style>\n",
              "<table border=\"1\" class=\"dataframe\">\n",
              "  <thead>\n",
              "    <tr style=\"text-align: right;\">\n",
              "      <th></th>\n",
              "      <th>mpg</th>\n",
              "      <th>cyl</th>\n",
              "      <th>disp</th>\n",
              "      <th>hp</th>\n",
              "      <th>wt</th>\n",
              "      <th>acc</th>\n",
              "      <th>yr</th>\n",
              "      <th>origin</th>\n",
              "      <th>car_type</th>\n",
              "      <th>car_name</th>\n",
              "    </tr>\n",
              "  </thead>\n",
              "  <tbody>\n",
              "    <tr>\n",
              "      <th>0</th>\n",
              "      <td>18.0</td>\n",
              "      <td>8</td>\n",
              "      <td>307.0</td>\n",
              "      <td>130</td>\n",
              "      <td>3504</td>\n",
              "      <td>12.0</td>\n",
              "      <td>70</td>\n",
              "      <td>1</td>\n",
              "      <td>0</td>\n",
              "      <td>chevrolet chevelle malibu</td>\n",
              "    </tr>\n",
              "    <tr>\n",
              "      <th>1</th>\n",
              "      <td>15.0</td>\n",
              "      <td>8</td>\n",
              "      <td>350.0</td>\n",
              "      <td>165</td>\n",
              "      <td>3693</td>\n",
              "      <td>11.5</td>\n",
              "      <td>70</td>\n",
              "      <td>1</td>\n",
              "      <td>0</td>\n",
              "      <td>buick skylark 320</td>\n",
              "    </tr>\n",
              "  </tbody>\n",
              "</table>\n",
              "</div>"
            ],
            "text/plain": [
              "    mpg  cyl   disp   hp  ...  yr  origin  car_type                   car_name\n",
              "0  18.0    8  307.0  130  ...  70       1         0  chevrolet chevelle malibu\n",
              "1  15.0    8  350.0  165  ...  70       1         0          buick skylark 320\n",
              "\n",
              "[2 rows x 10 columns]"
            ]
          },
          "metadata": {
            "tags": []
          },
          "execution_count": 69
        }
      ]
    },
    {
      "cell_type": "code",
      "metadata": {
        "id": "IWkco0TQtXkK",
        "colab_type": "code",
        "colab": {}
      },
      "source": [
        "# drop the car name since all the value are unique\n",
        "car.drop(columns='car_name',axis=1,inplace=True)"
      ],
      "execution_count": 70,
      "outputs": []
    },
    {
      "cell_type": "code",
      "metadata": {
        "id": "1N9G1yRpulke",
        "colab_type": "code",
        "colab": {
          "base_uri": "https://localhost:8080/",
          "height": 187
        },
        "outputId": "af6f6de8-fa70-4080-cc63-fd50b47c6940"
      },
      "source": [
        "# checking for NA's but not find any this is good \n",
        "car.isna().sum()"
      ],
      "execution_count": 71,
      "outputs": [
        {
          "output_type": "execute_result",
          "data": {
            "text/plain": [
              "mpg         0\n",
              "cyl         0\n",
              "disp        0\n",
              "hp          0\n",
              "wt          0\n",
              "acc         0\n",
              "yr          0\n",
              "origin      0\n",
              "car_type    0\n",
              "dtype: int64"
            ]
          },
          "metadata": {
            "tags": []
          },
          "execution_count": 71
        }
      ]
    },
    {
      "cell_type": "code",
      "metadata": {
        "id": "Wp-X-LJNxPpd",
        "colab_type": "code",
        "colab": {
          "base_uri": "https://localhost:8080/",
          "height": 289
        },
        "outputId": "37f2cea0-1edb-44a7-c6f5-aca15da92f5c"
      },
      "source": [
        "car.info()"
      ],
      "execution_count": 72,
      "outputs": [
        {
          "output_type": "stream",
          "text": [
            "<class 'pandas.core.frame.DataFrame'>\n",
            "RangeIndex: 398 entries, 0 to 397\n",
            "Data columns (total 9 columns):\n",
            " #   Column    Non-Null Count  Dtype  \n",
            "---  ------    --------------  -----  \n",
            " 0   mpg       398 non-null    float64\n",
            " 1   cyl       398 non-null    int64  \n",
            " 2   disp      398 non-null    float64\n",
            " 3   hp        398 non-null    object \n",
            " 4   wt        398 non-null    int64  \n",
            " 5   acc       398 non-null    float64\n",
            " 6   yr        398 non-null    int64  \n",
            " 7   origin    398 non-null    int64  \n",
            " 8   car_type  398 non-null    int64  \n",
            "dtypes: float64(3), int64(5), object(1)\n",
            "memory usage: 28.1+ KB\n"
          ],
          "name": "stdout"
        }
      ]
    },
    {
      "cell_type": "code",
      "metadata": {
        "id": "92BFIXJQup6c",
        "colab_type": "code",
        "colab": {
          "base_uri": "https://localhost:8080/",
          "height": 136
        },
        "outputId": "ee5713b3-9e19-4508-99df-73bd1fb7cb0f"
      },
      "source": [
        "# lets drive little more for NA's\n",
        "# if we observe carefully at info(),column hp has 'object' as a datatype though it is a numeric.\n",
        "# car[~(car.hp.str.isdigit())]\n",
        "car.hp[~(car.hp.str.isdigit())] #it has '?' as null values"
      ],
      "execution_count": 73,
      "outputs": [
        {
          "output_type": "execute_result",
          "data": {
            "text/plain": [
              "32     ?\n",
              "126    ?\n",
              "330    ?\n",
              "336    ?\n",
              "354    ?\n",
              "374    ?\n",
              "Name: hp, dtype: object"
            ]
          },
          "metadata": {
            "tags": []
          },
          "execution_count": 73
        }
      ]
    },
    {
      "cell_type": "code",
      "metadata": {
        "id": "8DSdRdeYv85_",
        "colab_type": "code",
        "colab": {
          "base_uri": "https://localhost:8080/",
          "height": 187
        },
        "outputId": "72131aca-50ec-4d61-f1bc-5d867fd49739"
      },
      "source": [
        "# replace '?' with NA so we can directly deal with NA's with inbuilt methods \n",
        "car.hp.replace('?',np.nan,inplace=True)\n",
        "car.isna().sum()"
      ],
      "execution_count": 74,
      "outputs": [
        {
          "output_type": "execute_result",
          "data": {
            "text/plain": [
              "mpg         0\n",
              "cyl         0\n",
              "disp        0\n",
              "hp          6\n",
              "wt          0\n",
              "acc         0\n",
              "yr          0\n",
              "origin      0\n",
              "car_type    0\n",
              "dtype: int64"
            ]
          },
          "metadata": {
            "tags": []
          },
          "execution_count": 74
        }
      ]
    },
    {
      "cell_type": "code",
      "metadata": {
        "id": "WLRlwwE0v9gU",
        "colab_type": "code",
        "colab": {}
      },
      "source": [
        "# for now lets drop NA and change hp datatype to int\n",
        "car.dropna(inplace=True)\n",
        "car['hp'] = car['hp'].astype('float64')"
      ],
      "execution_count": 75,
      "outputs": []
    },
    {
      "cell_type": "code",
      "metadata": {
        "id": "2_ezOFcO0UN_",
        "colab_type": "code",
        "colab": {
          "base_uri": "https://localhost:8080/",
          "height": 289
        },
        "outputId": "bf1b752f-0dc3-40a0-9630-79fd74250bc8"
      },
      "source": [
        "car.info()"
      ],
      "execution_count": 76,
      "outputs": [
        {
          "output_type": "stream",
          "text": [
            "<class 'pandas.core.frame.DataFrame'>\n",
            "Int64Index: 392 entries, 0 to 397\n",
            "Data columns (total 9 columns):\n",
            " #   Column    Non-Null Count  Dtype  \n",
            "---  ------    --------------  -----  \n",
            " 0   mpg       392 non-null    float64\n",
            " 1   cyl       392 non-null    int64  \n",
            " 2   disp      392 non-null    float64\n",
            " 3   hp        392 non-null    float64\n",
            " 4   wt        392 non-null    int64  \n",
            " 5   acc       392 non-null    float64\n",
            " 6   yr        392 non-null    int64  \n",
            " 7   origin    392 non-null    int64  \n",
            " 8   car_type  392 non-null    int64  \n",
            "dtypes: float64(4), int64(5)\n",
            "memory usage: 30.6 KB\n"
          ],
          "name": "stdout"
        }
      ]
    },
    {
      "cell_type": "code",
      "metadata": {
        "id": "quDh1__D0j1-",
        "colab_type": "code",
        "colab": {
          "base_uri": "https://localhost:8080/",
          "height": 328
        },
        "outputId": "3f482290-b1da-404d-dd13-be079a8dbbed"
      },
      "source": [
        "# perform descriptive analysis\n",
        "car.describe().T"
      ],
      "execution_count": 77,
      "outputs": [
        {
          "output_type": "execute_result",
          "data": {
            "text/html": [
              "<div>\n",
              "<style scoped>\n",
              "    .dataframe tbody tr th:only-of-type {\n",
              "        vertical-align: middle;\n",
              "    }\n",
              "\n",
              "    .dataframe tbody tr th {\n",
              "        vertical-align: top;\n",
              "    }\n",
              "\n",
              "    .dataframe thead th {\n",
              "        text-align: right;\n",
              "    }\n",
              "</style>\n",
              "<table border=\"1\" class=\"dataframe\">\n",
              "  <thead>\n",
              "    <tr style=\"text-align: right;\">\n",
              "      <th></th>\n",
              "      <th>count</th>\n",
              "      <th>mean</th>\n",
              "      <th>std</th>\n",
              "      <th>min</th>\n",
              "      <th>25%</th>\n",
              "      <th>50%</th>\n",
              "      <th>75%</th>\n",
              "      <th>max</th>\n",
              "    </tr>\n",
              "  </thead>\n",
              "  <tbody>\n",
              "    <tr>\n",
              "      <th>mpg</th>\n",
              "      <td>392.0</td>\n",
              "      <td>23.445918</td>\n",
              "      <td>7.805007</td>\n",
              "      <td>9.0</td>\n",
              "      <td>17.000</td>\n",
              "      <td>22.75</td>\n",
              "      <td>29.000</td>\n",
              "      <td>46.6</td>\n",
              "    </tr>\n",
              "    <tr>\n",
              "      <th>cyl</th>\n",
              "      <td>392.0</td>\n",
              "      <td>5.471939</td>\n",
              "      <td>1.705783</td>\n",
              "      <td>3.0</td>\n",
              "      <td>4.000</td>\n",
              "      <td>4.00</td>\n",
              "      <td>8.000</td>\n",
              "      <td>8.0</td>\n",
              "    </tr>\n",
              "    <tr>\n",
              "      <th>disp</th>\n",
              "      <td>392.0</td>\n",
              "      <td>194.411990</td>\n",
              "      <td>104.644004</td>\n",
              "      <td>68.0</td>\n",
              "      <td>105.000</td>\n",
              "      <td>151.00</td>\n",
              "      <td>275.750</td>\n",
              "      <td>455.0</td>\n",
              "    </tr>\n",
              "    <tr>\n",
              "      <th>hp</th>\n",
              "      <td>392.0</td>\n",
              "      <td>104.469388</td>\n",
              "      <td>38.491160</td>\n",
              "      <td>46.0</td>\n",
              "      <td>75.000</td>\n",
              "      <td>93.50</td>\n",
              "      <td>126.000</td>\n",
              "      <td>230.0</td>\n",
              "    </tr>\n",
              "    <tr>\n",
              "      <th>wt</th>\n",
              "      <td>392.0</td>\n",
              "      <td>2977.584184</td>\n",
              "      <td>849.402560</td>\n",
              "      <td>1613.0</td>\n",
              "      <td>2225.250</td>\n",
              "      <td>2803.50</td>\n",
              "      <td>3614.750</td>\n",
              "      <td>5140.0</td>\n",
              "    </tr>\n",
              "    <tr>\n",
              "      <th>acc</th>\n",
              "      <td>392.0</td>\n",
              "      <td>15.541327</td>\n",
              "      <td>2.758864</td>\n",
              "      <td>8.0</td>\n",
              "      <td>13.775</td>\n",
              "      <td>15.50</td>\n",
              "      <td>17.025</td>\n",
              "      <td>24.8</td>\n",
              "    </tr>\n",
              "    <tr>\n",
              "      <th>yr</th>\n",
              "      <td>392.0</td>\n",
              "      <td>75.979592</td>\n",
              "      <td>3.683737</td>\n",
              "      <td>70.0</td>\n",
              "      <td>73.000</td>\n",
              "      <td>76.00</td>\n",
              "      <td>79.000</td>\n",
              "      <td>82.0</td>\n",
              "    </tr>\n",
              "    <tr>\n",
              "      <th>origin</th>\n",
              "      <td>392.0</td>\n",
              "      <td>1.576531</td>\n",
              "      <td>0.805518</td>\n",
              "      <td>1.0</td>\n",
              "      <td>1.000</td>\n",
              "      <td>1.00</td>\n",
              "      <td>2.000</td>\n",
              "      <td>3.0</td>\n",
              "    </tr>\n",
              "    <tr>\n",
              "      <th>car_type</th>\n",
              "      <td>392.0</td>\n",
              "      <td>0.525510</td>\n",
              "      <td>0.499987</td>\n",
              "      <td>0.0</td>\n",
              "      <td>0.000</td>\n",
              "      <td>1.00</td>\n",
              "      <td>1.000</td>\n",
              "      <td>1.0</td>\n",
              "    </tr>\n",
              "  </tbody>\n",
              "</table>\n",
              "</div>"
            ],
            "text/plain": [
              "          count         mean         std  ...      50%       75%     max\n",
              "mpg       392.0    23.445918    7.805007  ...    22.75    29.000    46.6\n",
              "cyl       392.0     5.471939    1.705783  ...     4.00     8.000     8.0\n",
              "disp      392.0   194.411990  104.644004  ...   151.00   275.750   455.0\n",
              "hp        392.0   104.469388   38.491160  ...    93.50   126.000   230.0\n",
              "wt        392.0  2977.584184  849.402560  ...  2803.50  3614.750  5140.0\n",
              "acc       392.0    15.541327    2.758864  ...    15.50    17.025    24.8\n",
              "yr        392.0    75.979592    3.683737  ...    76.00    79.000    82.0\n",
              "origin    392.0     1.576531    0.805518  ...     1.00     2.000     3.0\n",
              "car_type  392.0     0.525510    0.499987  ...     1.00     1.000     1.0\n",
              "\n",
              "[9 rows x 8 columns]"
            ]
          },
          "metadata": {
            "tags": []
          },
          "execution_count": 77
        }
      ]
    },
    {
      "cell_type": "markdown",
      "metadata": {
        "id": "r1RD4B9nFLj0",
        "colab_type": "text"
      },
      "source": [
        "From above describe(), we could say\n",
        "* disp, hp and wt columna are right skewed.Since there mean > median(50%)"
      ]
    },
    {
      "cell_type": "code",
      "metadata": {
        "id": "luo9q6dQ0sp9",
        "colab_type": "code",
        "colab": {
          "base_uri": "https://localhost:8080/",
          "height": 34
        },
        "outputId": "1da357a6-861d-4266-dc94-b1ad03454dc6"
      },
      "source": [
        "# separare predictors and target\n",
        "X = car.iloc[:,1:]\n",
        "y = car.iloc[:,1]\n",
        "X.shape,y.shape"
      ],
      "execution_count": 78,
      "outputs": [
        {
          "output_type": "execute_result",
          "data": {
            "text/plain": [
              "((392, 8), (392,))"
            ]
          },
          "metadata": {
            "tags": []
          },
          "execution_count": 78
        }
      ]
    },
    {
      "cell_type": "code",
      "metadata": {
        "id": "f68zoGE1wEU7",
        "colab_type": "code",
        "colab": {
          "base_uri": "https://localhost:8080/",
          "height": 204
        },
        "outputId": "f017d5a1-2d6f-4188-efdb-d007728367a7"
      },
      "source": [
        "X.tail(5)"
      ],
      "execution_count": 79,
      "outputs": [
        {
          "output_type": "execute_result",
          "data": {
            "text/html": [
              "<div>\n",
              "<style scoped>\n",
              "    .dataframe tbody tr th:only-of-type {\n",
              "        vertical-align: middle;\n",
              "    }\n",
              "\n",
              "    .dataframe tbody tr th {\n",
              "        vertical-align: top;\n",
              "    }\n",
              "\n",
              "    .dataframe thead th {\n",
              "        text-align: right;\n",
              "    }\n",
              "</style>\n",
              "<table border=\"1\" class=\"dataframe\">\n",
              "  <thead>\n",
              "    <tr style=\"text-align: right;\">\n",
              "      <th></th>\n",
              "      <th>cyl</th>\n",
              "      <th>disp</th>\n",
              "      <th>hp</th>\n",
              "      <th>wt</th>\n",
              "      <th>acc</th>\n",
              "      <th>yr</th>\n",
              "      <th>origin</th>\n",
              "      <th>car_type</th>\n",
              "    </tr>\n",
              "  </thead>\n",
              "  <tbody>\n",
              "    <tr>\n",
              "      <th>393</th>\n",
              "      <td>4</td>\n",
              "      <td>140.0</td>\n",
              "      <td>86.0</td>\n",
              "      <td>2790</td>\n",
              "      <td>15.6</td>\n",
              "      <td>82</td>\n",
              "      <td>1</td>\n",
              "      <td>1</td>\n",
              "    </tr>\n",
              "    <tr>\n",
              "      <th>394</th>\n",
              "      <td>4</td>\n",
              "      <td>97.0</td>\n",
              "      <td>52.0</td>\n",
              "      <td>2130</td>\n",
              "      <td>24.6</td>\n",
              "      <td>82</td>\n",
              "      <td>2</td>\n",
              "      <td>1</td>\n",
              "    </tr>\n",
              "    <tr>\n",
              "      <th>395</th>\n",
              "      <td>4</td>\n",
              "      <td>135.0</td>\n",
              "      <td>84.0</td>\n",
              "      <td>2295</td>\n",
              "      <td>11.6</td>\n",
              "      <td>82</td>\n",
              "      <td>1</td>\n",
              "      <td>1</td>\n",
              "    </tr>\n",
              "    <tr>\n",
              "      <th>396</th>\n",
              "      <td>4</td>\n",
              "      <td>120.0</td>\n",
              "      <td>79.0</td>\n",
              "      <td>2625</td>\n",
              "      <td>18.6</td>\n",
              "      <td>82</td>\n",
              "      <td>1</td>\n",
              "      <td>1</td>\n",
              "    </tr>\n",
              "    <tr>\n",
              "      <th>397</th>\n",
              "      <td>4</td>\n",
              "      <td>119.0</td>\n",
              "      <td>82.0</td>\n",
              "      <td>2720</td>\n",
              "      <td>19.4</td>\n",
              "      <td>82</td>\n",
              "      <td>1</td>\n",
              "      <td>1</td>\n",
              "    </tr>\n",
              "  </tbody>\n",
              "</table>\n",
              "</div>"
            ],
            "text/plain": [
              "     cyl   disp    hp    wt   acc  yr  origin  car_type\n",
              "393    4  140.0  86.0  2790  15.6  82       1         1\n",
              "394    4   97.0  52.0  2130  24.6  82       2         1\n",
              "395    4  135.0  84.0  2295  11.6  82       1         1\n",
              "396    4  120.0  79.0  2625  18.6  82       1         1\n",
              "397    4  119.0  82.0  2720  19.4  82       1         1"
            ]
          },
          "metadata": {
            "tags": []
          },
          "execution_count": 79
        }
      ]
    },
    {
      "cell_type": "code",
      "metadata": {
        "id": "nDREAzrIFANk",
        "colab_type": "code",
        "colab": {}
      },
      "source": [
        "# Split X and y into training and test set in 70:30 ratio\n",
        "from sklearn.model_selection import train_test_split\n",
        "x_train, x_test, y_train, y_test = train_test_split(X, y, test_size=0.30, random_state=14)"
      ],
      "execution_count": 80,
      "outputs": []
    },
    {
      "cell_type": "code",
      "metadata": {
        "id": "TRcW-emixCeT",
        "colab_type": "code",
        "colab": {}
      },
      "source": [
        "# x_train.head()\n",
        "# y_train.head()"
      ],
      "execution_count": 59,
      "outputs": []
    },
    {
      "cell_type": "code",
      "metadata": {
        "id": "G3t0qvD-HT4s",
        "colab_type": "code",
        "colab": {
          "base_uri": "https://localhost:8080/",
          "height": 34
        },
        "outputId": "13d405ef-7458-4638-f697-689bc676407e"
      },
      "source": [
        "# creating LinearRegression model\n",
        "regression = LinearRegression()\n",
        "regression.fit(x_train,y_train)"
      ],
      "execution_count": 81,
      "outputs": [
        {
          "output_type": "execute_result",
          "data": {
            "text/plain": [
              "LinearRegression(copy_X=True, fit_intercept=True, n_jobs=None, normalize=False)"
            ]
          },
          "metadata": {
            "tags": []
          },
          "execution_count": 81
        }
      ]
    },
    {
      "cell_type": "code",
      "metadata": {
        "id": "YMQileouHkMh",
        "colab_type": "code",
        "colab": {
          "base_uri": "https://localhost:8080/",
          "height": 51
        },
        "outputId": "2fa07016-6321-48a0-8e00-8e2804283a9d"
      },
      "source": [
        "# train & test R^2\n",
        "print(f\"Train Score / R^2 : {regression.score(x_train,y_train)}\")\n",
        "print(f\"Test Score / R^2 : {regression.score(x_test,y_test)}\")"
      ],
      "execution_count": 82,
      "outputs": [
        {
          "output_type": "stream",
          "text": [
            "Train Score / R^2 : 1.0\n",
            "Test Score / R^2 : 1.0\n"
          ],
          "name": "stdout"
        }
      ]
    },
    {
      "cell_type": "code",
      "metadata": {
        "id": "4oQXw-QUIPZ7",
        "colab_type": "code",
        "colab": {
          "base_uri": "https://localhost:8080/",
          "height": 34
        },
        "outputId": "6502acea-bda4-4476-ccf8-df267253de45"
      },
      "source": [
        "# Mean Squared Error for Train\n",
        "train_pred = regression.predict(x_train)\n",
        "mean_squared_error(y_train,train_pred)"
      ],
      "execution_count": 17,
      "outputs": [
        {
          "output_type": "execute_result",
          "data": {
            "text/plain": [
              "1.1566025235563397e-28"
            ]
          },
          "metadata": {
            "tags": []
          },
          "execution_count": 17
        }
      ]
    },
    {
      "cell_type": "code",
      "metadata": {
        "id": "3ejBMkTCJZl-",
        "colab_type": "code",
        "colab": {
          "base_uri": "https://localhost:8080/",
          "height": 34
        },
        "outputId": "cf9ce28f-2905-4dfa-e01d-7a406a3ffea3"
      },
      "source": [
        "# Mean Squared Error for Test\n",
        "test_pred = regression.predict(x_test)\n",
        "mean_squared_error(y_test,test_pred)"
      ],
      "execution_count": 18,
      "outputs": [
        {
          "output_type": "execute_result",
          "data": {
            "text/plain": [
              "1.279458850387486e-28"
            ]
          },
          "metadata": {
            "tags": []
          },
          "execution_count": 18
        }
      ]
    },
    {
      "cell_type": "markdown",
      "metadata": {
        "id": "bIo0jm34JpNx",
        "colab_type": "text"
      },
      "source": [
        "We see some error in both train and test but R^2 is 100% in both train and test. This might be fluke/flash in the pan/sampling error i.e. the test set is perfect copy of train set. We may not see same results on another set.Lets confirm if this score is fluke with cross-validation.  "
      ]
    },
    {
      "cell_type": "code",
      "metadata": {
        "id": "5MYEwYXzJhso",
        "colab_type": "code",
        "colab": {}
      },
      "source": [
        "# Evaluate using Cross Validation\n",
        "from sklearn import model_selection"
      ],
      "execution_count": 19,
      "outputs": []
    },
    {
      "cell_type": "code",
      "metadata": {
        "id": "SuH2RmXfKmt_",
        "colab_type": "code",
        "colab": {
          "base_uri": "https://localhost:8080/",
          "height": 34
        },
        "outputId": "fe8b4b7a-d135-4d1b-9bea-b9298ab19465"
      },
      "source": [
        "lin_reg = LinearRegression()\n",
        "kfold = model_selection.KFold(n_splits=20,random_state=14)\n",
        "score = model_selection.cross_val_score(lin_reg,X,y,cv=10)\n",
        "score"
      ],
      "execution_count": 20,
      "outputs": [
        {
          "output_type": "execute_result",
          "data": {
            "text/plain": [
              "array([1., 1., 1., 1., 1., 1., 1., 1., 1., 1.])"
            ]
          },
          "metadata": {
            "tags": []
          },
          "execution_count": 20
        }
      ]
    },
    {
      "cell_type": "markdown",
      "metadata": {
        "id": "_mtay5Fefqtk",
        "colab_type": "text"
      },
      "source": [
        "Lets make our model little complicated by adding more features with PolynomialFeatures"
      ]
    },
    {
      "cell_type": "code",
      "metadata": {
        "id": "sUloQgCEN6FA",
        "colab_type": "code",
        "colab": {
          "base_uri": "https://localhost:8080/",
          "height": 425
        },
        "outputId": "4606887f-2847-461e-d586-8c2d44e103f7"
      },
      "source": [
        "from sklearn.preprocessing import PolynomialFeatures\n",
        "poly = PolynomialFeatures(degree=2)\n",
        "poly_train = poly.fit_transform(x_train)\n",
        "poly_train[:2]"
      ],
      "execution_count": 26,
      "outputs": [
        {
          "output_type": "execute_result",
          "data": {
            "text/plain": [
              "array([[1.0000000e+00, 6.0000000e+00, 1.9900000e+02, 9.0000000e+01,\n",
              "        2.6480000e+03, 1.5000000e+01, 7.0000000e+01, 1.0000000e+00,\n",
              "        0.0000000e+00, 3.6000000e+01, 1.1940000e+03, 5.4000000e+02,\n",
              "        1.5888000e+04, 9.0000000e+01, 4.2000000e+02, 6.0000000e+00,\n",
              "        0.0000000e+00, 3.9601000e+04, 1.7910000e+04, 5.2695200e+05,\n",
              "        2.9850000e+03, 1.3930000e+04, 1.9900000e+02, 0.0000000e+00,\n",
              "        8.1000000e+03, 2.3832000e+05, 1.3500000e+03, 6.3000000e+03,\n",
              "        9.0000000e+01, 0.0000000e+00, 7.0119040e+06, 3.9720000e+04,\n",
              "        1.8536000e+05, 2.6480000e+03, 0.0000000e+00, 2.2500000e+02,\n",
              "        1.0500000e+03, 1.5000000e+01, 0.0000000e+00, 4.9000000e+03,\n",
              "        7.0000000e+01, 0.0000000e+00, 1.0000000e+00, 0.0000000e+00,\n",
              "        0.0000000e+00],\n",
              "       [1.0000000e+00, 6.0000000e+00, 2.2500000e+02, 1.0000000e+02,\n",
              "        3.6510000e+03, 1.7700000e+01, 7.6000000e+01, 1.0000000e+00,\n",
              "        0.0000000e+00, 3.6000000e+01, 1.3500000e+03, 6.0000000e+02,\n",
              "        2.1906000e+04, 1.0620000e+02, 4.5600000e+02, 6.0000000e+00,\n",
              "        0.0000000e+00, 5.0625000e+04, 2.2500000e+04, 8.2147500e+05,\n",
              "        3.9825000e+03, 1.7100000e+04, 2.2500000e+02, 0.0000000e+00,\n",
              "        1.0000000e+04, 3.6510000e+05, 1.7700000e+03, 7.6000000e+03,\n",
              "        1.0000000e+02, 0.0000000e+00, 1.3329801e+07, 6.4622700e+04,\n",
              "        2.7747600e+05, 3.6510000e+03, 0.0000000e+00, 3.1329000e+02,\n",
              "        1.3452000e+03, 1.7700000e+01, 0.0000000e+00, 5.7760000e+03,\n",
              "        7.6000000e+01, 0.0000000e+00, 1.0000000e+00, 0.0000000e+00,\n",
              "        0.0000000e+00]])"
            ]
          },
          "metadata": {
            "tags": []
          },
          "execution_count": 26
        }
      ]
    },
    {
      "cell_type": "code",
      "metadata": {
        "id": "1IAQHVYXgB5R",
        "colab_type": "code",
        "colab": {
          "base_uri": "https://localhost:8080/",
          "height": 34
        },
        "outputId": "e4cd7e56-56d1-42bf-d8f3-719c4ea2cf4e"
      },
      "source": [
        "regression.fit(poly_train,y_train)"
      ],
      "execution_count": 27,
      "outputs": [
        {
          "output_type": "execute_result",
          "data": {
            "text/plain": [
              "LinearRegression(copy_X=True, fit_intercept=True, n_jobs=None, normalize=False)"
            ]
          },
          "metadata": {
            "tags": []
          },
          "execution_count": 27
        }
      ]
    },
    {
      "cell_type": "code",
      "metadata": {
        "id": "TjINSFY0hB4u",
        "colab_type": "code",
        "colab": {
          "base_uri": "https://localhost:8080/",
          "height": 34
        },
        "outputId": "ce0c2aed-70f5-492b-bf3a-9e4de9664f33"
      },
      "source": [
        "regression.score(poly_train,y_train)"
      ],
      "execution_count": 28,
      "outputs": [
        {
          "output_type": "execute_result",
          "data": {
            "text/plain": [
              "1.0"
            ]
          },
          "metadata": {
            "tags": []
          },
          "execution_count": 28
        }
      ]
    },
    {
      "cell_type": "code",
      "metadata": {
        "id": "xtiie0FzhGD-",
        "colab_type": "code",
        "colab": {
          "base_uri": "https://localhost:8080/",
          "height": 731
        },
        "outputId": "af7037eb-7e60-4cf6-e865-28d793f5e65b"
      },
      "source": [
        "poly = PolynomialFeatures(degree=3)\n",
        "poly_train_ = poly.fit_transform(x_train)\n",
        "poly_train_[2]"
      ],
      "execution_count": 30,
      "outputs": [
        {
          "output_type": "execute_result",
          "data": {
            "text/plain": [
              "array([1.00000000e+00, 6.00000000e+00, 2.58000000e+02, 1.10000000e+02,\n",
              "       3.63200000e+03, 1.80000000e+01, 7.40000000e+01, 1.00000000e+00,\n",
              "       0.00000000e+00, 3.60000000e+01, 1.54800000e+03, 6.60000000e+02,\n",
              "       2.17920000e+04, 1.08000000e+02, 4.44000000e+02, 6.00000000e+00,\n",
              "       0.00000000e+00, 6.65640000e+04, 2.83800000e+04, 9.37056000e+05,\n",
              "       4.64400000e+03, 1.90920000e+04, 2.58000000e+02, 0.00000000e+00,\n",
              "       1.21000000e+04, 3.99520000e+05, 1.98000000e+03, 8.14000000e+03,\n",
              "       1.10000000e+02, 0.00000000e+00, 1.31914240e+07, 6.53760000e+04,\n",
              "       2.68768000e+05, 3.63200000e+03, 0.00000000e+00, 3.24000000e+02,\n",
              "       1.33200000e+03, 1.80000000e+01, 0.00000000e+00, 5.47600000e+03,\n",
              "       7.40000000e+01, 0.00000000e+00, 1.00000000e+00, 0.00000000e+00,\n",
              "       0.00000000e+00, 2.16000000e+02, 9.28800000e+03, 3.96000000e+03,\n",
              "       1.30752000e+05, 6.48000000e+02, 2.66400000e+03, 3.60000000e+01,\n",
              "       0.00000000e+00, 3.99384000e+05, 1.70280000e+05, 5.62233600e+06,\n",
              "       2.78640000e+04, 1.14552000e+05, 1.54800000e+03, 0.00000000e+00,\n",
              "       7.26000000e+04, 2.39712000e+06, 1.18800000e+04, 4.88400000e+04,\n",
              "       6.60000000e+02, 0.00000000e+00, 7.91485440e+07, 3.92256000e+05,\n",
              "       1.61260800e+06, 2.17920000e+04, 0.00000000e+00, 1.94400000e+03,\n",
              "       7.99200000e+03, 1.08000000e+02, 0.00000000e+00, 3.28560000e+04,\n",
              "       4.44000000e+02, 0.00000000e+00, 6.00000000e+00, 0.00000000e+00,\n",
              "       0.00000000e+00, 1.71735120e+07, 7.32204000e+06, 2.41760448e+08,\n",
              "       1.19815200e+06, 4.92573600e+06, 6.65640000e+04, 0.00000000e+00,\n",
              "       3.12180000e+06, 1.03076160e+08, 5.10840000e+05, 2.10012000e+06,\n",
              "       2.83800000e+04, 0.00000000e+00, 3.40338739e+09, 1.68670080e+07,\n",
              "       6.93421440e+07, 9.37056000e+05, 0.00000000e+00, 8.35920000e+04,\n",
              "       3.43656000e+05, 4.64400000e+03, 0.00000000e+00, 1.41280800e+06,\n",
              "       1.90920000e+04, 0.00000000e+00, 2.58000000e+02, 0.00000000e+00,\n",
              "       0.00000000e+00, 1.33100000e+06, 4.39472000e+07, 2.17800000e+05,\n",
              "       8.95400000e+05, 1.21000000e+04, 0.00000000e+00, 1.45105664e+09,\n",
              "       7.19136000e+06, 2.95644800e+07, 3.99520000e+05, 0.00000000e+00,\n",
              "       3.56400000e+04, 1.46520000e+05, 1.98000000e+03, 0.00000000e+00,\n",
              "       6.02360000e+05, 8.14000000e+03, 0.00000000e+00, 1.10000000e+02,\n",
              "       0.00000000e+00, 0.00000000e+00, 4.79112520e+10, 2.37445632e+08,\n",
              "       9.76165376e+08, 1.31914240e+07, 0.00000000e+00, 1.17676800e+06,\n",
              "       4.83782400e+06, 6.53760000e+04, 0.00000000e+00, 1.98888320e+07,\n",
              "       2.68768000e+05, 0.00000000e+00, 3.63200000e+03, 0.00000000e+00,\n",
              "       0.00000000e+00, 5.83200000e+03, 2.39760000e+04, 3.24000000e+02,\n",
              "       0.00000000e+00, 9.85680000e+04, 1.33200000e+03, 0.00000000e+00,\n",
              "       1.80000000e+01, 0.00000000e+00, 0.00000000e+00, 4.05224000e+05,\n",
              "       5.47600000e+03, 0.00000000e+00, 7.40000000e+01, 0.00000000e+00,\n",
              "       0.00000000e+00, 1.00000000e+00, 0.00000000e+00, 0.00000000e+00,\n",
              "       0.00000000e+00])"
            ]
          },
          "metadata": {
            "tags": []
          },
          "execution_count": 30
        }
      ]
    },
    {
      "cell_type": "code",
      "metadata": {
        "id": "_yotsfb-hTsB",
        "colab_type": "code",
        "colab": {
          "base_uri": "https://localhost:8080/",
          "height": 34
        },
        "outputId": "72b6cfe2-35a5-4832-ea0f-8bec26a23e45"
      },
      "source": [
        "regression.fit(poly_train,y_train)\n",
        "regression.score(poly_train,y_train)"
      ],
      "execution_count": 31,
      "outputs": [
        {
          "output_type": "execute_result",
          "data": {
            "text/plain": [
              "1.0"
            ]
          },
          "metadata": {
            "tags": []
          },
          "execution_count": 31
        }
      ]
    },
    {
      "cell_type": "code",
      "metadata": {
        "id": "xF1PnfxVhaCW",
        "colab_type": "code",
        "colab": {
          "base_uri": "https://localhost:8080/",
          "height": 255
        },
        "outputId": "6f3fac66-ce2c-4ee3-b22c-213640c02555"
      },
      "source": [
        "# Features selection\n",
        "!pip install mlxtend"
      ],
      "execution_count": 32,
      "outputs": [
        {
          "output_type": "stream",
          "text": [
            "Requirement already satisfied: mlxtend in /usr/local/lib/python3.6/dist-packages (0.14.0)\n",
            "Requirement already satisfied: scipy>=0.17 in /usr/local/lib/python3.6/dist-packages (from mlxtend) (1.4.1)\n",
            "Requirement already satisfied: pandas>=0.17.1 in /usr/local/lib/python3.6/dist-packages (from mlxtend) (1.0.5)\n",
            "Requirement already satisfied: scikit-learn>=0.18 in /usr/local/lib/python3.6/dist-packages (from mlxtend) (0.22.2.post1)\n",
            "Requirement already satisfied: matplotlib>=1.5.1 in /usr/local/lib/python3.6/dist-packages (from mlxtend) (3.2.2)\n",
            "Requirement already satisfied: numpy>=1.10.4 in /usr/local/lib/python3.6/dist-packages (from mlxtend) (1.18.5)\n",
            "Requirement already satisfied: setuptools in /usr/local/lib/python3.6/dist-packages (from mlxtend) (50.3.0)\n",
            "Requirement already satisfied: pytz>=2017.2 in /usr/local/lib/python3.6/dist-packages (from pandas>=0.17.1->mlxtend) (2018.9)\n",
            "Requirement already satisfied: python-dateutil>=2.6.1 in /usr/local/lib/python3.6/dist-packages (from pandas>=0.17.1->mlxtend) (2.8.1)\n",
            "Requirement already satisfied: joblib>=0.11 in /usr/local/lib/python3.6/dist-packages (from scikit-learn>=0.18->mlxtend) (0.16.0)\n",
            "Requirement already satisfied: pyparsing!=2.0.4,!=2.1.2,!=2.1.6,>=2.0.1 in /usr/local/lib/python3.6/dist-packages (from matplotlib>=1.5.1->mlxtend) (2.4.7)\n",
            "Requirement already satisfied: cycler>=0.10 in /usr/local/lib/python3.6/dist-packages (from matplotlib>=1.5.1->mlxtend) (0.10.0)\n",
            "Requirement already satisfied: kiwisolver>=1.0.1 in /usr/local/lib/python3.6/dist-packages (from matplotlib>=1.5.1->mlxtend) (1.2.0)\n",
            "Requirement already satisfied: six>=1.5 in /usr/local/lib/python3.6/dist-packages (from python-dateutil>=2.6.1->pandas>=0.17.1->mlxtend) (1.15.0)\n"
          ],
          "name": "stdout"
        }
      ]
    },
    {
      "cell_type": "code",
      "metadata": {
        "id": "yxbhkf0Ih45m",
        "colab_type": "code",
        "colab": {}
      },
      "source": [
        "from mlxtend.feature_selection import SequentialFeatureSelector"
      ],
      "execution_count": 34,
      "outputs": []
    },
    {
      "cell_type": "code",
      "metadata": {
        "id": "WJwPMwpRiE2H",
        "colab_type": "code",
        "colab": {}
      },
      "source": [
        "lr = LinearRegression()\n",
        "\n",
        "# Build step forward feature selection\n",
        "sfs1 = SequentialFeatureSelector(lr,k_features=5,forward=True)\n",
        "sfs1 = sfs1.fit(x_train, y_train)"
      ],
      "execution_count": 35,
      "outputs": []
    },
    {
      "cell_type": "code",
      "metadata": {
        "id": "mlSc0sN0jzM2",
        "colab_type": "code",
        "colab": {
          "base_uri": "https://localhost:8080/",
          "height": 357
        },
        "outputId": "e9e5b191-210a-49ad-cd68-caaf990c68ef"
      },
      "source": [
        "sfs1.subsets_"
      ],
      "execution_count": 36,
      "outputs": [
        {
          "output_type": "execute_result",
          "data": {
            "text/plain": [
              "{1: {'avg_score': 1.0,\n",
              "  'cv_scores': array([1., 1., 1., 1., 1.]),\n",
              "  'feature_idx': (0,),\n",
              "  'feature_names': ('cyl',)},\n",
              " 2: {'avg_score': 1.0,\n",
              "  'cv_scores': array([1., 1., 1., 1., 1.]),\n",
              "  'feature_idx': (0, 1),\n",
              "  'feature_names': ('cyl', 'disp')},\n",
              " 3: {'avg_score': 1.0,\n",
              "  'cv_scores': array([1., 1., 1., 1., 1.]),\n",
              "  'feature_idx': (0, 1, 2),\n",
              "  'feature_names': ('cyl', 'disp', 'hp')},\n",
              " 4: {'avg_score': 1.0,\n",
              "  'cv_scores': array([1., 1., 1., 1., 1.]),\n",
              "  'feature_idx': (0, 1, 2, 3),\n",
              "  'feature_names': ('cyl', 'disp', 'hp', 'wt')},\n",
              " 5: {'avg_score': 1.0,\n",
              "  'cv_scores': array([1., 1., 1., 1., 1.]),\n",
              "  'feature_idx': (0, 1, 2, 3, 4),\n",
              "  'feature_names': ('cyl', 'disp', 'hp', 'wt', 'acc')}}"
            ]
          },
          "metadata": {
            "tags": []
          },
          "execution_count": 36
        }
      ]
    },
    {
      "cell_type": "code",
      "metadata": {
        "id": "hEHbsYvqj5wP",
        "colab_type": "code",
        "colab": {
          "base_uri": "https://localhost:8080/",
          "height": 34
        },
        "outputId": "fd411eff-5d6a-476b-e828-5fa9d4186c09"
      },
      "source": [
        "# 5 best features\n",
        "sfs1.k_feature_idx_"
      ],
      "execution_count": 38,
      "outputs": [
        {
          "output_type": "execute_result",
          "data": {
            "text/plain": [
              "(0, 1, 2, 3, 4)"
            ]
          },
          "metadata": {
            "tags": []
          },
          "execution_count": 38
        }
      ]
    },
    {
      "cell_type": "code",
      "metadata": {
        "id": "KudZ2e9hkFa6",
        "colab_type": "code",
        "colab": {
          "base_uri": "https://localhost:8080/",
          "height": 34
        },
        "outputId": "b3eb58d1-25c5-4306-dd33-a2753a564295"
      },
      "source": [
        "#  3 best features names\n",
        "sfs1.k_feature_names_"
      ],
      "execution_count": 39,
      "outputs": [
        {
          "output_type": "execute_result",
          "data": {
            "text/plain": [
              "('cyl', 'disp', 'hp', 'wt', 'acc')"
            ]
          },
          "metadata": {
            "tags": []
          },
          "execution_count": 39
        }
      ]
    },
    {
      "cell_type": "code",
      "metadata": {
        "id": "TgQC-GVKkNoK",
        "colab_type": "code",
        "colab": {
          "base_uri": "https://localhost:8080/",
          "height": 295
        },
        "outputId": "6e0f236c-382f-4640-8606-a5cb634c9237"
      },
      "source": [
        "from mlxtend.plotting import plot_sequential_feature_selection as plot_sfs\n",
        "import matplotlib.pyplot as plt\n",
        "\n",
        "fig1 = plot_sfs(sfs1.get_metric_dict(), kind='std_dev')\n",
        "\n",
        "plt.ylim([0.8, 1])\n",
        "plt.title('Sequential Forward Selection (w. StdDev)')\n",
        "plt.grid()\n",
        "plt.show()"
      ],
      "execution_count": 40,
      "outputs": [
        {
          "output_type": "display_data",
          "data": {
            "image/png": "[encoded data removed]",
            "text/plain": [
              "<Figure size 432x288 with 1 Axes>"
            ]
          },
          "metadata": {
            "tags": [],
            "needs_background": "light"
          }
        }
      ]
    },
    {
      "cell_type": "code",
      "metadata": {
        "id": "Q3beBBrKkwcW",
        "colab_type": "code",
        "colab": {
          "base_uri": "https://localhost:8080/",
          "height": 34
        },
        "outputId": "229c56c7-0161-4471-9155-d7760a7405bf"
      },
      "source": [
        "# Build full model with selected features\n",
        "linR = LinearRegression()\n",
        "linR.fit(x_train.iloc[:,list(sfs1.k_feature_idx_)], y_train)"
      ],
      "execution_count": 45,
      "outputs": [
        {
          "output_type": "execute_result",
          "data": {
            "text/plain": [
              "LinearRegression(copy_X=True, fit_intercept=True, n_jobs=None, normalize=False)"
            ]
          },
          "metadata": {
            "tags": []
          },
          "execution_count": 45
        }
      ]
    },
    {
      "cell_type": "code",
      "metadata": {
        "id": "TymDZ_pRuJif",
        "colab_type": "code",
        "colab": {
          "base_uri": "https://localhost:8080/",
          "height": 34
        },
        "outputId": "2d2ea9d6-410a-48f2-8d0a-e0dc9eac029d"
      },
      "source": [
        "linR.score(x_train.iloc[:,list(sfs1.k_feature_idx_)], y_train)"
      ],
      "execution_count": 46,
      "outputs": [
        {
          "output_type": "execute_result",
          "data": {
            "text/plain": [
              "1.0"
            ]
          },
          "metadata": {
            "tags": []
          },
          "execution_count": 46
        }
      ]
    },
    {
      "cell_type": "code",
      "metadata": {
        "id": "edyAsNQKuN_n",
        "colab_type": "code",
        "colab": {
          "base_uri": "https://localhost:8080/",
          "height": 34
        },
        "outputId": "72b6a148-c96a-43e3-bf7c-929cce9be385"
      },
      "source": [
        "linR.score(x_test.iloc[:,list(sfs1.k_feature_idx_)], y_test)"
      ],
      "execution_count": 47,
      "outputs": [
        {
          "output_type": "execute_result",
          "data": {
            "text/plain": [
              "1.0"
            ]
          },
          "metadata": {
            "tags": []
          },
          "execution_count": 47
        }
      ]
    },
    {
      "cell_type": "code",
      "metadata": {
        "id": "8IqwRWeFusCh",
        "colab_type": "code",
        "colab": {}
      },
      "source": [
        ""
      ],
      "execution_count": null,
      "outputs": []
    }
  ]
}