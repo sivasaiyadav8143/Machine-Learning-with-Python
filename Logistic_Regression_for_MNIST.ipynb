{
  "nbformat": 4,
  "nbformat_minor": 0,
  "metadata": {
    "kernelspec": {
      "display_name": "Python 3",
      "language": "python",
      "name": "python3"
    },
    "language_info": {
      "codemirror_mode": {
        "name": "ipython",
        "version": 3
      },
      "file_extension": ".py",
      "mimetype": "text/x-python",
      "name": "python",
      "nbconvert_exporter": "python",
      "pygments_lexer": "ipython3",
      "version": "3.7.4"
    },
    "colab": {
      "name": "Logistic Regression for MNIST.ipynb",
      "provenance": [],
      "include_colab_link": true
    }
  },
  "cells": [
    {
      "cell_type": "markdown",
      "metadata": {
        "id": "view-in-github",
        "colab_type": "text"
      },
      "source": [
        "<a href=\"https://colab.research.google.com/github/sivasaiyadav8143/Machine-Learning-with-Python/blob/master/Logistic_Regression_for_MNIST.ipynb\" target=\"_parent\"><img src=\"https://colab.research.google.com/assets/colab-badge.svg\" alt=\"Open In Colab\"/></a>"
      ]
    },
    {
      "cell_type": "markdown",
      "metadata": {
        "id": "TV2Qsw0LXo04",
        "colab_type": "text"
      },
      "source": [
        "# Logistic Regression - Multi Class Classifier"
      ]
    },
    {
      "cell_type": "code",
      "metadata": {
        "id": "ZPuAeUS-Xo06",
        "colab_type": "code",
        "colab": {}
      },
      "source": [
        "import struct\n",
        "import numpy as np\n",
        "import gzip\n",
        "import urllib.request\n",
        "import matplotlib.pyplot as plt\n",
        "from array import array\n",
        "from sklearn.linear_model import LogisticRegression"
      ],
      "execution_count": null,
      "outputs": []
    },
    {
      "cell_type": "markdown",
      "metadata": {
        "id": "DjPYZuBcXo1C",
        "colab_type": "text"
      },
      "source": [
        "Load the MNIST data into memory"
      ]
    },
    {
      "cell_type": "code",
      "metadata": {
        "id": "I3pbVypJXo1D",
        "colab_type": "code",
        "colab": {}
      },
      "source": [
        "with gzip.open('../Datasets/train-images-idx3-ubyte.gz', 'rb') as f:\n",
        "    magic, size, rows, cols = struct.unpack(\">IIII\", f.read(16))\n",
        "    img = np.array(array(\"B\", f.read())).reshape((size, rows, cols))\n",
        "\n",
        "with gzip.open('../Datasets/train-labels-idx1-ubyte.gz', 'rb') as f:\n",
        "    magic, size = struct.unpack(\">II\", f.read(8))\n",
        "    labels = np.array(array(\"B\", f.read()))\n",
        "\n",
        "with gzip.open('../Datasets/t10k-images-idx3-ubyte.gz', 'rb') as f:\n",
        "    magic, size, rows, cols = struct.unpack(\">IIII\", f.read(16))\n",
        "    img_test = np.array(array(\"B\", f.read())).reshape((size, rows, cols))\n",
        "\n",
        "with gzip.open('../Datasets/t10k-labels-idx1-ubyte.gz', 'rb') as f:\n",
        "    magic, size = struct.unpack(\">II\", f.read(8))\n",
        "    labels_test = np.array(array(\"B\", f.read()))"
      ],
      "execution_count": null,
      "outputs": []
    },
    {
      "cell_type": "markdown",
      "metadata": {
        "id": "5b_Rd7P5Xo1I",
        "colab_type": "text"
      },
      "source": [
        "Visualise a sample of the data"
      ]
    },
    {
      "cell_type": "code",
      "metadata": {
        "id": "kTqwdATqXo1J",
        "colab_type": "code",
        "colab": {},
        "outputId": "c2a52844-70fe-47c7-f27b-16e54f014808"
      },
      "source": [
        "for i in range(10):\n",
        "    plt.subplot(2, 5, i + 1)\n",
        "    plt.imshow(img[i], cmap='gray');\n",
        "    plt.title(f'{labels[i]}');\n",
        "    plt.axis('off')"
      ],
      "execution_count": null,
      "outputs": [
        {
          "output_type": "display_data",
          "data": {
            "image/png": "[encoded data removed]",
            "text/plain": [
              "<Figure size 432x288 with 10 Axes>"
            ]
          },
          "metadata": {
            "tags": [],
            "needs_background": "light"
          }
        }
      ]
    },
    {
      "cell_type": "markdown",
      "metadata": {
        "id": "AVbu4VxrXo1R",
        "colab_type": "text"
      },
      "source": [
        "## Construct a Logistic Model to Classify Digits 0  - 9\n",
        "\n",
        "In this model as we are predicting classes 0 - 9 we will require images from all available data.  However given the extremely large dataset we will need to sample only a small amount of the original MNIST set due to limited system requirements and anticipated training time.  We will select 2000 samples at random:"
      ]
    },
    {
      "cell_type": "code",
      "metadata": {
        "id": "6xygVc2xXo1T",
        "colab_type": "code",
        "colab": {}
      },
      "source": [
        "np.random.seed(0) # Give consistent random numbers\n",
        "selection = np.random.choice(len(img), 5000)\n",
        "selected_images = img[selection]\n",
        "selected_labels = labels[selection]"
      ],
      "execution_count": null,
      "outputs": []
    },
    {
      "cell_type": "markdown",
      "metadata": {
        "id": "h0BxuQbBXo1b",
        "colab_type": "text"
      },
      "source": [
        "In order to provide the image information to the Logistic model we must first flatten the data out so that each image is 1 x 784 pixels in shape."
      ]
    },
    {
      "cell_type": "code",
      "metadata": {
        "id": "wde3dNoFXo1c",
        "colab_type": "code",
        "colab": {},
        "outputId": "8fa513ba-540a-4bca-9d53-3afae5a9f9ca"
      },
      "source": [
        "selected_images = selected_images.reshape((-1, rows * cols))\n",
        "selected_images.shape"
      ],
      "execution_count": null,
      "outputs": [
        {
          "output_type": "execute_result",
          "data": {
            "text/plain": [
              "(5000, 784)"
            ]
          },
          "metadata": {
            "tags": []
          },
          "execution_count": 5
        }
      ]
    },
    {
      "cell_type": "markdown",
      "metadata": {
        "id": "g2twx0eBXo1h",
        "colab_type": "text"
      },
      "source": [
        "Try applying normalisation by uncommenting the lines the next cell.  **What effect does it have on performance?**"
      ]
    },
    {
      "cell_type": "code",
      "metadata": {
        "id": "yBfwLt9VXo1h",
        "colab_type": "code",
        "colab": {}
      },
      "source": [
        "#selected_images = selected_images / 255.0\n",
        "#img_test = img_test / 255.0"
      ],
      "execution_count": null,
      "outputs": []
    },
    {
      "cell_type": "markdown",
      "metadata": {
        "id": "7lQCHE98Xo1m",
        "colab_type": "text"
      },
      "source": [
        "Let's construct the model, use the sklearn LogisticRegression API and call the fit function."
      ]
    },
    {
      "cell_type": "code",
      "metadata": {
        "scrolled": true,
        "id": "RF3C7-M-Xo1n",
        "colab_type": "code",
        "colab": {},
        "outputId": "b551fac9-28d0-4771-a0ef-7e35de6648c7"
      },
      "source": [
        "model = LogisticRegression(solver='lbfgs', multi_class='multinomial', max_iter=500, tol=0.1)\n",
        "model.fit(X=selected_images, y=selected_labels)"
      ],
      "execution_count": null,
      "outputs": [
        {
          "output_type": "execute_result",
          "data": {
            "text/plain": [
              "LogisticRegression(C=1.0, class_weight=None, dual=False, fit_intercept=True,\n",
              "                   intercept_scaling=1, l1_ratio=None, max_iter=500,\n",
              "                   multi_class='multinomial', n_jobs=None, penalty='l2',\n",
              "                   random_state=None, solver='lbfgs', tol=0.1, verbose=0,\n",
              "                   warm_start=False)"
            ]
          },
          "metadata": {
            "tags": []
          },
          "execution_count": 7
        }
      ]
    },
    {
      "cell_type": "markdown",
      "metadata": {
        "id": "bPkZLiPAXo1r",
        "colab_type": "text"
      },
      "source": [
        "Determine the score against the training set"
      ]
    },
    {
      "cell_type": "code",
      "metadata": {
        "id": "Zy8TXRS4Xo1s",
        "colab_type": "code",
        "colab": {},
        "outputId": "76a872ef-c906-4dce-fe78-93a785cbfced"
      },
      "source": [
        "model.score(X=selected_images, y=selected_labels)"
      ],
      "execution_count": null,
      "outputs": [
        {
          "output_type": "execute_result",
          "data": {
            "text/plain": [
              "1.0"
            ]
          },
          "metadata": {
            "tags": []
          },
          "execution_count": 8
        }
      ]
    },
    {
      "cell_type": "markdown",
      "metadata": {
        "id": "acQAj4MPXo1w",
        "colab_type": "text"
      },
      "source": [
        "Display the first two predictions for the Logistic model against the training data"
      ]
    },
    {
      "cell_type": "code",
      "metadata": {
        "id": "e8hPW8_-Xo1y",
        "colab_type": "code",
        "colab": {},
        "outputId": "b368259c-1b30-4927-d635-ba1cc6203383"
      },
      "source": [
        "model.predict(selected_images)[:2]"
      ],
      "execution_count": null,
      "outputs": [
        {
          "output_type": "execute_result",
          "data": {
            "text/plain": [
              "array([4, 1], dtype=uint8)"
            ]
          },
          "metadata": {
            "tags": []
          },
          "execution_count": 9
        }
      ]
    },
    {
      "cell_type": "code",
      "metadata": {
        "id": "YnPGfM0WXo12",
        "colab_type": "code",
        "colab": {},
        "outputId": "4f5404fd-d2f0-4534-f1d3-a4626f64c053"
      },
      "source": [
        "plt.subplot(1, 2, 1)\n",
        "plt.imshow(selected_images[0].reshape((28, 28)), cmap='gray');\n",
        "plt.axis('off');\n",
        "plt.subplot(1, 2, 2)\n",
        "plt.imshow(selected_images[1].reshape((28, 28)), cmap='gray');\n",
        "plt.axis('off');"
      ],
      "execution_count": null,
      "outputs": [
        {
          "output_type": "display_data",
          "data": {
            "image/png": "[encoded data removed]",
            "text/plain": [
              "<Figure size 432x288 with 2 Axes>"
            ]
          },
          "metadata": {
            "tags": [],
            "needs_background": "light"
          }
        }
      ]
    },
    {
      "cell_type": "markdown",
      "metadata": {
        "id": "5szf3BS3Xo17",
        "colab_type": "text"
      },
      "source": [
        "Examine the corresponding predicted probabilities for the first two training samples"
      ]
    },
    {
      "cell_type": "code",
      "metadata": {
        "id": "w1LlGtR5Xo1-",
        "colab_type": "code",
        "colab": {},
        "outputId": "5371f3fa-3542-4d07-f193-74df081708b4"
      },
      "source": [
        "model.predict_proba(selected_images)[0]"
      ],
      "execution_count": null,
      "outputs": [
        {
          "output_type": "execute_result",
          "data": {
            "text/plain": [
              "array([2.53877306e-43, 1.05847372e-86, 5.44376165e-35, 3.02366979e-69,\n",
              "       1.00000000e+00, 3.61108748e-54, 3.61751648e-37, 1.69034999e-50,\n",
              "       4.64785509e-32, 1.30058462e-38])"
            ]
          },
          "metadata": {
            "tags": []
          },
          "execution_count": 11
        }
      ]
    },
    {
      "cell_type": "markdown",
      "metadata": {
        "id": "bqQFMyB8Xo2C",
        "colab_type": "text"
      },
      "source": [
        "Compare the performance against the test set"
      ]
    },
    {
      "cell_type": "code",
      "metadata": {
        "id": "RNOO6IETXo2D",
        "colab_type": "code",
        "colab": {},
        "outputId": "9ba4928c-ebf4-4b1d-e778-e890bca1937d"
      },
      "source": [
        "model.score(X=img_test.reshape((-1, rows * cols)), y=labels_test)"
      ],
      "execution_count": null,
      "outputs": [
        {
          "output_type": "execute_result",
          "data": {
            "text/plain": [
              "0.8779"
            ]
          },
          "metadata": {
            "tags": []
          },
          "execution_count": 12
        }
      ]
    }
  ]
}