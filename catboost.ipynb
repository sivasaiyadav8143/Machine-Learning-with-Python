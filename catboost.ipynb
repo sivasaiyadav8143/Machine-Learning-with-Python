{
  "nbformat": 4,
  "nbformat_minor": 0,
  "metadata": {
    "kernelspec": {
      "display_name": "Python 3",
      "language": "python",
      "name": "python3"
    },
    "language_info": {
      "codemirror_mode": {
        "name": "ipython",
        "version": 3
      },
      "file_extension": ".py",
      "mimetype": "text/x-python",
      "name": "python",
      "nbconvert_exporter": "python",
      "pygments_lexer": "ipython3",
      "version": "3.6.10"
    },
    "toc": {
      "base_numbering": 1,
      "nav_menu": {},
      "number_sections": true,
      "sideBar": true,
      "skip_h1_title": false,
      "title_cell": "Table of Contents",
      "title_sidebar": "Contents",
      "toc_cell": false,
      "toc_position": {},
      "toc_section_display": true,
      "toc_window_display": false
    },
    "colab": {
      "name": "catboost.ipynb",
      "provenance": [],
      "include_colab_link": true
    }
  },
  "cells": [
    {
      "cell_type": "markdown",
      "metadata": {
        "id": "view-in-github",
        "colab_type": "text"
      },
      "source": [
        "<a href=\"https://colab.research.google.com/github/sivasaiyadav8143/Machine-Learning-with-Python/blob/master/catboost.ipynb\" target=\"_parent\"><img src=\"https://colab.research.google.com/assets/colab-badge.svg\" alt=\"Open In Colab\"/></a>"
      ]
    },
    {
      "cell_type": "code",
      "metadata": {
        "id": "uLSL8k2PLJkJ",
        "colab_type": "code",
        "colab": {}
      },
      "source": [
        "# importing required libraries\n",
        "import pandas as pd\n",
        "import numpy as np\n",
        "from catboost import CatBoostClassifier\n",
        "from sklearn.metrics import accuracy_score"
      ],
      "execution_count": null,
      "outputs": []
    },
    {
      "cell_type": "code",
      "metadata": {
        "id": "5yyPDhhFLJkQ",
        "colab_type": "code",
        "colab": {}
      },
      "source": [
        "%cd C:\\Users\\sivas\\Desktop\\ML\\DataSets\\Catboost DataSet"
      ],
      "execution_count": null,
      "outputs": []
    },
    {
      "cell_type": "code",
      "metadata": {
        "id": "alGy88a8LJkV",
        "colab_type": "code",
        "colab": {}
      },
      "source": [
        "# read the train and test dataset\n",
        "train_data = pd.read_csv('titanic-train.csv')\n",
        "test_data = pd.read_csv('titanic-test.csv')"
      ],
      "execution_count": null,
      "outputs": []
    },
    {
      "cell_type": "code",
      "metadata": {
        "id": "z0b6rTUrLJka",
        "colab_type": "code",
        "colab": {},
        "outputId": "9319a402-2dd4-46ea-f656-6346d607a89a"
      },
      "source": [
        "# shape of the dataset\n",
        "print('Shape of training data :',train_data.shape)\n",
        "print('Shape of testing data :',test_data.shape)"
      ],
      "execution_count": null,
      "outputs": [
        {
          "output_type": "stream",
          "text": [
            "Shape of training data : (1176, 35)\n",
            "Shape of testing data : (294, 35)\n"
          ],
          "name": "stdout"
        }
      ]
    },
    {
      "cell_type": "code",
      "metadata": {
        "id": "9NrIVFY0LJke",
        "colab_type": "code",
        "colab": {},
        "outputId": "83cb995c-1749-44d1-d06a-0790a3503c3b"
      },
      "source": [
        "# Now, we have used a dataset which has more categorical variables\n",
        "# hr-employee attrition data where target variable is Attrition \n",
        "\n",
        "# seperate the independent and target variable on training data\n",
        "train_x = train_data.drop(columns=['Attrition'],axis=1)\n",
        "train_y = train_data['Attrition']\n",
        "\n",
        "# seperate the independent and target variable on testing data\n",
        "test_x = test_data.drop(columns=['Attrition'],axis=1)\n",
        "test_y = test_data['Attrition']\n",
        "\n",
        "# find out the indices of categorical variables\n",
        "categorical_var = np.where(train_x.dtypes != np.float)[0]\n",
        "print('\\nCategorical Variables indices : ',categorical_var)\n",
        "\n",
        "print('\\n Training CatBoost Model..........')\n",
        "'''\n",
        "https://catboost.ai/docs/concepts/python-reference_catboostclassifier.html\n",
        "'''\n",
        "model = CatBoostClassifier(iterations=50)\n",
        "\n",
        "# fit the model with the training data\n",
        "model.fit(train_x,train_y,cat_features = categorical_var,plot=False)\n",
        "print('\\n Model Trainied')\n",
        "\n",
        "# predict the target on the train dataset\n",
        "predict_train = model.predict(train_x)\n",
        "# print('\\nTarget on train data',predict_train) \n",
        "\n",
        "# Accuray Score on train dataset\n",
        "accuracy_train = accuracy_score(train_y,predict_train)\n",
        "print('\\naccuracy_score on train dataset : ', accuracy_train)\n",
        "\n",
        "# predict the target on the test dataset\n",
        "predict_test = model.predict(test_x)\n",
        "# print('\\nTarget on test data',predict_test) \n",
        "\n",
        "# Accuracy Score on test dataset\n",
        "accuracy_test = accuracy_score(test_y,predict_test)\n",
        "print('\\naccuracy_score on test dataset : ', accuracy_test)"
      ],
      "execution_count": null,
      "outputs": [
        {
          "output_type": "stream",
          "text": [
            "\n",
            "Categorical Variables indices :  [ 0  1  2  3  4  5  6  7  8  9 10 11 12 13 14 15 16 17 18 19 20 21 22 23\n",
            " 24 25 26 27 28 29 30 31 32 33]\n",
            "\n",
            " Training CatBoost Model..........\n",
            "Learning rate set to 0.253085\n",
            "0:\tlearn: 0.5677110\ttotal: 16.5ms\tremaining: 811ms\n",
            "1:\tlearn: 0.5005824\ttotal: 33.5ms\tremaining: 803ms\n",
            "2:\tlearn: 0.4671945\ttotal: 36.2ms\tremaining: 568ms\n",
            "3:\tlearn: 0.4273232\ttotal: 42.5ms\tremaining: 488ms\n",
            "4:\tlearn: 0.3946987\ttotal: 55ms\tremaining: 495ms\n",
            "5:\tlearn: 0.3805231\ttotal: 69.2ms\tremaining: 507ms\n",
            "6:\tlearn: 0.3608027\ttotal: 77.8ms\tremaining: 478ms\n",
            "7:\tlearn: 0.3467937\ttotal: 86.9ms\tremaining: 456ms\n",
            "8:\tlearn: 0.3347608\ttotal: 94.4ms\tremaining: 430ms\n",
            "9:\tlearn: 0.3221621\ttotal: 102ms\tremaining: 408ms\n",
            "10:\tlearn: 0.3179436\ttotal: 110ms\tremaining: 389ms\n",
            "11:\tlearn: 0.3118526\ttotal: 117ms\tremaining: 371ms\n",
            "12:\tlearn: 0.3097610\ttotal: 122ms\tremaining: 346ms\n",
            "13:\tlearn: 0.3016064\ttotal: 129ms\tremaining: 333ms\n",
            "14:\tlearn: 0.2952003\ttotal: 139ms\tremaining: 324ms\n",
            "15:\tlearn: 0.2860811\ttotal: 149ms\tremaining: 316ms\n",
            "16:\tlearn: 0.2784396\ttotal: 158ms\tremaining: 306ms\n",
            "17:\tlearn: 0.2716836\ttotal: 166ms\tremaining: 295ms\n",
            "18:\tlearn: 0.2629387\ttotal: 178ms\tremaining: 290ms\n",
            "19:\tlearn: 0.2580955\ttotal: 189ms\tremaining: 284ms\n",
            "20:\tlearn: 0.2544792\ttotal: 198ms\tremaining: 273ms\n",
            "21:\tlearn: 0.2503769\ttotal: 207ms\tremaining: 263ms\n",
            "22:\tlearn: 0.2458732\ttotal: 215ms\tremaining: 252ms\n",
            "23:\tlearn: 0.2429281\ttotal: 224ms\tremaining: 243ms\n",
            "24:\tlearn: 0.2365592\ttotal: 232ms\tremaining: 232ms\n",
            "25:\tlearn: 0.2313698\ttotal: 241ms\tremaining: 222ms\n",
            "26:\tlearn: 0.2262636\ttotal: 250ms\tremaining: 213ms\n",
            "27:\tlearn: 0.2211281\ttotal: 259ms\tremaining: 204ms\n",
            "28:\tlearn: 0.2132055\ttotal: 268ms\tremaining: 194ms\n",
            "29:\tlearn: 0.2068831\ttotal: 278ms\tremaining: 185ms\n",
            "30:\tlearn: 0.2012870\ttotal: 287ms\tremaining: 176ms\n",
            "31:\tlearn: 0.1955252\ttotal: 296ms\tremaining: 166ms\n",
            "32:\tlearn: 0.1927248\ttotal: 304ms\tremaining: 157ms\n",
            "33:\tlearn: 0.1896429\ttotal: 313ms\tremaining: 147ms\n",
            "34:\tlearn: 0.1863443\ttotal: 322ms\tremaining: 138ms\n",
            "35:\tlearn: 0.1830389\ttotal: 331ms\tremaining: 129ms\n",
            "36:\tlearn: 0.1826214\ttotal: 341ms\tremaining: 120ms\n",
            "37:\tlearn: 0.1784982\ttotal: 352ms\tremaining: 111ms\n",
            "38:\tlearn: 0.1746177\ttotal: 364ms\tremaining: 103ms\n",
            "39:\tlearn: 0.1723343\ttotal: 373ms\tremaining: 93.3ms\n",
            "40:\tlearn: 0.1668886\ttotal: 382ms\tremaining: 83.9ms\n",
            "41:\tlearn: 0.1647653\ttotal: 392ms\tremaining: 74.6ms\n",
            "42:\tlearn: 0.1579819\ttotal: 400ms\tremaining: 65.1ms\n",
            "43:\tlearn: 0.1546033\ttotal: 411ms\tremaining: 56ms\n",
            "44:\tlearn: 0.1513046\ttotal: 420ms\tremaining: 46.6ms\n",
            "45:\tlearn: 0.1464005\ttotal: 428ms\tremaining: 37.2ms\n",
            "46:\tlearn: 0.1432031\ttotal: 437ms\tremaining: 27.9ms\n",
            "47:\tlearn: 0.1421097\ttotal: 446ms\tremaining: 18.6ms\n",
            "48:\tlearn: 0.1387856\ttotal: 455ms\tremaining: 9.29ms\n",
            "49:\tlearn: 0.1329986\ttotal: 466ms\tremaining: 0us\n",
            "\n",
            " Model Trainied\n",
            "\n",
            "accuracy_score on train dataset :  0.9294217687074829\n",
            "\n",
            "accuracy_score on test dataset :  0.8639455782312925\n"
          ],
          "name": "stdout"
        }
      ]
    },
    {
      "cell_type": "code",
      "metadata": {
        "id": "IGZo6n-vLJkk",
        "colab_type": "code",
        "colab": {}
      },
      "source": [
        ""
      ],
      "execution_count": null,
      "outputs": []
    },
    {
      "cell_type": "markdown",
      "metadata": {
        "id": "BP3nYtcGLJkI",
        "colab_type": "text"
      },
      "source": [
        "[For more click here](https://www.analyticsvidhya.com/blog/2017/08/catboost-automated-categorical-data/?utm_source=blog#)"
      ]
    },
    {
      "cell_type": "code",
      "metadata": {
        "id": "mMJPyC_-LQnW",
        "colab_type": "code",
        "colab": {}
      },
      "source": [
        ""
      ],
      "execution_count": null,
      "outputs": []
    }
  ]
}