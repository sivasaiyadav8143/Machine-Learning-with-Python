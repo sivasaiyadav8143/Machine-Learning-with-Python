{
  "nbformat": 4,
  "nbformat_minor": 0,
  "metadata": {
    "kernelspec": {
      "display_name": "Python 3",
      "language": "python",
      "name": "python3"
    },
    "language_info": {
      "codemirror_mode": {
        "name": "ipython",
        "version": 3
      },
      "file_extension": ".py",
      "mimetype": "text/x-python",
      "name": "python",
      "nbconvert_exporter": "python",
      "pygments_lexer": "ipython3",
      "version": "3.6.3"
    },
    "colab": {
      "name": "Linear Regression from scratch.ipynb",
      "provenance": [],
      "include_colab_link": true
    }
  },
  "cells": [
    {
      "cell_type": "markdown",
      "metadata": {
        "id": "view-in-github",
        "colab_type": "text"
      },
      "source": [
        "<a href=\"https://colab.research.google.com/github/sivasaiyadav8143/Machine-Learning-with-Python/blob/master/Linear_Regression_from_scratch.ipynb\" target=\"_parent\"><img src=\"https://colab.research.google.com/assets/colab-badge.svg\" alt=\"Open In Colab\"/></a>"
      ]
    },
    {
      "cell_type": "code",
      "metadata": {
        "id": "uXqNOhazTvKW"
      },
      "source": [
        "import numpy as np\n",
        "import matplotlib.pyplot as plt\n",
        "\n",
        "def model_linear(x,w): # Model\n",
        "    f = w[1]*x + w[0] # Linear predictor\n",
        "    return f\n",
        "\n",
        "def loss_MSE(f,y):\n",
        "    loss = np.sum(np.square(y-f)) / np.size(f)\n",
        "    return loss\n",
        "\n",
        "def loss_MAE(f,y):\n",
        "    loss = np.sum(np.abs(y-f)) / np.size(f)\n",
        "    return loss"
      ],
      "execution_count": 1,
      "outputs": []
    },
    {
      "cell_type": "code",
      "metadata": {
        "id": "kL_VTLUTTvKh",
        "outputId": "abeb5f10-a84d-4334-b454-9da32b76fb16",
        "colab": {
          "base_uri": "https://localhost:8080/",
          "height": 296
        }
      },
      "source": [
        "x = np.array([0, 1, 2, 3, 4, 5, 6, 7, 8, 9]) # Inputs\n",
        "w_ideal = np.array([3, -2]) # Actual weights\n",
        "y = w_ideal[1]*x + w_ideal[0] + 0.9*np.random.randn(np.size(x)) # Adding some noise to desired output\n",
        "\n",
        "# TRY THE IDEAL WEIGHTS AND PLOT DATA\n",
        "w = w_ideal # Some estimated weights.\n",
        "f = model_linear(x,w) # Model\n",
        "\n",
        "# Plot data\n",
        "plt.scatter(x, y, c=\"b\", marker='x')\n",
        "plt.plot(x, f, c=\"r\")\n",
        "plt.xlabel(\"x\")\n",
        "plt.ylabel(\"f(x) and y\")"
      ],
      "execution_count": 2,
      "outputs": [
        {
          "output_type": "execute_result",
          "data": {
            "text/plain": [
              "Text(0, 0.5, 'f(x) and y')"
            ]
          },
          "metadata": {
            "tags": []
          },
          "execution_count": 2
        },
        {
          "output_type": "display_data",
          "data": {
            "image/png": "[encoded data removed]",
            "text/plain": [
              "<Figure size 432x288 with 1 Axes>"
            ]
          },
          "metadata": {
            "tags": [],
            "needs_background": "light"
          }
        }
      ]
    },
    {
      "cell_type": "code",
      "metadata": {
        "id": "d1lQThqXTvKp",
        "outputId": "716a9e25-58ab-4bb5-9bc3-6f20ee169154",
        "colab": {
          "base_uri": "https://localhost:8080/",
          "height": 34
        }
      },
      "source": [
        "# CHECK THE LOSS WITH IDEAL WEIGHTS. IT SHOULD BE LOW, IF THE NOISE IS LOW.\n",
        "\n",
        "loss = loss_MSE(f,y)\n",
        "\n",
        "print(loss)"
      ],
      "execution_count": 3,
      "outputs": [
        {
          "output_type": "stream",
          "text": [
            "0.879118920600942\n"
          ],
          "name": "stdout"
        }
      ]
    },
    {
      "cell_type": "code",
      "metadata": {
        "id": "lwv6rZkETvKs",
        "outputId": "ad33772e-bdcd-49b8-c346-debc6b465704",
        "colab": {
          "base_uri": "https://localhost:8080/",
          "height": 34
        }
      },
      "source": [
        "# NOW DEVIATE FROM THE IDEAL WEIGHTS. LOSS SHOULD INCREASE.\n",
        "\n",
        "w = np.array([3.5, -1.9]) # Some estimated weights.\n",
        "f = model_linear(x,w) # Model \n",
        "loss = loss_MSE(f,y)\n",
        "\n",
        "print(loss)\n"
      ],
      "execution_count": 4,
      "outputs": [
        {
          "output_type": "stream",
          "text": [
            "1.9937827136796904\n"
          ],
          "name": "stdout"
        }
      ]
    },
    {
      "cell_type": "code",
      "metadata": {
        "id": "bYixrzyOTvKv",
        "outputId": "4b15430e-c221-4b1f-88fb-b926e2bff885",
        "colab": {
          "base_uri": "https://localhost:8080/",
          "height": 34
        }
      },
      "source": [
        "# TRY VERY DIFFERENT WEIGHTS. LOSS SHOULD BE LARGE.\n",
        "w = np.array([32, 2.1]) # Some estimated weights.\n",
        "f = model_linear(x,w) # Model \n",
        "loss = loss_MSE(f,y)\n",
        "\n",
        "print(loss)"
      ],
      "execution_count": 5,
      "outputs": [
        {
          "output_type": "stream",
          "text": [
            "2398.2724333040687\n"
          ],
          "name": "stdout"
        }
      ]
    },
    {
      "cell_type": "code",
      "metadata": {
        "id": "017Qpas_TvKy",
        "outputId": "d6c68c49-834a-4d9b-af60-c35a86f9d57c",
        "colab": {
          "base_uri": "https://localhost:8080/",
          "height": 34
        }
      },
      "source": [
        "# ADD AN OUTLIER AND CHECK MSE LOSS WITH IDEAL WEIGHTS. \n",
        "x = np.append(x,[10])\n",
        "y = np.append(y,[108])\n",
        "\n",
        "w = w_ideal # Some estimated weights.\n",
        "f = model_linear(x,w) # Model\n",
        "\n",
        "loss = loss_MSE(f,y)\n",
        "\n",
        "print(loss)"
      ],
      "execution_count": 6,
      "outputs": [
        {
          "output_type": "stream",
          "text": [
            "1421.2537444732736\n"
          ],
          "name": "stdout"
        }
      ]
    },
    {
      "cell_type": "code",
      "metadata": {
        "id": "ERX4O1fETvK2",
        "outputId": "0e06ac49-7a64-41eb-90c7-18d53f4ae744",
        "colab": {
          "base_uri": "https://localhost:8080/",
          "height": 34
        }
      },
      "source": [
        "# TRY MAE LOSS, WHICH SHOULD BE MUCH SMALLER\n",
        "loss = loss_MAE(f,y)\n",
        "\n",
        "print(loss)"
      ],
      "execution_count": 7,
      "outputs": [
        {
          "output_type": "stream",
          "text": [
            "12.06336571183461\n"
          ],
          "name": "stdout"
        }
      ]
    },
    {
      "cell_type": "code",
      "metadata": {
        "id": "CkxPoV_0TvK7",
        "outputId": "48cbfd6d-1ff4-4255-96cf-83a009449152",
        "colab": {
          "base_uri": "https://localhost:8080/",
          "height": 279
        }
      },
      "source": [
        "# Perform Gradient Descent on MSE loss\n",
        "\n",
        "# DEFINE GRADIENT\n",
        "\n",
        "def grad2(w, x, y):\n",
        "    x1 = np.vstack((x, np.ones_like(x)))\n",
        "    f = w.dot(x1).flatten()\n",
        "    error = (y.flatten() - f)\n",
        "    gradient = -(1.0/len(x)) * x1.dot(error)\n",
        "    return gradient, f\n",
        "\n",
        "\n",
        "# GRADIENT DESCENT\n",
        "\n",
        "w = np.array([10, 2.1]) # Some estimated weights.\n",
        "learning_rate = 0.0005\n",
        "min_abs_change = 1e-5\n",
        "max_iter = 10000\n",
        "\n",
        "iterations = 1\n",
        "while True:\n",
        "    gradient, f = grad2(w, x, y)\n",
        "    w_new = w - learning_rate * gradient\n",
        "    \n",
        "    # Stopping Condition\n",
        "    if np.sum(abs(w_new - w)) < min_abs_change:\n",
        "        break\n",
        "    if iterations > max_iter:\n",
        "        break\n",
        "    \n",
        "    if iterations % (max_iter/10) == 0:\n",
        "        # Plot data\n",
        "        plt.scatter(x, y, c=\"b\", marker='x')\n",
        "        plt.plot(x, f, c=\"r\")\n",
        "        plt.xlabel(\"x\")\n",
        "        plt.ylabel(\"f(x) and y\")\n",
        "    \n",
        "    iterations += 1\n",
        "    w = w_new"
      ],
      "execution_count": 8,
      "outputs": [
        {
          "output_type": "display_data",
          "data": {
            "image/png": "[encoded data removed]",
            "text/plain": [
              "<Figure size 432x288 with 1 Axes>"
            ]
          },
          "metadata": {
            "tags": [],
            "needs_background": "light"
          }
        }
      ]
    },
    {
      "cell_type": "code",
      "metadata": {
        "id": "aKdfG5AhTvK-",
        "outputId": "b4aa5fc5-d484-4521-deae-9f72429c6ae1",
        "colab": {
          "base_uri": "https://localhost:8080/",
          "height": 279
        }
      },
      "source": [
        "# Perform gradient descent on MAE loss\n",
        "\n",
        "def grad1(w, x, y):\n",
        "    x1 = np.vstack((x, np.ones_like(x)))\n",
        "    f = w.dot(x1).flatten()    \n",
        "    error = (y.flatten() - f)\n",
        "    gradient = -(1.0/len(x)) * x.dot(np.sign(error))\n",
        "    return gradient, f\n",
        "\n",
        "\n",
        "# GRADIENT DESCENT\n",
        "\n",
        "w = np.array([10, 2.1]) # Some estimated weights.\n",
        "learning_rate = 0.0005\n",
        "min_abs_change = 1e-5\n",
        "max_iter = 10000\n",
        "\n",
        "iterations = 1\n",
        "while True:\n",
        "    gradient, f = grad1(w, x, y)\n",
        "    w_new = w - learning_rate * gradient\n",
        "    \n",
        "    # Stopping Condition\n",
        "    if np.sum(abs(w_new - w)) < min_abs_change:\n",
        "        break\n",
        "    if iterations > max_iter:\n",
        "        break\n",
        "    \n",
        "    if iterations % (max_iter/10) == 0:\n",
        "        # Plot data\n",
        "        plt.scatter(x, y, c=\"b\", marker='x')\n",
        "        plt.plot(x, f, c=\"r\")\n",
        "        plt.xlabel(\"x\")\n",
        "        plt.ylabel(\"f(x) and y\")\n",
        "    \n",
        "    iterations += 1\n",
        "    w = w_new"
      ],
      "execution_count": 9,
      "outputs": [
        {
          "output_type": "display_data",
          "data": {
            "image/png": "[encoded data removed]",
            "text/plain": [
              "<Figure size 432x288 with 1 Axes>"
            ]
          },
          "metadata": {
            "tags": [],
            "needs_background": "light"
          }
        }
      ]
    },
    {
      "cell_type": "code",
      "metadata": {
        "id": "okvP_Ty6TvLA",
        "outputId": "e1d61b7d-479a-41a2-cb73-9ddaf007c99b",
        "colab": {
          "base_uri": "https://localhost:8080/",
          "height": 279
        }
      },
      "source": [
        "# Perform L2 regularized L2 loss (MSE) gradient descent\n",
        "\n",
        "def grad2L2(w, x, y, l):\n",
        "    x1 = np.vstack((x, np.ones_like(x)))\n",
        "    f = w.dot(x1).flatten()\n",
        "    error = (y.flatten() - f)\n",
        "    gradient = -(1.0/len(x)) * x1.dot(error) +  l * np.hstack((w[0,],np.zeros_like(w[1])))\n",
        "    return gradient, f\n",
        "\n",
        "\n",
        "# GRADIENT DESCENT\n",
        "\n",
        "w = np.array([10, 2.1]) # Some estimated weights.\n",
        "learning_rate = 0.0005\n",
        "min_abs_change = 1e-5\n",
        "max_iter = 10000\n",
        "l = 1000\n",
        "\n",
        "iterations = 1\n",
        "while True:\n",
        "    gradient, f = grad2L2(w, x, y, l)\n",
        "    w_new = w - learning_rate * gradient\n",
        "    \n",
        "    # Stopping Condition\n",
        "    if np.sum(abs(w_new - w)) < min_abs_change:\n",
        "        break\n",
        "    if iterations > max_iter:\n",
        "        break\n",
        "    \n",
        "    if iterations % (max_iter/10) == 0:\n",
        "        # Plot data\n",
        "        plt.scatter(x, y, c=\"b\", marker='x')\n",
        "        plt.plot(x, f, c=\"r\")\n",
        "        plt.xlabel(\"x\")\n",
        "        plt.ylabel(\"f(x) and y\")\n",
        "    \n",
        "    iterations += 1\n",
        "    w = w_new"
      ],
      "execution_count": 10,
      "outputs": [
        {
          "output_type": "display_data",
          "data": {
            "image/png": "[encoded data removed]",
            "text/plain": [
              "<Figure size 432x288 with 1 Axes>"
            ]
          },
          "metadata": {
            "tags": [],
            "needs_background": "light"
          }
        }
      ]
    },
    {
      "cell_type": "code",
      "metadata": {
        "id": "IaZRZR05TvLC"
      },
      "source": [
        ""
      ],
      "execution_count": null,
      "outputs": []
    }
  ]
}