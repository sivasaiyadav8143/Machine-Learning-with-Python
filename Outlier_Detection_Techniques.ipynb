{
  "nbformat": 4,
  "nbformat_minor": 0,
  "metadata": {
    "colab": {
      "name": "Outlier Detection Techniques.ipynb",
      "provenance": [],
      "include_colab_link": true
    },
    "kernelspec": {
      "name": "python3",
      "display_name": "Python 3"
    }
  },
  "cells": [
    {
      "cell_type": "markdown",
      "metadata": {
        "id": "view-in-github",
        "colab_type": "text"
      },
      "source": [
        "<a href=\"https://colab.research.google.com/github/sivasaiyadav8143/Machine-Learning-with-Python/blob/master/Outlier_Detection_Techniques.ipynb\" target=\"_parent\"><img src=\"https://colab.research.google.com/assets/colab-badge.svg\" alt=\"Open In Colab\"/></a>"
      ]
    },
    {
      "cell_type": "code",
      "metadata": {
        "id": "bZZ3lyBjo4lx"
      },
      "source": [
        ""
      ],
      "execution_count": null,
      "outputs": []
    },
    {
      "cell_type": "markdown",
      "metadata": {
        "id": "wUwSuj5DrcOL"
      },
      "source": [
        "## 1. Local Outlier Factor (LOF)"
      ]
    },
    {
      "cell_type": "markdown",
      "metadata": {
        "id": "t1psES-HrsR3"
      },
      "source": [
        "LOF is an unsupervised (well, semi-supervised) machine learning algorithm that uses the density of data points in the distribution as a key factor to detect outliers.<br>\n",
        "LOF compares the density of any given data point to the density of its neighbors. Since outliers come from low-density areas, the ratio will be higher for anomalous data points. As a rule of thumb, a normal data point has a LOF between 1 and 1.5 whereas anomalous observations will have much higher LOF. The higher the LOF the more likely it is an outlier. If the LOF of point X is 5, it means the average density of X’s neighbors is 5 times higher than its local density."
      ]
    },
    {
      "cell_type": "code",
      "metadata": {
        "id": "POdmO50creX7",
        "outputId": "30fb104a-6c07-47f0-f0f2-56808eeb07d5",
        "colab": {
          "base_uri": "https://localhost:8080/",
          "height": 71
        }
      },
      "source": [
        "# data preparation\n",
        "import pandas as pd\n",
        "import numpy as np\n",
        "# data visualzation\n",
        "import matplotlib.pyplot as plt\n",
        "import seaborn as sns\n",
        "# outlier/anomaly detection\n",
        "from sklearn.neighbors import LocalOutlierFactor"
      ],
      "execution_count": null,
      "outputs": [
        {
          "output_type": "stream",
          "text": [
            "/usr/local/lib/python3.6/dist-packages/statsmodels/tools/_testing.py:19: FutureWarning: pandas.util.testing is deprecated. Use the functions in the public API at pandas.testing instead.\n",
            "  import pandas.util.testing as tm\n"
          ],
          "name": "stderr"
        }
      ]
    },
    {
      "cell_type": "code",
      "metadata": {
        "id": "XRyTSOj3r3BI"
      },
      "source": [
        "# data\n",
        "df = pd.DataFrame(np.array([[0,1], [1,1], [1,2], [2,2], [5,6]]), columns = [\"x\", \"y\"], index = [0,1,2,3,4])"
      ],
      "execution_count": null,
      "outputs": []
    },
    {
      "cell_type": "code",
      "metadata": {
        "id": "JhJWeRuLr4_E",
        "outputId": "9731ba8b-648b-4756-c119-536ed0b48c61",
        "colab": {
          "base_uri": "https://localhost:8080/",
          "height": 265
        }
      },
      "source": [
        "# plot data points\n",
        "plt.scatter(df[\"x\"], df[\"y\"], color = \"b\", s = 65)\n",
        "plt.grid()"
      ],
      "execution_count": null,
      "outputs": [
        {
          "output_type": "display_data",
          "data": {
            "image/png": "[encoded data removed]",
            "text/plain": [
              "<Figure size 432x288 with 1 Axes>"
            ]
          },
          "metadata": {
            "tags": [],
            "needs_background": "light"
          }
        }
      ]
    },
    {
      "cell_type": "code",
      "metadata": {
        "id": "3ARtBzEFr6wU",
        "outputId": "7316e47c-968e-4924-9f82-baa9eaeb7708",
        "colab": {
          "base_uri": "https://localhost:8080/",
          "height": 282
        }
      },
      "source": [
        "# model specification\n",
        "model1 = LocalOutlierFactor(n_neighbors = 2, metric = \"manhattan\", contamination = 0.02)\n",
        "# model fitting\n",
        "y_pred = model1.fit_predict(df)\n",
        "# filter outlier index\n",
        "outlier_index = np.where(y_pred == -1) # negative values are outliers and positives inliers\n",
        "# filter outlier values\n",
        "outlier_values = df.iloc[outlier_index]\n",
        "# plot data\n",
        "plt.scatter(df[\"x\"], df[\"y\"], color = \"b\", s = 65)\n",
        "# plot outlier values\n",
        "plt.scatter(outlier_values[\"x\"], outlier_values[\"y\"], color = \"r\")"
      ],
      "execution_count": null,
      "outputs": [
        {
          "output_type": "execute_result",
          "data": {
            "text/plain": [
              "<matplotlib.collections.PathCollection at 0x7fc065678748>"
            ]
          },
          "metadata": {
            "tags": []
          },
          "execution_count": 6
        },
        {
          "output_type": "display_data",
          "data": {
            "image/png": "[encoded data removed]",
            "text/plain": [
              "<Figure size 432x288 with 1 Axes>"
            ]
          },
          "metadata": {
            "tags": [],
            "needs_background": "light"
          }
        }
      ]
    },
    {
      "cell_type": "markdown",
      "metadata": {
        "id": "JnSieJT3MwxU"
      },
      "source": [
        "## 2. Elliptical Envelope"
      ]
    },
    {
      "cell_type": "markdown",
      "metadata": {
        "id": "EwfyJZA9NHc-"
      },
      "source": [
        "Elliptical Envelope— creates an imaginary elliptical area around a given dataset. Values that fall inside the envelope are considered normal data and anything outside the envelope is returned as outliers. So, naturally, the red data points in the above diagram should be identified as outliers by this algorithm. As evident from this figure, the algorithm works best if data has a Gaussian distribution.<br>\n",
        "<br>\n",
        "<center>\n",
        "<img  src=\"https://github.com/sivasaiyadav8143/Machine-Learning-with-Python/blob/master/Screenshots/Elliptical%20Envelope.png?raw=1\" ></center>"
      ]
    },
    {
      "cell_type": "code",
      "metadata": {
        "id": "da8ZXX9Tr9C0",
        "outputId": "69a74496-8bb5-4977-aa63-f7245e0d5517",
        "colab": {
          "base_uri": "https://localhost:8080/",
          "height": 265
        }
      },
      "source": [
        "# import libraries\n",
        "import pandas as pd\n",
        "import numpy as np\n",
        "from sklearn.covariance import EllipticEnvelope\n",
        "import matplotlib.pyplot as plt\n",
        "\n",
        "# create a dataframe\n",
        "df = pd.DataFrame(np.array([[0,1], [1,1], [1,2], [2,2], [5,6]]), columns = [\"x\", \"y\"], index = [0,1,2,3,4])\n",
        "# show data in a scatterplot\n",
        "plt.scatter(df[\"x\"], df[\"y\"], color = \"r\")\n",
        "plt.grid()"
      ],
      "execution_count": 1,
      "outputs": [
        {
          "output_type": "display_data",
          "data": {
            "image/png": "[encoded data removed]",
            "text/plain": [
              "<Figure size 432x288 with 1 Axes>"
            ]
          },
          "metadata": {
            "tags": [],
            "needs_background": "light"
          }
        }
      ]
    },
    {
      "cell_type": "code",
      "metadata": {
        "id": "9DxXxNoOPfJS"
      },
      "source": [
        "# convert dataframe to arrays\n",
        "data = df[['x', 'y']].values"
      ],
      "execution_count": 2,
      "outputs": []
    },
    {
      "cell_type": "code",
      "metadata": {
        "id": "TFwvvxBwPfAV",
        "outputId": "af03e08c-714e-4b3a-b859-f74ebef54c35",
        "colab": {
          "base_uri": "https://localhost:8080/",
          "height": 51
        }
      },
      "source": [
        "# instantiate model\n",
        "# contamination basically defines the proportion of values that will be identified as outliers. The parameter value ranges between 0 and 0.5\n",
        "model1 = EllipticEnvelope(contamination = 0.1)  \n",
        "# fit model\n",
        "model1.fit(data)"
      ],
      "execution_count": 3,
      "outputs": [
        {
          "output_type": "execute_result",
          "data": {
            "text/plain": [
              "EllipticEnvelope(assume_centered=False, contamination=0.1, random_state=None,\n",
              "                 store_precision=True, support_fraction=None)"
            ]
          },
          "metadata": {
            "tags": []
          },
          "execution_count": 3
        }
      ]
    },
    {
      "cell_type": "code",
      "metadata": {
        "id": "v5p4z2llPxSK",
        "outputId": "59cb0737-3764-4643-e8e2-275ecd79db7a",
        "colab": {
          "base_uri": "https://localhost:8080/",
          "height": 34
        }
      },
      "source": [
        "# new data for prediction (data needs to be in arrays)\n",
        "new_data = np.array([[10,10], [1,1], [1,1], [1,1]])\n",
        "# predict on new data \n",
        "pred1 = model1.predict(new_data)\n",
        "print(pred1)"
      ],
      "execution_count": 4,
      "outputs": [
        {
          "output_type": "stream",
          "text": [
            "[-1  1  1  1]\n"
          ],
          "name": "stdout"
        }
      ]
    },
    {
      "cell_type": "markdown",
      "metadata": {
        "id": "eQKCnKLJP799"
      },
      "source": [
        "The negative value(s) are outliers"
      ]
    },
    {
      "cell_type": "markdown",
      "metadata": {
        "id": "9RetFFoRM_h8"
      },
      "source": [
        "##3. Isolation Forest"
      ]
    },
    {
      "cell_type": "code",
      "metadata": {
        "id": "F0h0YBZVPxIo",
        "outputId": "b763733d-8bea-4c20-bb3d-9de279b99d20",
        "colab": {
          "base_uri": "https://localhost:8080/",
          "height": 34
        }
      },
      "source": [
        "from sklearn.ensemble import IsolationForest\n",
        "\n",
        "clf = IsolationForest(random_state=0).fit(data)\n",
        "\n",
        "# new data for prediction (data needs to be in arrays)\n",
        "new_data = np.array([[10,10], [1,1], [1,1], [1,1]])\n",
        "# predict on new data \n",
        "clf.predict(new_data)"
      ],
      "execution_count": 5,
      "outputs": [
        {
          "output_type": "execute_result",
          "data": {
            "text/plain": [
              "array([-1,  1,  1,  1])"
            ]
          },
          "metadata": {
            "tags": []
          },
          "execution_count": 5
        }
      ]
    },
    {
      "cell_type": "markdown",
      "metadata": {
        "id": "z5QTHvdRRPLI"
      },
      "source": [
        "1. [IsolationForest](https://scikit-learn.org/stable/modules/generated/sklearn.ensemble.IsolationForest.html)\n",
        "2. [How does it work](https://blog.paperspace.com/anomaly-detection-isolation-forest/#:~:text=Isolation%20forest%20is%20a%20machine%20learning%20algorithm%20for%20anomaly%20detection.&text=Isolation%20Forest%20is%20based%20on,min%20values%20of%20that%20feature.)\n"
      ]
    },
    {
      "cell_type": "markdown",
      "metadata": {
        "id": "13cP7ToWwS1G"
      },
      "source": [
        "## PyOD \n",
        "Detecting and treating outliers is also a major cog in the data exploration stage. The quality of your inputs decide the quality of your output!"
      ]
    },
    {
      "cell_type": "markdown",
      "metadata": {
        "id": "5A9WL7fbwdGb"
      },
      "source": [
        "[PyOD](https://github.com/yzhao062/pyod) is a scalable Python toolkit for detecting outliers in multivariate data. It provides access to around 20 outlier detection algorithms under a single [well-documented](https://pyod.readthedocs.io/en/latest/) API."
      ]
    },
    {
      "cell_type": "code",
      "metadata": {
        "id": "4FfoNVfZwUWJ"
      },
      "source": [
        "!pip install pyod\n",
        "!pip install --upgrade pyod  # to make sure that the latest version is installed!"
      ],
      "execution_count": null,
      "outputs": []
    }
  ]
}