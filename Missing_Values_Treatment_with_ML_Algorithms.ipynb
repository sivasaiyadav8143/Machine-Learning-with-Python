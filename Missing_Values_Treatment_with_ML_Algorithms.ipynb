{
  "nbformat": 4,
  "nbformat_minor": 0,
  "metadata": {
    "colab": {
      "name": "Missing Values Treatment with ML Algorithms.ipynb",
      "provenance": [],
      "collapsed_sections": [],
      "authorship_tag": "ABX9TyPKFm4TguSl9c81HMN+7Rrt",
      "include_colab_link": true
    },
    "kernelspec": {
      "name": "python3",
      "display_name": "Python 3"
    }
  },
  "cells": [
    {
      "cell_type": "markdown",
      "metadata": {
        "id": "view-in-github",
        "colab_type": "text"
      },
      "source": [
        "<a href=\"https://colab.research.google.com/github/sivasaiyadav8143/Machine-Learning-with-Python/blob/master/Missing_Values_Treatment_with_ML_Algorithms.ipynb\" target=\"_parent\"><img src=\"https://colab.research.google.com/assets/colab-badge.svg\" alt=\"Open In Colab\"/></a>"
      ]
    },
    {
      "cell_type": "markdown",
      "metadata": {
        "id": "urKQPo7kdG0J",
        "colab_type": "text"
      },
      "source": [
        "**Missing values**, occur when no data value is stored for the variable in an observation.Missing values in the data is a very common problem in Machine Learning because Real-world data often has missing values.There are many reasons for missing values in the data, some are\n",
        "1. observations that were not recorded (During a Survey, when participants refuse, or do not know the answer to or accidentally skip an item.)\n",
        "2. data corruption (errors in computer data that occur during writing, reading, storage, transmission, or processing)\n",
        "\n",
        "Handling missing data is important as many machine learning algorithms do not support data with missing values.\n",
        "\n",
        "There are different ways to deal with missing data<br>\n",
        "\n",
        "1. Mark Missing Values\n",
        "2. Remove Rows/columns With Missing Values\n",
        "3. Impute with mean, median or mode\n",
        "4. **Prediction of missing values**\n",
        "5. **Imputation with Deep Learning**\n",
        "\n",
        "In this notebook, we will see point 4 & 5 how they estimate missing vales.  "
      ]
    },
    {
      "cell_type": "code",
      "metadata": {
        "id": "f79mAH3TRKzs",
        "colab_type": "code",
        "colab": {}
      },
      "source": [
        "import pandas as pd , numpy as np\n",
        "\n",
        "import warnings\n",
        "warnings.filterwarnings('ignore')"
      ],
      "execution_count": 1,
      "outputs": []
    },
    {
      "cell_type": "code",
      "metadata": {
        "id": "mCi30n3rWPme",
        "colab_type": "code",
        "colab": {
          "base_uri": "https://localhost:8080/",
          "height": 204
        },
        "outputId": "90f60945-8aa5-42ae-e4f1-2df8387ec0a6"
      },
      "source": [
        "pima = pd.read_csv('diabetes.csv')\n",
        "pima.head()"
      ],
      "execution_count": 3,
      "outputs": [
        {
          "output_type": "execute_result",
          "data": {
            "text/html": [
              "<div>\n",
              "<style scoped>\n",
              "    .dataframe tbody tr th:only-of-type {\n",
              "        vertical-align: middle;\n",
              "    }\n",
              "\n",
              "    .dataframe tbody tr th {\n",
              "        vertical-align: top;\n",
              "    }\n",
              "\n",
              "    .dataframe thead th {\n",
              "        text-align: right;\n",
              "    }\n",
              "</style>\n",
              "<table border=\"1\" class=\"dataframe\">\n",
              "  <thead>\n",
              "    <tr style=\"text-align: right;\">\n",
              "      <th></th>\n",
              "      <th>Pregnancies</th>\n",
              "      <th>Glucose</th>\n",
              "      <th>BloodPressure</th>\n",
              "      <th>SkinThickness</th>\n",
              "      <th>Insulin</th>\n",
              "      <th>BMI</th>\n",
              "      <th>DiabetesPedigreeFunction</th>\n",
              "      <th>Age</th>\n",
              "      <th>Outcome</th>\n",
              "    </tr>\n",
              "  </thead>\n",
              "  <tbody>\n",
              "    <tr>\n",
              "      <th>0</th>\n",
              "      <td>6</td>\n",
              "      <td>148</td>\n",
              "      <td>72</td>\n",
              "      <td>35</td>\n",
              "      <td>0</td>\n",
              "      <td>33.6</td>\n",
              "      <td>0.627</td>\n",
              "      <td>50</td>\n",
              "      <td>1</td>\n",
              "    </tr>\n",
              "    <tr>\n",
              "      <th>1</th>\n",
              "      <td>1</td>\n",
              "      <td>85</td>\n",
              "      <td>66</td>\n",
              "      <td>29</td>\n",
              "      <td>0</td>\n",
              "      <td>26.6</td>\n",
              "      <td>0.351</td>\n",
              "      <td>31</td>\n",
              "      <td>0</td>\n",
              "    </tr>\n",
              "    <tr>\n",
              "      <th>2</th>\n",
              "      <td>8</td>\n",
              "      <td>183</td>\n",
              "      <td>64</td>\n",
              "      <td>0</td>\n",
              "      <td>0</td>\n",
              "      <td>23.3</td>\n",
              "      <td>0.672</td>\n",
              "      <td>32</td>\n",
              "      <td>1</td>\n",
              "    </tr>\n",
              "    <tr>\n",
              "      <th>3</th>\n",
              "      <td>1</td>\n",
              "      <td>89</td>\n",
              "      <td>66</td>\n",
              "      <td>23</td>\n",
              "      <td>94</td>\n",
              "      <td>28.1</td>\n",
              "      <td>0.167</td>\n",
              "      <td>21</td>\n",
              "      <td>0</td>\n",
              "    </tr>\n",
              "    <tr>\n",
              "      <th>4</th>\n",
              "      <td>0</td>\n",
              "      <td>137</td>\n",
              "      <td>40</td>\n",
              "      <td>35</td>\n",
              "      <td>168</td>\n",
              "      <td>43.1</td>\n",
              "      <td>2.288</td>\n",
              "      <td>33</td>\n",
              "      <td>1</td>\n",
              "    </tr>\n",
              "  </tbody>\n",
              "</table>\n",
              "</div>"
            ],
            "text/plain": [
              "   Pregnancies  Glucose  BloodPressure  ...  DiabetesPedigreeFunction  Age  Outcome\n",
              "0            6      148             72  ...                     0.627   50        1\n",
              "1            1       85             66  ...                     0.351   31        0\n",
              "2            8      183             64  ...                     0.672   32        1\n",
              "3            1       89             66  ...                     0.167   21        0\n",
              "4            0      137             40  ...                     2.288   33        1\n",
              "\n",
              "[5 rows x 9 columns]"
            ]
          },
          "metadata": {
            "tags": []
          },
          "execution_count": 3
        }
      ]
    },
    {
      "cell_type": "code",
      "metadata": {
        "id": "0JU0f-Q3WYyc",
        "colab_type": "code",
        "colab": {
          "base_uri": "https://localhost:8080/",
          "height": 187
        },
        "outputId": "21c2fb36-c283-44ef-f29e-b85af9214608"
      },
      "source": [
        "pima.isna().sum()"
      ],
      "execution_count": 4,
      "outputs": [
        {
          "output_type": "execute_result",
          "data": {
            "text/plain": [
              "Pregnancies                 0\n",
              "Glucose                     0\n",
              "BloodPressure               0\n",
              "SkinThickness               0\n",
              "Insulin                     0\n",
              "BMI                         0\n",
              "DiabetesPedigreeFunction    0\n",
              "Age                         0\n",
              "Outcome                     0\n",
              "dtype: int64"
            ]
          },
          "metadata": {
            "tags": []
          },
          "execution_count": 4
        }
      ]
    },
    {
      "cell_type": "markdown",
      "metadata": {
        "id": "FW0UoGOqcYI5",
        "colab_type": "text"
      },
      "source": [
        "Seems we have no missing values,thats a good news but lets dig a bit more with describe and see if we can find something strange."
      ]
    },
    {
      "cell_type": "code",
      "metadata": {
        "id": "OSXklD40Wb0v",
        "colab_type": "code",
        "colab": {
          "base_uri": "https://localhost:8080/",
          "height": 328
        },
        "outputId": "75c37e91-30a7-41ac-cfcd-485dfb13f0d1"
      },
      "source": [
        "pima.describe().T"
      ],
      "execution_count": 5,
      "outputs": [
        {
          "output_type": "execute_result",
          "data": {
            "text/html": [
              "<div>\n",
              "<style scoped>\n",
              "    .dataframe tbody tr th:only-of-type {\n",
              "        vertical-align: middle;\n",
              "    }\n",
              "\n",
              "    .dataframe tbody tr th {\n",
              "        vertical-align: top;\n",
              "    }\n",
              "\n",
              "    .dataframe thead th {\n",
              "        text-align: right;\n",
              "    }\n",
              "</style>\n",
              "<table border=\"1\" class=\"dataframe\">\n",
              "  <thead>\n",
              "    <tr style=\"text-align: right;\">\n",
              "      <th></th>\n",
              "      <th>count</th>\n",
              "      <th>mean</th>\n",
              "      <th>std</th>\n",
              "      <th>min</th>\n",
              "      <th>25%</th>\n",
              "      <th>50%</th>\n",
              "      <th>75%</th>\n",
              "      <th>max</th>\n",
              "    </tr>\n",
              "  </thead>\n",
              "  <tbody>\n",
              "    <tr>\n",
              "      <th>Pregnancies</th>\n",
              "      <td>768.0</td>\n",
              "      <td>3.845052</td>\n",
              "      <td>3.369578</td>\n",
              "      <td>0.000</td>\n",
              "      <td>1.00000</td>\n",
              "      <td>3.0000</td>\n",
              "      <td>6.00000</td>\n",
              "      <td>17.00</td>\n",
              "    </tr>\n",
              "    <tr>\n",
              "      <th>Glucose</th>\n",
              "      <td>768.0</td>\n",
              "      <td>120.894531</td>\n",
              "      <td>31.972618</td>\n",
              "      <td>0.000</td>\n",
              "      <td>99.00000</td>\n",
              "      <td>117.0000</td>\n",
              "      <td>140.25000</td>\n",
              "      <td>199.00</td>\n",
              "    </tr>\n",
              "    <tr>\n",
              "      <th>BloodPressure</th>\n",
              "      <td>768.0</td>\n",
              "      <td>69.105469</td>\n",
              "      <td>19.355807</td>\n",
              "      <td>0.000</td>\n",
              "      <td>62.00000</td>\n",
              "      <td>72.0000</td>\n",
              "      <td>80.00000</td>\n",
              "      <td>122.00</td>\n",
              "    </tr>\n",
              "    <tr>\n",
              "      <th>SkinThickness</th>\n",
              "      <td>768.0</td>\n",
              "      <td>20.536458</td>\n",
              "      <td>15.952218</td>\n",
              "      <td>0.000</td>\n",
              "      <td>0.00000</td>\n",
              "      <td>23.0000</td>\n",
              "      <td>32.00000</td>\n",
              "      <td>99.00</td>\n",
              "    </tr>\n",
              "    <tr>\n",
              "      <th>Insulin</th>\n",
              "      <td>768.0</td>\n",
              "      <td>79.799479</td>\n",
              "      <td>115.244002</td>\n",
              "      <td>0.000</td>\n",
              "      <td>0.00000</td>\n",
              "      <td>30.5000</td>\n",
              "      <td>127.25000</td>\n",
              "      <td>846.00</td>\n",
              "    </tr>\n",
              "    <tr>\n",
              "      <th>BMI</th>\n",
              "      <td>768.0</td>\n",
              "      <td>31.992578</td>\n",
              "      <td>7.884160</td>\n",
              "      <td>0.000</td>\n",
              "      <td>27.30000</td>\n",
              "      <td>32.0000</td>\n",
              "      <td>36.60000</td>\n",
              "      <td>67.10</td>\n",
              "    </tr>\n",
              "    <tr>\n",
              "      <th>DiabetesPedigreeFunction</th>\n",
              "      <td>768.0</td>\n",
              "      <td>0.471876</td>\n",
              "      <td>0.331329</td>\n",
              "      <td>0.078</td>\n",
              "      <td>0.24375</td>\n",
              "      <td>0.3725</td>\n",
              "      <td>0.62625</td>\n",
              "      <td>2.42</td>\n",
              "    </tr>\n",
              "    <tr>\n",
              "      <th>Age</th>\n",
              "      <td>768.0</td>\n",
              "      <td>33.240885</td>\n",
              "      <td>11.760232</td>\n",
              "      <td>21.000</td>\n",
              "      <td>24.00000</td>\n",
              "      <td>29.0000</td>\n",
              "      <td>41.00000</td>\n",
              "      <td>81.00</td>\n",
              "    </tr>\n",
              "    <tr>\n",
              "      <th>Outcome</th>\n",
              "      <td>768.0</td>\n",
              "      <td>0.348958</td>\n",
              "      <td>0.476951</td>\n",
              "      <td>0.000</td>\n",
              "      <td>0.00000</td>\n",
              "      <td>0.0000</td>\n",
              "      <td>1.00000</td>\n",
              "      <td>1.00</td>\n",
              "    </tr>\n",
              "  </tbody>\n",
              "</table>\n",
              "</div>"
            ],
            "text/plain": [
              "                          count        mean  ...        75%     max\n",
              "Pregnancies               768.0    3.845052  ...    6.00000   17.00\n",
              "Glucose                   768.0  120.894531  ...  140.25000  199.00\n",
              "BloodPressure             768.0   69.105469  ...   80.00000  122.00\n",
              "SkinThickness             768.0   20.536458  ...   32.00000   99.00\n",
              "Insulin                   768.0   79.799479  ...  127.25000  846.00\n",
              "BMI                       768.0   31.992578  ...   36.60000   67.10\n",
              "DiabetesPedigreeFunction  768.0    0.471876  ...    0.62625    2.42\n",
              "Age                       768.0   33.240885  ...   41.00000   81.00\n",
              "Outcome                   768.0    0.348958  ...    1.00000    1.00\n",
              "\n",
              "[9 rows x 8 columns]"
            ]
          },
          "metadata": {
            "tags": []
          },
          "execution_count": 5
        }
      ]
    },
    {
      "cell_type": "markdown",
      "metadata": {
        "id": "mc5HmRoHYxsJ",
        "colab_type": "text"
      },
      "source": [
        "Above we can see that for the columns<br>\n",
        "\n",
        "\n",
        "1.   Glucose\n",
        "2.   BloodPressure\n",
        "3.   SkinThickness\n",
        "4.   Insulin\n",
        "5.   BMI (Body mass index)\n",
        "\n",
        "have a minimum value of zero (0). On these columns, a value of zero does not make sense and thus indicates missing value."
      ]
    },
    {
      "cell_type": "code",
      "metadata": {
        "id": "6dvyyH9WXt8d",
        "colab_type": "code",
        "colab": {}
      },
      "source": [
        "cols = ['Glucose','BloodPressure','SkinThickness','Insulin','BMI']\n",
        "pima_copy = pima.copy(deep=True)\n",
        "pima_copy[cols] = pima_copy[cols].replace(0,np.nan)"
      ],
      "execution_count": 6,
      "outputs": []
    },
    {
      "cell_type": "code",
      "metadata": {
        "id": "qBmbJgeCbxFW",
        "colab_type": "code",
        "colab": {
          "base_uri": "https://localhost:8080/",
          "height": 187
        },
        "outputId": "546d6a59-c9be-4f60-f726-3079bb7d0c0b"
      },
      "source": [
        "pima_copy.isna().sum()"
      ],
      "execution_count": 7,
      "outputs": [
        {
          "output_type": "execute_result",
          "data": {
            "text/plain": [
              "Pregnancies                   0\n",
              "Glucose                       5\n",
              "BloodPressure                35\n",
              "SkinThickness               227\n",
              "Insulin                     374\n",
              "BMI                          11\n",
              "DiabetesPedigreeFunction      0\n",
              "Age                           0\n",
              "Outcome                       0\n",
              "dtype: int64"
            ]
          },
          "metadata": {
            "tags": []
          },
          "execution_count": 7
        }
      ]
    },
    {
      "cell_type": "code",
      "metadata": {
        "id": "tLlvXtZurnWz",
        "colab_type": "code",
        "colab": {
          "base_uri": "https://localhost:8080/",
          "height": 34
        },
        "outputId": "edf55f72-e375-4570-eb20-8f5295a0b301"
      },
      "source": [
        "X = pima_copy.iloc[:,:-1]\n",
        "y = pima_copy.iloc[:,-1]\n",
        "X.shape,y.shape"
      ],
      "execution_count": 8,
      "outputs": [
        {
          "output_type": "execute_result",
          "data": {
            "text/plain": [
              "((768, 8), (768,))"
            ]
          },
          "metadata": {
            "tags": []
          },
          "execution_count": 8
        }
      ]
    },
    {
      "cell_type": "code",
      "metadata": {
        "id": "emOsd6-Prj_g",
        "colab_type": "code",
        "colab": {}
      },
      "source": [
        "from sklearn.model_selection import train_test_split\n",
        "X_train,X_test,y_train,y_test = train_test_split(X,y,test_size=0.3,stratify=y,random_state=14)"
      ],
      "execution_count": 9,
      "outputs": []
    },
    {
      "cell_type": "markdown",
      "metadata": {
        "id": "SQt-1OXDkRvi",
        "colab_type": "text"
      },
      "source": [
        "## Prediction of missing values\n",
        "We will see two popular Algorithm to impute missing values\n",
        "1. KNNImputer (k-Nearest Neighbors imputation)\n",
        "2. MissForest (Random Forest imputation)\n",
        "\n",
        "scikit-learn supports KNNImputer but we will use a new library called **missingpy** which supports both **KNNImputer & MissForest**\n",
        "\n",
        "**Installation** : pip install missingpy"
      ]
    },
    {
      "cell_type": "code",
      "metadata": {
        "id": "K8qzqMXvcsBK",
        "colab_type": "code",
        "colab": {
          "base_uri": "https://localhost:8080/",
          "height": 102
        },
        "outputId": "99a985a6-367c-487e-a44a-e627027d9695"
      },
      "source": [
        "!pip install missingpy"
      ],
      "execution_count": 10,
      "outputs": [
        {
          "output_type": "stream",
          "text": [
            "Collecting missingpy\n",
            "\u001b[?25l  Downloading https://files.pythonhosted.org/packages/b5/be/998d04d27054b58f0974b5f09f8457778a0a72d4355e0b7ae877b6cfb850/missingpy-0.2.0-py3-none-any.whl (49kB)\n",
            "\r\u001b[K     |██████▊                         | 10kB 15.4MB/s eta 0:00:01\r\u001b[K     |█████████████▍                  | 20kB 2.2MB/s eta 0:00:01\r\u001b[K     |████████████████████            | 30kB 2.9MB/s eta 0:00:01\r\u001b[K     |██████████████████████████▊     | 40kB 3.3MB/s eta 0:00:01\r\u001b[K     |████████████████████████████████| 51kB 1.8MB/s \n",
            "\u001b[?25hInstalling collected packages: missingpy\n",
            "Successfully installed missingpy-0.2.0\n"
          ],
          "name": "stdout"
        }
      ]
    },
    {
      "cell_type": "code",
      "metadata": {
        "id": "XCo3VkdblbP_",
        "colab_type": "code",
        "colab": {}
      },
      "source": [
        "from missingpy import KNNImputer\n",
        "imputer = KNNImputer()\n",
        "X_train_imputed = imputer.fit_transform(X_train)\n",
        "X_test_imputed = imputer.transform(X_test)"
      ],
      "execution_count": 11,
      "outputs": []
    },
    {
      "cell_type": "code",
      "metadata": {
        "id": "x_ARashvpxc8",
        "colab_type": "code",
        "colab": {}
      },
      "source": [
        "from sklearn.preprocessing import StandardScaler\n",
        "\n",
        "sc = StandardScaler()\n",
        "X_train_scaled = sc.fit_transform(X_train_imputed)\n",
        "X_test_scaled = sc.transform(X_test_imputed)"
      ],
      "execution_count": 12,
      "outputs": []
    },
    {
      "cell_type": "code",
      "metadata": {
        "id": "SlUA-YYYtIYy",
        "colab_type": "code",
        "colab": {
          "base_uri": "https://localhost:8080/",
          "height": 51
        },
        "outputId": "b68c717c-5a26-48c2-9cc2-70a4b767346c"
      },
      "source": [
        "from sklearn.linear_model import LogisticRegression\n",
        "\n",
        "lr = LogisticRegression()\n",
        "lr.fit(X_train_scaled,y_train)\n",
        "print('Training Score :',lr.score(X_train_scaled,y_train))\n",
        "print('Testing Score :',lr.score(X_test_scaled,y_test))"
      ],
      "execution_count": 13,
      "outputs": [
        {
          "output_type": "stream",
          "text": [
            "Training Score : 0.7746741154562383\n",
            "Testing Score : 0.7575757575757576\n"
          ],
          "name": "stdout"
        }
      ]
    },
    {
      "cell_type": "code",
      "metadata": {
        "id": "lZ4vP3petrMo",
        "colab_type": "code",
        "colab": {
          "base_uri": "https://localhost:8080/",
          "height": 187
        },
        "outputId": "6e6838ae-1ddb-47d6-bdb7-f7422b002d83"
      },
      "source": [
        "from missingpy import MissForest\n",
        "miss = MissForest(max_iter=50,max_depth=3)\n",
        "X_train_imputed_ = miss.fit_transform(X_train)\n",
        "X_test_imputed_ = miss.transform(X_test)"
      ],
      "execution_count": 14,
      "outputs": [
        {
          "output_type": "stream",
          "text": [
            "Iteration: 0\n",
            "Iteration: 1\n",
            "Iteration: 2\n",
            "Iteration: 3\n",
            "Iteration: 4\n",
            "Iteration: 5\n",
            "Iteration: 0\n",
            "Iteration: 1\n",
            "Iteration: 2\n",
            "Iteration: 3\n"
          ],
          "name": "stdout"
        }
      ]
    },
    {
      "cell_type": "code",
      "metadata": {
        "id": "Dxmm1iILuCKu",
        "colab_type": "code",
        "colab": {}
      },
      "source": [
        "sc_tree = StandardScaler()\n",
        "X_train_scaled_ = sc_tree.fit_transform(X_train_imputed_)\n",
        "X_test_scaled_ = sc_tree.transform(X_test_imputed_)"
      ],
      "execution_count": 15,
      "outputs": []
    },
    {
      "cell_type": "code",
      "metadata": {
        "id": "2gnAQIt_uUU4",
        "colab_type": "code",
        "colab": {
          "base_uri": "https://localhost:8080/",
          "height": 51
        },
        "outputId": "e640b6a1-1f95-46bb-d6ac-fceddee7677d"
      },
      "source": [
        "lr.fit(X_train_scaled_,y_train)\n",
        "print('Training Score :',lr.score(X_train_scaled_,y_train))\n",
        "print('Testing Score :',lr.score(X_test_scaled_,y_test))"
      ],
      "execution_count": 16,
      "outputs": [
        {
          "output_type": "stream",
          "text": [
            "Training Score : 0.7802607076350093\n",
            "Testing Score : 0.7662337662337663\n"
          ],
          "name": "stdout"
        }
      ]
    },
    {
      "cell_type": "markdown",
      "metadata": {
        "id": "fwXN0cJvweeP",
        "colab_type": "text"
      },
      "source": [
        "Advantages of MissForest:\n",
        "1. It can be applied to mixed data types, numerical and categorical. Using KNN-Impute on categorical data requires it to be first converted into some numerical measure. \n",
        "2. It is robust to noisy data and multicollinearity.\n",
        "3. It can work with high-dimensional data.\n",
        "\n",
        "Drawbacks:<br>\n",
        "1. if the dataset is sufficiently small it may be more expensive to run MissForest.\n",
        "2. it’s an algorithm, not a model object; this means it must be run every time data is imputed, which may not work in some production environments."
      ]
    },
    {
      "cell_type": "markdown",
      "metadata": {
        "id": "HMIvpkK6do0B",
        "colab_type": "text"
      },
      "source": [
        "# Imputation with Deep Learning\n",
        "We use a Deep Learning Library called **Datawig** to impute missing values.<br>\n",
        "**Datawig** is a library that learns ML models using Deep Neural Networks to impute missing values in the datagram.<br>\n",
        "This method works very well with categorical, continuous, and non-numerical features.<br><br>\n",
        "**Installation** : pip3 install datawig\n",
        "\n"
      ]
    },
    {
      "cell_type": "code",
      "metadata": {
        "id": "ocJO-9fedi9s",
        "colab_type": "code",
        "colab": {
          "base_uri": "https://localhost:8080/",
          "height": 326
        },
        "outputId": "89f149e9-422a-4a9f-fef2-fb81293d9a35"
      },
      "source": [
        "!pip3 install datawig"
      ],
      "execution_count": 17,
      "outputs": [
        {
          "output_type": "stream",
          "text": [
            "Requirement already satisfied: datawig in /usr/local/lib/python3.6/dist-packages (0.2.0)\n",
            "Requirement already satisfied: pandas==0.25.3 in /usr/local/lib/python3.6/dist-packages (from datawig) (0.25.3)\n",
            "Requirement already satisfied: typing==3.6.6 in /usr/local/lib/python3.6/dist-packages (from datawig) (3.6.6)\n",
            "Requirement already satisfied: mxnet==1.4.0 in /usr/local/lib/python3.6/dist-packages (from datawig) (1.4.0)\n",
            "Requirement already satisfied: scikit-learn[alldeps]==0.22.1 in /usr/local/lib/python3.6/dist-packages (from datawig) (0.22.1)\n",
            "Requirement already satisfied: pytz>=2017.2 in /usr/local/lib/python3.6/dist-packages (from pandas==0.25.3->datawig) (2018.9)\n",
            "Requirement already satisfied: numpy>=1.13.3 in /usr/local/lib/python3.6/dist-packages (from pandas==0.25.3->datawig) (1.18.5)\n",
            "Requirement already satisfied: python-dateutil>=2.6.1 in /usr/local/lib/python3.6/dist-packages (from pandas==0.25.3->datawig) (2.8.1)\n",
            "Requirement already satisfied: graphviz<0.9.0,>=0.8.1 in /usr/local/lib/python3.6/dist-packages (from mxnet==1.4.0->datawig) (0.8.4)\n",
            "Requirement already satisfied: requests>=2.20.0 in /usr/local/lib/python3.6/dist-packages (from mxnet==1.4.0->datawig) (2.23.0)\n",
            "Requirement already satisfied: scipy>=0.17.0 in /usr/local/lib/python3.6/dist-packages (from scikit-learn[alldeps]==0.22.1->datawig) (1.4.1)\n",
            "Requirement already satisfied: joblib>=0.11 in /usr/local/lib/python3.6/dist-packages (from scikit-learn[alldeps]==0.22.1->datawig) (0.16.0)\n",
            "Requirement already satisfied: six>=1.5 in /usr/local/lib/python3.6/dist-packages (from python-dateutil>=2.6.1->pandas==0.25.3->datawig) (1.15.0)\n",
            "Requirement already satisfied: chardet<4,>=3.0.2 in /usr/local/lib/python3.6/dist-packages (from requests>=2.20.0->mxnet==1.4.0->datawig) (3.0.4)\n",
            "Requirement already satisfied: idna<3,>=2.5 in /usr/local/lib/python3.6/dist-packages (from requests>=2.20.0->mxnet==1.4.0->datawig) (2.10)\n",
            "Requirement already satisfied: urllib3!=1.25.0,!=1.25.1,<1.26,>=1.21.1 in /usr/local/lib/python3.6/dist-packages (from requests>=2.20.0->mxnet==1.4.0->datawig) (1.24.3)\n",
            "Requirement already satisfied: certifi>=2017.4.17 in /usr/local/lib/python3.6/dist-packages (from requests>=2.20.0->mxnet==1.4.0->datawig) (2020.6.20)\n"
          ],
          "name": "stdout"
        }
      ]
    },
    {
      "cell_type": "code",
      "metadata": {
        "id": "7Fiwl9zpkO0J",
        "colab_type": "code",
        "colab": {}
      },
      "source": [
        "import datawig\n",
        "\n",
        "# impute missing values\n",
        "X_train_imputed = datawig.SimpleImputer.complete(X_train)\n",
        "\n",
        "X_test_imputed = datawig.SimpleImputer.complete(X_test)\n"
      ],
      "execution_count": 18,
      "outputs": []
    },
    {
      "cell_type": "code",
      "metadata": {
        "id": "r-qDTenulbVp",
        "colab_type": "code",
        "colab": {}
      },
      "source": [
        "sc_tree = StandardScaler()\n",
        "X_train_scaled_ = sc_tree.fit_transform(X_train_imputed)\n",
        "X_test_scaled_ = sc_tree.transform(X_test_imputed)"
      ],
      "execution_count": 19,
      "outputs": []
    },
    {
      "cell_type": "code",
      "metadata": {
        "id": "iPVvQGNNlfpG",
        "colab_type": "code",
        "colab": {
          "base_uri": "https://localhost:8080/",
          "height": 51
        },
        "outputId": "e423297c-1190-4bef-f84f-5dc8547cb9a8"
      },
      "source": [
        "lr.fit(X_train_scaled_,y_train)\n",
        "print('Training Score :',lr.score(X_train_scaled_,y_train))\n",
        "print('Testing Score :',lr.score(X_test_scaled_,y_test))"
      ],
      "execution_count": 20,
      "outputs": [
        {
          "output_type": "stream",
          "text": [
            "Training Score : 0.7783985102420856\n",
            "Testing Score : 0.7619047619047619\n"
          ],
          "name": "stdout"
        }
      ]
    },
    {
      "cell_type": "markdown",
      "metadata": {
        "id": "jX2Lr2rhl5AX",
        "colab_type": "text"
      },
      "source": [
        " Imputing values in specific columns only"
      ]
    },
    {
      "cell_type": "code",
      "metadata": {
        "id": "8Ijx7FHFlfWd",
        "colab_type": "code",
        "colab": {}
      },
      "source": [
        "# #Initialize a SimpleImputer model\n",
        "# imputer = datawig.SimpleImputer(\n",
        "#     input_columns=['Pregnancies','DiabetesPedigreeFunction','Age','Outcome'], # column(s) containing information about the column we want to impute\n",
        "#     output_column= 'Glucose', # the column we'd like to impute values for\n",
        "#     # output_path = 'imputer_model' # stores model data and metrics\n",
        "#     )\n",
        "\n",
        "# #Fit an imputer model on the train data\n",
        "# imputer.fit(train_df=X_train, num_epochs=50)\n",
        "\n",
        "# #Impute missing values and return original dataframe with predictions\n",
        "# imputed = imputer.predict(X_test)"
      ],
      "execution_count": null,
      "outputs": []
    },
    {
      "cell_type": "markdown",
      "metadata": {
        "id": "LDaOiAWYvU_A",
        "colab_type": "text"
      },
      "source": [
        "# References\n",
        "1. [missingpy Documentation](https://github.com/epsilon-machine/missingpy)\n",
        "2. https://towardsdatascience.com/missforest-the-best-missing-data-imputation-algorithm-4d01182aed3\n",
        "3. [datawig Documentation](https://github.com/awslabs/datawig)"
      ]
    },
    {
      "cell_type": "code",
      "metadata": {
        "id": "qJ82ERL0vShG",
        "colab_type": "code",
        "colab": {}
      },
      "source": [
        ""
      ],
      "execution_count": null,
      "outputs": []
    }
  ]
}